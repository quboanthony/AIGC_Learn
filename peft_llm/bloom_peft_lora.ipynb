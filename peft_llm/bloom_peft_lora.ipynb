{
 "cells": [
  {
   "cell_type": "code",
   "execution_count": 1,
   "metadata": {},
   "outputs": [
    {
     "name": "stderr",
     "output_type": "stream",
     "text": [
      "c:\\Users\\1\\miniconda3\\envs\\LLM_py310\\lib\\site-packages\\tqdm\\auto.py:21: TqdmWarning: IProgress not found. Please update jupyter and ipywidgets. See https://ipywidgets.readthedocs.io/en/stable/user_install.html\n",
      "  from .autonotebook import tqdm as notebook_tqdm\n"
     ]
    }
   ],
   "source": [
    "from transformers import AutoModelForCausalLM\n",
    "from peft import get_peft_config, get_peft_model, PrefixTuningConfig, TaskType, PeftType,LoraConfig\n",
    "import torch\n",
    "from datasets import load_dataset\n",
    "import os\n",
    "from transformers import AutoTokenizer\n",
    "from torch.utils.data import DataLoader\n",
    "from transformers import default_data_collator, get_linear_schedule_with_warmup\n",
    "from tqdm import tqdm\n",
    "from datasets import load_dataset\n",
    "\n",
    "device = \"cuda\"\n",
    "model_name_or_path = \"bigscience/bloomz-1b7\"\n",
    "tokenizer_name_or_path = \"bigscience/bloomz-1b7\"\n",
    "peft_config = LoraConfig(task_type=TaskType.CAUSAL_LM, inference_mode=False, r=8, lora_alpha=32, lora_dropout=0.1)\n",
    "\n",
    "\n",
    "dataset_name = \"twitter_complaints\"\n",
    "checkpoint_name = f\"{dataset_name}_{model_name_or_path}_{peft_config.peft_type}_{peft_config.task_type}_v1.pt\".replace(\n",
    "    \"/\", \"_\"\n",
    ")\n",
    "text_column = \"Tweet text\"\n",
    "label_column = \"text_label\"\n",
    "max_length = 64\n",
    "lr = 3e-2\n",
    "num_epochs = 1000\n",
    "batch_size = 8"
   ]
  },
  {
   "cell_type": "code",
   "execution_count": 2,
   "metadata": {},
   "outputs": [
    {
     "data": {
      "text/plain": [
       "'2.0.0+cu118'"
      ]
     },
     "execution_count": 2,
     "metadata": {},
     "output_type": "execute_result"
    }
   ],
   "source": [
    "torch.__version__"
   ]
  },
  {
   "cell_type": "code",
   "execution_count": 3,
   "metadata": {},
   "outputs": [
    {
     "name": "stderr",
     "output_type": "stream",
     "text": [
      "Found cached dataset raft (C:/Users/1/.cache/huggingface/datasets/ought___raft/twitter_complaints/1.1.0/79c4de1312c1e3730043f7db07179c914f48403101f7124e2fe336f6f54d9f84)\n",
      "100%|██████████| 2/2 [00:00<00:00, 186.70it/s]\n",
      "Loading cached processed dataset at C:\\Users\\1\\.cache\\huggingface\\datasets\\ought___raft\\twitter_complaints\\1.1.0\\79c4de1312c1e3730043f7db07179c914f48403101f7124e2fe336f6f54d9f84\\cache-c03af01af789f5a4.arrow\n",
      "Loading cached processed dataset at C:\\Users\\1\\.cache\\huggingface\\datasets\\ought___raft\\twitter_complaints\\1.1.0\\79c4de1312c1e3730043f7db07179c914f48403101f7124e2fe336f6f54d9f84\\cache-1b61bb471c5a6285.arrow\n"
     ]
    },
    {
     "name": "stdout",
     "output_type": "stream",
     "text": [
      "['Unlabeled', 'complaint', 'no complaint']\n",
      "DatasetDict({\n",
      "    train: Dataset({\n",
      "        features: ['Tweet text', 'ID', 'Label', 'text_label'],\n",
      "        num_rows: 50\n",
      "    })\n",
      "    test: Dataset({\n",
      "        features: ['Tweet text', 'ID', 'Label', 'text_label'],\n",
      "        num_rows: 3399\n",
      "    })\n",
      "})\n"
     ]
    },
    {
     "data": {
      "text/plain": [
       "{'Tweet text': '@HMRCcustomers No this is my first job',\n",
       " 'ID': 0,\n",
       " 'Label': 2,\n",
       " 'text_label': 'no complaint'}"
      ]
     },
     "execution_count": 3,
     "metadata": {},
     "output_type": "execute_result"
    }
   ],
   "source": [
    "from datasets import load_dataset\n",
    "\n",
    "dataset = load_dataset(\"ought/raft\", dataset_name)\n",
    "\n",
    "classes = [k.replace(\"_\", \" \") for k in dataset[\"train\"].features[\"Label\"].names]\n",
    "print(classes)\n",
    "dataset = dataset.map(\n",
    "    lambda x: {\"text_label\": [classes[label] for label in x[\"Label\"]]},\n",
    "    batched=True,\n",
    "    num_proc=1,\n",
    ")\n",
    "print(dataset)\n",
    "dataset[\"train\"][0]"
   ]
  },
  {
   "cell_type": "code",
   "execution_count": 4,
   "metadata": {},
   "outputs": [
    {
     "name": "stdout",
     "output_type": "stream",
     "text": [
      "3\n"
     ]
    },
    {
     "name": "stderr",
     "output_type": "stream",
     "text": [
      "                                                                                          \r"
     ]
    }
   ],
   "source": [
    "# data preprocessing\n",
    "tokenizer = AutoTokenizer.from_pretrained(model_name_or_path)\n",
    "if tokenizer.pad_token_id is None:\n",
    "    tokenizer.pad_token_id = tokenizer.eos_token_id\n",
    "target_max_length = max([len(tokenizer(class_label)[\"input_ids\"]) for class_label in classes])\n",
    "print(target_max_length)\n",
    "\n",
    "\n",
    "def preprocess_function(examples):\n",
    "    batch_size = len(examples[text_column])\n",
    "    inputs = [f\"{text_column} : {x} Label : \" for x in examples[text_column]]\n",
    "    targets = [str(x) for x in examples[label_column]]\n",
    "    model_inputs = tokenizer(inputs)\n",
    "    labels = tokenizer(targets)\n",
    "    for i in range(batch_size):\n",
    "        sample_input_ids = model_inputs[\"input_ids\"][i]\n",
    "        label_input_ids = labels[\"input_ids\"][i] + [tokenizer.pad_token_id]\n",
    "        # print(i, sample_input_ids, label_input_ids)\n",
    "        model_inputs[\"input_ids\"][i] = sample_input_ids + label_input_ids\n",
    "        labels[\"input_ids\"][i] = [-100] * len(sample_input_ids) + label_input_ids\n",
    "        model_inputs[\"attention_mask\"][i] = [1] * len(model_inputs[\"input_ids\"][i])\n",
    "    # print(model_inputs)\n",
    "    for i in range(batch_size):\n",
    "        sample_input_ids = model_inputs[\"input_ids\"][i]\n",
    "        label_input_ids = labels[\"input_ids\"][i]\n",
    "        model_inputs[\"input_ids\"][i] = [tokenizer.pad_token_id] * (\n",
    "            max_length - len(sample_input_ids)\n",
    "        ) + sample_input_ids\n",
    "        model_inputs[\"attention_mask\"][i] = [0] * (max_length - len(sample_input_ids)) + model_inputs[\n",
    "            \"attention_mask\"\n",
    "        ][i]\n",
    "        labels[\"input_ids\"][i] = [-100] * (max_length - len(sample_input_ids)) + label_input_ids\n",
    "        model_inputs[\"input_ids\"][i] = torch.tensor(model_inputs[\"input_ids\"][i][:max_length])\n",
    "        model_inputs[\"attention_mask\"][i] = torch.tensor(model_inputs[\"attention_mask\"][i][:max_length])\n",
    "        labels[\"input_ids\"][i] = torch.tensor(labels[\"input_ids\"][i][:max_length])\n",
    "    model_inputs[\"labels\"] = labels[\"input_ids\"]\n",
    "    return model_inputs\n",
    "\n",
    "\n",
    "processed_datasets = dataset.map(\n",
    "    preprocess_function,\n",
    "    batched=True,\n",
    "    num_proc=1,\n",
    "    remove_columns=dataset[\"train\"].column_names,\n",
    "    load_from_cache_file=False,\n",
    "    desc=\"Running tokenizer on dataset\",\n",
    ")\n",
    "\n",
    "train_dataset = processed_datasets[\"train\"]\n",
    "eval_dataset = processed_datasets[\"train\"]\n",
    "\n",
    "\n",
    "train_dataloader = DataLoader(\n",
    "    train_dataset, shuffle=True, collate_fn=default_data_collator, batch_size=batch_size, pin_memory=True\n",
    ")\n",
    "eval_dataloader = DataLoader(eval_dataset, collate_fn=default_data_collator, batch_size=batch_size, pin_memory=True)\n"
   ]
  },
  {
   "cell_type": "code",
   "execution_count": 5,
   "metadata": {},
   "outputs": [
    {
     "name": "stderr",
     "output_type": "stream",
     "text": [
      "                                                                                           \r"
     ]
    },
    {
     "data": {
      "text/plain": [
       "{'input_ids': tensor([[     3,      3,      3,      3,      3,      3,      3,      3,      3,\n",
       "               3,      3,      3,      3,      3,      3,      3,      3,      3,\n",
       "               3,      3,      3,      3,      3,      3,      3,      3,      3,\n",
       "          227985,   5484,    915,   2566,  74757,  64626,  12384,  44639,    613,\n",
       "           52282,   2670,  79920,   3344,   1002,    368,  17646,  14472,   8348,\n",
       "             664,    718,      4,  19036,     17,  31849,     17,   6312,     76,\n",
       "              44,  62470,     56,     91,     50,  14839,     21,  77658,    915,\n",
       "             210],\n",
       "         [     3,      3,      3,      3,      3,      3,      3,      3,      3,\n",
       "               3,      3,      3,      3,      3,      3,      3,      3,      3,\n",
       "               3,      3,      3,      3,      3,      3,      3,      3,      3,\n",
       "               3,      3,      3,      3, 227985,   5484,    915,    405, 187059,\n",
       "            2256,    664,   2550,  18833,  18607, 162467,      4,   1387,   6199,\n",
       "            3291,  23405,    613,   4657,  17082,    566,   3432,    368,  78851,\n",
       "            1185,  61273,  23181,   1553,  15596,    212, 116057,  77658,    915,\n",
       "             210],\n",
       "         [     3,      3,      3,      3,      3,      3,      3,      3,      3,\n",
       "               3,      3,      3,      3,      3,      3,      3,      3,      3,\n",
       "               3,      3,      3,      3,      3,      3,      3,      3,      3,\n",
       "               3,      3,      3,      3,      3,      3,      3, 227985,   5484,\n",
       "             915,  39762,   2566,  22253,   6201,  75701,     15,    632,    718,\n",
       "            5840,  10006,   6201,  18881,    427,   3804,  19528,    267, 158974,\n",
       "            1320,    368,  10029,    632,  49666,     92,     34,  77658,    915,\n",
       "             210],\n",
       "         [     3,      3,      3,      3,      3,      3,      3,      3,      3,\n",
       "               3,      3,      3,      3,      3,      3,      3,      3,      3,\n",
       "               3, 227985,   5484,    915,   2566, 104565,   8695,   2089,   6140,\n",
       "          109676,  99579,   1369,    512,    368,   4570,     54,    632,    368,\n",
       "            1503, 241485, 132226,     15,    982,    727,   1152,  18100,    861,\n",
       "           32596,  77597, 168154,   1306, 132226,   4346,  87843,     17, 130462,\n",
       "             364,  32923,     89,     53,   8309,     20,     75,  77658,    915,\n",
       "             210],\n",
       "         [     3,      3,      3,      3,      3,      3,      3,      3,      3,\n",
       "               3,      3,      3,      3,      3,      3,      3,      3,      3,\n",
       "               3,      3,      3,      3,      3,      3,      3,      3,      3,\n",
       "               3,      3,      3,      3,      3,      3,      3,      3,      3,\n",
       "               3,      3,      3,      3,      3,      3,      3,      3,      3,\n",
       "               3,      3,      3,      3,      3, 227985,   5484,    915,   2566,\n",
       "           14173,   2960,  29906,    387,  20706,  49337,   1369,  77658,    915,\n",
       "             210],\n",
       "         [     3,      3,      3,      3,      3,      3,      3,      3,      3,\n",
       "               3,      3,      3,      3,      3,      3,      3,      3,      3,\n",
       "               3,      3,      3,      3,      3,      3,      3,      3,      3,\n",
       "               3,      3,      3,      3,      3,      3,      3,      3,      3,\n",
       "               3,      3,      3,      3,      3,      3,      3,      3,      3,\n",
       "               3,      3,      3, 227985,   5484,    915,   2566, 219553,  45736,\n",
       "           36876,   1713,     72,    707, 187205,  13002, 177324,  77658,    915,\n",
       "             210],\n",
       "         [     3,      3,      3,      3,      3,      3,      3,      3,      3,\n",
       "               3,      3,      3,      3,      3,      3,      3,      3,      3,\n",
       "               3,      3, 227985,   5484,    915,   2566, 233938,  28518,  13716,\n",
       "             427,  28146,   1119,  17918,     17, 236706,    368, 214997,   7555,\n",
       "           48659,   5276,  21600,    343,     17,  51416,  22403,    318,   1531,\n",
       "            1306,   1130,  20934,    567, 101161, 184849,  87843,     17,   1594,\n",
       "           15231,   2052,  16642,     20,   7180,     80,     26,  77658,    915,\n",
       "             210],\n",
       "         [     3,      3,      3,      3,      3,      3,      3,      3,      3,\n",
       "               3,      3,      3,      3,      3,      3,      3,      3,      3,\n",
       "          227985,   5484,    915,   2566,     80,   2068,    479,   2566,     80,\n",
       "            1376,    878, 147587,   3904,    632,    368,   6084,  65673,  78851,\n",
       "           11736,  15527,  19082,  33151,    461,     17,  45575,  17887,    632,\n",
       "            5219,  14216,  68870,   5967,   1841,   4346,  87843,     17,   1594,\n",
       "           14512,     27,     71,   8184,     19,    290,  63748,  77658,    915,\n",
       "             210]]),\n",
       " 'attention_mask': tensor([[0, 0, 0, 0, 0, 0, 0, 0, 0, 0, 0, 0, 0, 0, 0, 0, 0, 0, 0, 0, 0, 0, 0, 0,\n",
       "          0, 0, 0, 1, 1, 1, 1, 1, 1, 1, 1, 1, 1, 1, 1, 1, 1, 1, 1, 1, 1, 1, 1, 1,\n",
       "          1, 1, 1, 1, 1, 1, 1, 1, 1, 1, 1, 1, 1, 1, 1, 1],\n",
       "         [0, 0, 0, 0, 0, 0, 0, 0, 0, 0, 0, 0, 0, 0, 0, 0, 0, 0, 0, 0, 0, 0, 0, 0,\n",
       "          0, 0, 0, 0, 0, 0, 0, 1, 1, 1, 1, 1, 1, 1, 1, 1, 1, 1, 1, 1, 1, 1, 1, 1,\n",
       "          1, 1, 1, 1, 1, 1, 1, 1, 1, 1, 1, 1, 1, 1, 1, 1],\n",
       "         [0, 0, 0, 0, 0, 0, 0, 0, 0, 0, 0, 0, 0, 0, 0, 0, 0, 0, 0, 0, 0, 0, 0, 0,\n",
       "          0, 0, 0, 0, 0, 0, 0, 0, 0, 0, 1, 1, 1, 1, 1, 1, 1, 1, 1, 1, 1, 1, 1, 1,\n",
       "          1, 1, 1, 1, 1, 1, 1, 1, 1, 1, 1, 1, 1, 1, 1, 1],\n",
       "         [0, 0, 0, 0, 0, 0, 0, 0, 0, 0, 0, 0, 0, 0, 0, 0, 0, 0, 0, 1, 1, 1, 1, 1,\n",
       "          1, 1, 1, 1, 1, 1, 1, 1, 1, 1, 1, 1, 1, 1, 1, 1, 1, 1, 1, 1, 1, 1, 1, 1,\n",
       "          1, 1, 1, 1, 1, 1, 1, 1, 1, 1, 1, 1, 1, 1, 1, 1],\n",
       "         [0, 0, 0, 0, 0, 0, 0, 0, 0, 0, 0, 0, 0, 0, 0, 0, 0, 0, 0, 0, 0, 0, 0, 0,\n",
       "          0, 0, 0, 0, 0, 0, 0, 0, 0, 0, 0, 0, 0, 0, 0, 0, 0, 0, 0, 0, 0, 0, 0, 0,\n",
       "          0, 0, 1, 1, 1, 1, 1, 1, 1, 1, 1, 1, 1, 1, 1, 1],\n",
       "         [0, 0, 0, 0, 0, 0, 0, 0, 0, 0, 0, 0, 0, 0, 0, 0, 0, 0, 0, 0, 0, 0, 0, 0,\n",
       "          0, 0, 0, 0, 0, 0, 0, 0, 0, 0, 0, 0, 0, 0, 0, 0, 0, 0, 0, 0, 0, 0, 0, 0,\n",
       "          1, 1, 1, 1, 1, 1, 1, 1, 1, 1, 1, 1, 1, 1, 1, 1],\n",
       "         [0, 0, 0, 0, 0, 0, 0, 0, 0, 0, 0, 0, 0, 0, 0, 0, 0, 0, 0, 0, 1, 1, 1, 1,\n",
       "          1, 1, 1, 1, 1, 1, 1, 1, 1, 1, 1, 1, 1, 1, 1, 1, 1, 1, 1, 1, 1, 1, 1, 1,\n",
       "          1, 1, 1, 1, 1, 1, 1, 1, 1, 1, 1, 1, 1, 1, 1, 1],\n",
       "         [0, 0, 0, 0, 0, 0, 0, 0, 0, 0, 0, 0, 0, 0, 0, 0, 0, 0, 1, 1, 1, 1, 1, 1,\n",
       "          1, 1, 1, 1, 1, 1, 1, 1, 1, 1, 1, 1, 1, 1, 1, 1, 1, 1, 1, 1, 1, 1, 1, 1,\n",
       "          1, 1, 1, 1, 1, 1, 1, 1, 1, 1, 1, 1, 1, 1, 1, 1]])}"
      ]
     },
     "execution_count": 5,
     "metadata": {},
     "output_type": "execute_result"
    }
   ],
   "source": [
    "def test_preprocess_function(examples):\n",
    "    batch_size = len(examples[text_column])\n",
    "    inputs = [f\"{text_column} : {x} Label : \" for x in examples[text_column]]\n",
    "    model_inputs = tokenizer(inputs)\n",
    "    # print(model_inputs)\n",
    "    for i in range(batch_size):\n",
    "        sample_input_ids = model_inputs[\"input_ids\"][i]\n",
    "        model_inputs[\"input_ids\"][i] = [tokenizer.pad_token_id] * (\n",
    "            max_length - len(sample_input_ids)\n",
    "        ) + sample_input_ids\n",
    "        model_inputs[\"attention_mask\"][i] = [0] * (max_length - len(sample_input_ids)) + model_inputs[\n",
    "            \"attention_mask\"\n",
    "        ][i]\n",
    "        model_inputs[\"input_ids\"][i] = torch.tensor(model_inputs[\"input_ids\"][i][:max_length])\n",
    "        model_inputs[\"attention_mask\"][i] = torch.tensor(model_inputs[\"attention_mask\"][i][:max_length])\n",
    "    return model_inputs\n",
    "\n",
    "\n",
    "test_dataset = dataset[\"test\"].map(\n",
    "    test_preprocess_function,\n",
    "    batched=True,\n",
    "    num_proc=1,\n",
    "    remove_columns=dataset[\"train\"].column_names,\n",
    "    load_from_cache_file=False,\n",
    "    desc=\"Running tokenizer on dataset\",\n",
    ")\n",
    "\n",
    "test_dataloader = DataLoader(test_dataset, collate_fn=default_data_collator, batch_size=batch_size, pin_memory=True)\n",
    "next(iter(test_dataloader))"
   ]
  },
  {
   "cell_type": "code",
   "execution_count": 6,
   "metadata": {},
   "outputs": [
    {
     "name": "stderr",
     "output_type": "stream",
     "text": [
      "c:\\Users\\1\\miniconda3\\envs\\LLM_py310\\lib\\site-packages\\peft\\tuners\\lora.py:173: UserWarning: fan_in_fan_out is set to True but the target module is not a Conv1D. Setting fan_in_fan_out to False.\n",
      "  warnings.warn(\n"
     ]
    },
    {
     "name": "stdout",
     "output_type": "stream",
     "text": [
      "trainable params: 1572864 || all params: 1723981824 || trainable%: 0.09123437254985815\n"
     ]
    },
    {
     "data": {
      "text/plain": [
       "PeftModelForCausalLM(\n",
       "  (base_model): LoraModel(\n",
       "    (model): BloomForCausalLM(\n",
       "      (transformer): BloomModel(\n",
       "        (word_embeddings): Embedding(250880, 2048)\n",
       "        (word_embeddings_layernorm): LayerNorm((2048,), eps=1e-05, elementwise_affine=True)\n",
       "        (h): ModuleList(\n",
       "          (0-23): 24 x BloomBlock(\n",
       "            (input_layernorm): LayerNorm((2048,), eps=1e-05, elementwise_affine=True)\n",
       "            (self_attention): BloomAttention(\n",
       "              (query_key_value): MergedLinear(\n",
       "                in_features=2048, out_features=6144, bias=True\n",
       "                (lora_dropout): Dropout(p=0.1, inplace=False)\n",
       "                (lora_A): Linear(in_features=2048, out_features=16, bias=False)\n",
       "                (lora_B): Conv1d(16, 4096, kernel_size=(1,), stride=(1,), groups=2, bias=False)\n",
       "              )\n",
       "              (dense): Linear(in_features=2048, out_features=2048, bias=True)\n",
       "              (attention_dropout): Dropout(p=0.0, inplace=False)\n",
       "            )\n",
       "            (post_attention_layernorm): LayerNorm((2048,), eps=1e-05, elementwise_affine=True)\n",
       "            (mlp): BloomMLP(\n",
       "              (dense_h_to_4h): Linear(in_features=2048, out_features=8192, bias=True)\n",
       "              (gelu_impl): BloomGelu()\n",
       "              (dense_4h_to_h): Linear(in_features=8192, out_features=2048, bias=True)\n",
       "            )\n",
       "          )\n",
       "        )\n",
       "        (ln_f): LayerNorm((2048,), eps=1e-05, elementwise_affine=True)\n",
       "      )\n",
       "      (lm_head): Linear(in_features=2048, out_features=250880, bias=False)\n",
       "    )\n",
       "  )\n",
       ")"
      ]
     },
     "execution_count": 6,
     "metadata": {},
     "output_type": "execute_result"
    }
   ],
   "source": [
    "# creating model\n",
    "peft_config.fan_in_fan_out = False\n",
    "model = AutoModelForCausalLM.from_pretrained(model_name_or_path)\n",
    "model = get_peft_model(model, peft_config)\n",
    "model.print_trainable_parameters()\n",
    "model"
   ]
  },
  {
   "cell_type": "code",
   "execution_count": null,
   "metadata": {},
   "outputs": [],
   "source": []
  },
  {
   "cell_type": "code",
   "execution_count": 7,
   "metadata": {},
   "outputs": [],
   "source": [
    "# data preprocessing\n",
    "tokenizer = AutoTokenizer.from_pretrained(model_name_or_path)"
   ]
  },
  {
   "cell_type": "code",
   "execution_count": 8,
   "metadata": {},
   "outputs": [
    {
     "name": "stderr",
     "output_type": "stream",
     "text": [
      "c:\\Users\\1\\miniconda3\\envs\\LLM_py310\\lib\\site-packages\\transformers\\generation\\utils.py:1288: UserWarning: Using `max_length`'s default (20) to control the generation length. This behaviour is deprecated and will be removed from the config in v5 of Transformers -- we recommend using `max_new_tokens` to control the maximum length of the generation.\n",
      "  warnings.warn(\n",
      "Input length of input_ids is 34, but `max_length` is set to 20. This can lead to unexpected behavior. You should consider increasing `max_new_tokens`.\n"
     ]
    },
    {
     "name": "stdout",
     "output_type": "stream",
     "text": [
      "Hey @nytimes your link to cancel my subscription isn't working and nobody is answering the chat. Please don't play that kind of stupid game.\n",
      "Unlabeled\n",
      "{'input_ids': tensor([[227985,   5484,    915,  54078,   2566,   7782,  24502,   2632,   8989,\n",
      "            427,  36992,   2670, 140711,  21994,  10789,    530,  88399,    632,\n",
      "         183542,    368,  44799,     17,  29901,   5926,   7229,    861,  11596,\n",
      "            461,  78851,  14775,     17,  77658,    915,    210]]), 'attention_mask': tensor([[1, 1, 1, 1, 1, 1, 1, 1, 1, 1, 1, 1, 1, 1, 1, 1, 1, 1, 1, 1, 1, 1, 1, 1,\n",
      "         1, 1, 1, 1, 1, 1, 1, 1, 1, 1]])}\n",
      "tensor([[227985,   5484,    915,  54078,   2566,   7782,  24502,   2632,   8989,\n",
      "            427,  36992,   2670, 140711,  21994,  10789,    530,  88399,    632,\n",
      "         183542,    368,  44799,     17,  29901,   5926,   7229,    861,  11596,\n",
      "            461,  78851,  14775,     17,  77658,    915,    210,   2566]])\n",
      "[\"Tweet text : Hey @nytimes your link to cancel my subscription isn't working and nobody is answering the chat. Please don't play that kind of stupid game. Label :  @\"]\n"
     ]
    }
   ],
   "source": [
    "\n",
    "\n",
    "model.eval()\n",
    "i = 16\n",
    "inputs = tokenizer(f'{text_column} : {dataset[\"test\"][i][\"Tweet text\"]} Label : ', return_tensors=\"pt\")\n",
    "print(dataset[\"test\"][i][\"Tweet text\"])\n",
    "print(dataset[\"test\"][i][\"text_label\"])\n",
    "print(inputs)\n",
    "\n",
    "output_before_ft=model.generate(**inputs)\n",
    "\n",
    "print(output_before_ft)\n",
    "print(tokenizer.batch_decode(output_before_ft.detach().cpu().numpy(), skip_special_tokens=True))"
   ]
  },
  {
   "cell_type": "code",
   "execution_count": 9,
   "metadata": {},
   "outputs": [],
   "source": [
    "# model\n",
    "# optimizer and lr scheduler\n",
    "optimizer = torch.optim.AdamW(model.parameters(), lr=lr)\n",
    "lr_scheduler = get_linear_schedule_with_warmup(\n",
    "    optimizer=optimizer,\n",
    "    num_warmup_steps=0,\n",
    "    num_training_steps=(len(train_dataloader) * num_epochs),\n",
    ")"
   ]
  },
  {
   "cell_type": "code",
   "execution_count": 10,
   "metadata": {},
   "outputs": [
    {
     "name": "stderr",
     "output_type": "stream",
     "text": [
      "100%|██████████| 7/7 [00:13<00:00,  1.89s/it]\n",
      "100%|██████████| 7/7 [00:02<00:00,  2.75it/s]\n"
     ]
    },
    {
     "name": "stdout",
     "output_type": "stream",
     "text": [
      "epoch=0: train_ppl=tensor(2147057.7500, device='cuda:0') train_epoch_loss=tensor(14.5796, device='cuda:0') eval_ppl=tensor(17055.5391, device='cuda:0') eval_epoch_loss=tensor(9.7442, device='cuda:0')\n"
     ]
    },
    {
     "name": "stderr",
     "output_type": "stream",
     "text": [
      "100%|██████████| 7/7 [00:12<00:00,  1.72s/it]\n",
      "100%|██████████| 7/7 [00:01<00:00,  3.74it/s]\n"
     ]
    },
    {
     "name": "stdout",
     "output_type": "stream",
     "text": [
      "epoch=1: train_ppl=tensor(2247.4985, device='cuda:0') train_epoch_loss=tensor(7.7176, device='cuda:0') eval_ppl=tensor(70189.1406, device='cuda:0') eval_epoch_loss=tensor(11.1589, device='cuda:0')\n"
     ]
    },
    {
     "name": "stderr",
     "output_type": "stream",
     "text": [
      "100%|██████████| 7/7 [00:10<00:00,  1.55s/it]\n",
      "100%|██████████| 7/7 [00:02<00:00,  3.03it/s]\n"
     ]
    },
    {
     "name": "stdout",
     "output_type": "stream",
     "text": [
      "epoch=2: train_ppl=tensor(768.9080, device='cuda:0') train_epoch_loss=tensor(6.6450, device='cuda:0') eval_ppl=tensor(179.1304, device='cuda:0') eval_epoch_loss=tensor(5.1881, device='cuda:0')\n"
     ]
    },
    {
     "name": "stderr",
     "output_type": "stream",
     "text": [
      "100%|██████████| 7/7 [00:11<00:00,  1.60s/it]\n",
      "100%|██████████| 7/7 [00:02<00:00,  2.35it/s]\n"
     ]
    },
    {
     "name": "stdout",
     "output_type": "stream",
     "text": [
      "epoch=3: train_ppl=tensor(156.2501, device='cuda:0') train_epoch_loss=tensor(5.0515, device='cuda:0') eval_ppl=tensor(126.2592, device='cuda:0') eval_epoch_loss=tensor(4.8383, device='cuda:0')\n"
     ]
    },
    {
     "name": "stderr",
     "output_type": "stream",
     "text": [
      "100%|██████████| 7/7 [00:11<00:00,  1.64s/it]\n",
      "100%|██████████| 7/7 [00:02<00:00,  3.22it/s]\n"
     ]
    },
    {
     "name": "stdout",
     "output_type": "stream",
     "text": [
      "epoch=4: train_ppl=tensor(114.6100, device='cuda:0') train_epoch_loss=tensor(4.7415, device='cuda:0') eval_ppl=tensor(91.6228, device='cuda:0') eval_epoch_loss=tensor(4.5177, device='cuda:0')\n"
     ]
    },
    {
     "name": "stderr",
     "output_type": "stream",
     "text": [
      "100%|██████████| 7/7 [00:11<00:00,  1.68s/it]\n",
      "100%|██████████| 7/7 [00:02<00:00,  2.94it/s]\n"
     ]
    },
    {
     "name": "stdout",
     "output_type": "stream",
     "text": [
      "epoch=5: train_ppl=tensor(94.5421, device='cuda:0') train_epoch_loss=tensor(4.5490, device='cuda:0') eval_ppl=tensor(72.7907, device='cuda:0') eval_epoch_loss=tensor(4.2876, device='cuda:0')\n"
     ]
    },
    {
     "name": "stderr",
     "output_type": "stream",
     "text": [
      "100%|██████████| 7/7 [00:11<00:00,  1.68s/it]\n",
      "100%|██████████| 7/7 [00:02<00:00,  3.05it/s]\n"
     ]
    },
    {
     "name": "stdout",
     "output_type": "stream",
     "text": [
      "epoch=6: train_ppl=tensor(73.7979, device='cuda:0') train_epoch_loss=tensor(4.3013, device='cuda:0') eval_ppl=tensor(64.8535, device='cuda:0') eval_epoch_loss=tensor(4.1721, device='cuda:0')\n"
     ]
    },
    {
     "name": "stderr",
     "output_type": "stream",
     "text": [
      "100%|██████████| 7/7 [00:11<00:00,  1.61s/it]\n",
      "100%|██████████| 7/7 [00:02<00:00,  2.88it/s]\n"
     ]
    },
    {
     "name": "stdout",
     "output_type": "stream",
     "text": [
      "epoch=7: train_ppl=tensor(57.5551, device='cuda:0') train_epoch_loss=tensor(4.0527, device='cuda:0') eval_ppl=tensor(50.0166, device='cuda:0') eval_epoch_loss=tensor(3.9124, device='cuda:0')\n"
     ]
    },
    {
     "name": "stderr",
     "output_type": "stream",
     "text": [
      "100%|██████████| 7/7 [00:11<00:00,  1.57s/it]\n",
      "100%|██████████| 7/7 [00:02<00:00,  3.41it/s]\n"
     ]
    },
    {
     "name": "stdout",
     "output_type": "stream",
     "text": [
      "epoch=8: train_ppl=tensor(40.9635, device='cuda:0') train_epoch_loss=tensor(3.7127, device='cuda:0') eval_ppl=tensor(33.1957, device='cuda:0') eval_epoch_loss=tensor(3.5024, device='cuda:0')\n"
     ]
    },
    {
     "name": "stderr",
     "output_type": "stream",
     "text": [
      "100%|██████████| 7/7 [00:11<00:00,  1.63s/it]\n",
      "100%|██████████| 7/7 [00:02<00:00,  3.03it/s]\n"
     ]
    },
    {
     "name": "stdout",
     "output_type": "stream",
     "text": [
      "epoch=9: train_ppl=tensor(27.8738, device='cuda:0') train_epoch_loss=tensor(3.3277, device='cuda:0') eval_ppl=tensor(22.1042, device='cuda:0') eval_epoch_loss=tensor(3.0958, device='cuda:0')\n"
     ]
    },
    {
     "name": "stderr",
     "output_type": "stream",
     "text": [
      "100%|██████████| 7/7 [00:11<00:00,  1.64s/it]\n",
      "100%|██████████| 7/7 [00:02<00:00,  3.40it/s]\n"
     ]
    },
    {
     "name": "stdout",
     "output_type": "stream",
     "text": [
      "epoch=10: train_ppl=tensor(19.4574, device='cuda:0') train_epoch_loss=tensor(2.9682, device='cuda:0') eval_ppl=tensor(15.2874, device='cuda:0') eval_epoch_loss=tensor(2.7270, device='cuda:0')\n"
     ]
    },
    {
     "name": "stderr",
     "output_type": "stream",
     "text": [
      "100%|██████████| 7/7 [00:11<00:00,  1.66s/it]\n",
      "100%|██████████| 7/7 [00:02<00:00,  2.86it/s]\n"
     ]
    },
    {
     "name": "stdout",
     "output_type": "stream",
     "text": [
      "epoch=11: train_ppl=tensor(12.5436, device='cuda:0') train_epoch_loss=tensor(2.5292, device='cuda:0') eval_ppl=tensor(10.3358, device='cuda:0') eval_epoch_loss=tensor(2.3356, device='cuda:0')\n"
     ]
    },
    {
     "name": "stderr",
     "output_type": "stream",
     "text": [
      "100%|██████████| 7/7 [00:11<00:00,  1.70s/it]\n",
      "100%|██████████| 7/7 [00:04<00:00,  1.52it/s]\n"
     ]
    },
    {
     "name": "stdout",
     "output_type": "stream",
     "text": [
      "epoch=12: train_ppl=tensor(8.8557, device='cuda:0') train_epoch_loss=tensor(2.1811, device='cuda:0') eval_ppl=tensor(7.6037, device='cuda:0') eval_epoch_loss=tensor(2.0286, device='cuda:0')\n"
     ]
    },
    {
     "name": "stderr",
     "output_type": "stream",
     "text": [
      "100%|██████████| 7/7 [00:11<00:00,  1.65s/it]\n",
      "100%|██████████| 7/7 [00:04<00:00,  1.44it/s]\n"
     ]
    },
    {
     "name": "stdout",
     "output_type": "stream",
     "text": [
      "epoch=13: train_ppl=tensor(6.5369, device='cuda:0') train_epoch_loss=tensor(1.8775, device='cuda:0') eval_ppl=tensor(6.0813, device='cuda:0') eval_epoch_loss=tensor(1.8052, device='cuda:0')\n"
     ]
    },
    {
     "name": "stderr",
     "output_type": "stream",
     "text": [
      "100%|██████████| 7/7 [00:10<00:00,  1.53s/it]\n",
      "100%|██████████| 7/7 [00:05<00:00,  1.35it/s]\n"
     ]
    },
    {
     "name": "stdout",
     "output_type": "stream",
     "text": [
      "epoch=14: train_ppl=tensor(5.7905, device='cuda:0') train_epoch_loss=tensor(1.7562, device='cuda:0') eval_ppl=tensor(5.8329, device='cuda:0') eval_epoch_loss=tensor(1.7635, device='cuda:0')\n"
     ]
    },
    {
     "name": "stderr",
     "output_type": "stream",
     "text": [
      "100%|██████████| 7/7 [00:10<00:00,  1.47s/it]\n",
      "100%|██████████| 7/7 [00:04<00:00,  1.49it/s]\n"
     ]
    },
    {
     "name": "stdout",
     "output_type": "stream",
     "text": [
      "epoch=15: train_ppl=tensor(5.5424, device='cuda:0') train_epoch_loss=tensor(1.7124, device='cuda:0') eval_ppl=tensor(5.1194, device='cuda:0') eval_epoch_loss=tensor(1.6330, device='cuda:0')\n"
     ]
    },
    {
     "name": "stderr",
     "output_type": "stream",
     "text": [
      "100%|██████████| 7/7 [00:10<00:00,  1.43s/it]\n",
      "100%|██████████| 7/7 [00:04<00:00,  1.55it/s]\n"
     ]
    },
    {
     "name": "stdout",
     "output_type": "stream",
     "text": [
      "epoch=16: train_ppl=tensor(5.4518, device='cuda:0') train_epoch_loss=tensor(1.6959, device='cuda:0') eval_ppl=tensor(5.1051, device='cuda:0') eval_epoch_loss=tensor(1.6302, device='cuda:0')\n"
     ]
    },
    {
     "name": "stderr",
     "output_type": "stream",
     "text": [
      "100%|██████████| 7/7 [00:10<00:00,  1.50s/it]\n",
      "100%|██████████| 7/7 [00:04<00:00,  1.56it/s]\n"
     ]
    },
    {
     "name": "stdout",
     "output_type": "stream",
     "text": [
      "epoch=17: train_ppl=tensor(5.0996, device='cuda:0') train_epoch_loss=tensor(1.6292, device='cuda:0') eval_ppl=tensor(5.0111, device='cuda:0') eval_epoch_loss=tensor(1.6117, device='cuda:0')\n"
     ]
    },
    {
     "name": "stderr",
     "output_type": "stream",
     "text": [
      "100%|██████████| 7/7 [00:10<00:00,  1.45s/it]\n",
      "100%|██████████| 7/7 [00:04<00:00,  1.61it/s]\n"
     ]
    },
    {
     "name": "stdout",
     "output_type": "stream",
     "text": [
      "epoch=18: train_ppl=tensor(4.8039, device='cuda:0') train_epoch_loss=tensor(1.5694, device='cuda:0') eval_ppl=tensor(4.7597, device='cuda:0') eval_epoch_loss=tensor(1.5602, device='cuda:0')\n"
     ]
    },
    {
     "name": "stderr",
     "output_type": "stream",
     "text": [
      "100%|██████████| 7/7 [00:10<00:00,  1.47s/it]\n",
      "100%|██████████| 7/7 [00:04<00:00,  1.53it/s]\n"
     ]
    },
    {
     "name": "stdout",
     "output_type": "stream",
     "text": [
      "epoch=19: train_ppl=tensor(4.6394, device='cuda:0') train_epoch_loss=tensor(1.5346, device='cuda:0') eval_ppl=tensor(5.3169, device='cuda:0') eval_epoch_loss=tensor(1.6709, device='cuda:0')\n"
     ]
    },
    {
     "name": "stderr",
     "output_type": "stream",
     "text": [
      "100%|██████████| 7/7 [00:10<00:00,  1.48s/it]\n",
      "100%|██████████| 7/7 [00:04<00:00,  1.41it/s]\n"
     ]
    },
    {
     "name": "stdout",
     "output_type": "stream",
     "text": [
      "epoch=20: train_ppl=tensor(4.7480, device='cuda:0') train_epoch_loss=tensor(1.5577, device='cuda:0') eval_ppl=tensor(4.7718, device='cuda:0') eval_epoch_loss=tensor(1.5627, device='cuda:0')\n"
     ]
    },
    {
     "name": "stderr",
     "output_type": "stream",
     "text": [
      "100%|██████████| 7/7 [00:10<00:00,  1.47s/it]\n",
      "100%|██████████| 7/7 [00:03<00:00,  1.77it/s]\n"
     ]
    },
    {
     "name": "stdout",
     "output_type": "stream",
     "text": [
      "epoch=21: train_ppl=tensor(5.1500, device='cuda:0') train_epoch_loss=tensor(1.6390, device='cuda:0') eval_ppl=tensor(4.8477, device='cuda:0') eval_epoch_loss=tensor(1.5785, device='cuda:0')\n"
     ]
    },
    {
     "name": "stderr",
     "output_type": "stream",
     "text": [
      "100%|██████████| 7/7 [00:10<00:00,  1.44s/it]\n",
      "100%|██████████| 7/7 [00:05<00:00,  1.35it/s]\n"
     ]
    },
    {
     "name": "stdout",
     "output_type": "stream",
     "text": [
      "epoch=22: train_ppl=tensor(5.9320, device='cuda:0') train_epoch_loss=tensor(1.7804, device='cuda:0') eval_ppl=tensor(5.4078, device='cuda:0') eval_epoch_loss=tensor(1.6878, device='cuda:0')\n"
     ]
    },
    {
     "name": "stderr",
     "output_type": "stream",
     "text": [
      "100%|██████████| 7/7 [00:10<00:00,  1.47s/it]\n",
      "100%|██████████| 7/7 [00:04<00:00,  1.46it/s]\n"
     ]
    },
    {
     "name": "stdout",
     "output_type": "stream",
     "text": [
      "epoch=23: train_ppl=tensor(5.3055, device='cuda:0') train_epoch_loss=tensor(1.6687, device='cuda:0') eval_ppl=tensor(5.3855, device='cuda:0') eval_epoch_loss=tensor(1.6837, device='cuda:0')\n"
     ]
    },
    {
     "name": "stderr",
     "output_type": "stream",
     "text": [
      "100%|██████████| 7/7 [00:10<00:00,  1.53s/it]\n",
      "100%|██████████| 7/7 [00:04<00:00,  1.52it/s]\n"
     ]
    },
    {
     "name": "stdout",
     "output_type": "stream",
     "text": [
      "epoch=24: train_ppl=tensor(4.9551, device='cuda:0') train_epoch_loss=tensor(1.6004, device='cuda:0') eval_ppl=tensor(4.5630, device='cuda:0') eval_epoch_loss=tensor(1.5180, device='cuda:0')\n"
     ]
    },
    {
     "name": "stderr",
     "output_type": "stream",
     "text": [
      "100%|██████████| 7/7 [00:10<00:00,  1.51s/it]\n",
      "100%|██████████| 7/7 [00:04<00:00,  1.48it/s]\n"
     ]
    },
    {
     "name": "stdout",
     "output_type": "stream",
     "text": [
      "epoch=25: train_ppl=tensor(4.8137, device='cuda:0') train_epoch_loss=tensor(1.5715, device='cuda:0') eval_ppl=tensor(6.3486, device='cuda:0') eval_epoch_loss=tensor(1.8482, device='cuda:0')\n"
     ]
    },
    {
     "name": "stderr",
     "output_type": "stream",
     "text": [
      "100%|██████████| 7/7 [00:10<00:00,  1.48s/it]\n",
      "100%|██████████| 7/7 [00:04<00:00,  1.68it/s]\n"
     ]
    },
    {
     "name": "stdout",
     "output_type": "stream",
     "text": [
      "epoch=26: train_ppl=tensor(5.0006, device='cuda:0') train_epoch_loss=tensor(1.6096, device='cuda:0') eval_ppl=tensor(4.6270, device='cuda:0') eval_epoch_loss=tensor(1.5319, device='cuda:0')\n"
     ]
    },
    {
     "name": "stderr",
     "output_type": "stream",
     "text": [
      "100%|██████████| 7/7 [00:10<00:00,  1.52s/it]\n",
      "100%|██████████| 7/7 [00:03<00:00,  1.82it/s]\n"
     ]
    },
    {
     "name": "stdout",
     "output_type": "stream",
     "text": [
      "epoch=27: train_ppl=tensor(4.6597, device='cuda:0') train_epoch_loss=tensor(1.5390, device='cuda:0') eval_ppl=tensor(4.5980, device='cuda:0') eval_epoch_loss=tensor(1.5256, device='cuda:0')\n"
     ]
    },
    {
     "name": "stderr",
     "output_type": "stream",
     "text": [
      "100%|██████████| 7/7 [00:10<00:00,  1.43s/it]\n",
      "100%|██████████| 7/7 [00:04<00:00,  1.45it/s]\n"
     ]
    },
    {
     "name": "stdout",
     "output_type": "stream",
     "text": [
      "epoch=28: train_ppl=tensor(4.3587, device='cuda:0') train_epoch_loss=tensor(1.4722, device='cuda:0') eval_ppl=tensor(4.3045, device='cuda:0') eval_epoch_loss=tensor(1.4597, device='cuda:0')\n"
     ]
    },
    {
     "name": "stderr",
     "output_type": "stream",
     "text": [
      "100%|██████████| 7/7 [00:10<00:00,  1.51s/it]\n",
      "100%|██████████| 7/7 [00:04<00:00,  1.64it/s]\n"
     ]
    },
    {
     "name": "stdout",
     "output_type": "stream",
     "text": [
      "epoch=29: train_ppl=tensor(4.5376, device='cuda:0') train_epoch_loss=tensor(1.5124, device='cuda:0') eval_ppl=tensor(4.4625, device='cuda:0') eval_epoch_loss=tensor(1.4957, device='cuda:0')\n"
     ]
    },
    {
     "name": "stderr",
     "output_type": "stream",
     "text": [
      "100%|██████████| 7/7 [00:10<00:00,  1.49s/it]\n",
      "100%|██████████| 7/7 [00:04<00:00,  1.56it/s]\n"
     ]
    },
    {
     "name": "stdout",
     "output_type": "stream",
     "text": [
      "epoch=30: train_ppl=tensor(4.4709, device='cuda:0') train_epoch_loss=tensor(1.4976, device='cuda:0') eval_ppl=tensor(4.1939, device='cuda:0') eval_epoch_loss=tensor(1.4336, device='cuda:0')\n"
     ]
    },
    {
     "name": "stderr",
     "output_type": "stream",
     "text": [
      "100%|██████████| 7/7 [00:10<00:00,  1.48s/it]\n",
      "100%|██████████| 7/7 [00:04<00:00,  1.46it/s]\n"
     ]
    },
    {
     "name": "stdout",
     "output_type": "stream",
     "text": [
      "epoch=31: train_ppl=tensor(4.5131, device='cuda:0') train_epoch_loss=tensor(1.5070, device='cuda:0') eval_ppl=tensor(4.4524, device='cuda:0') eval_epoch_loss=tensor(1.4935, device='cuda:0')\n"
     ]
    },
    {
     "name": "stderr",
     "output_type": "stream",
     "text": [
      "100%|██████████| 7/7 [00:10<00:00,  1.49s/it]\n",
      "100%|██████████| 7/7 [00:04<00:00,  1.61it/s]\n"
     ]
    },
    {
     "name": "stdout",
     "output_type": "stream",
     "text": [
      "epoch=32: train_ppl=tensor(6.2146, device='cuda:0') train_epoch_loss=tensor(1.8269, device='cuda:0') eval_ppl=tensor(6.1830, device='cuda:0') eval_epoch_loss=tensor(1.8218, device='cuda:0')\n"
     ]
    },
    {
     "name": "stderr",
     "output_type": "stream",
     "text": [
      "100%|██████████| 7/7 [00:11<00:00,  1.61s/it]\n",
      "100%|██████████| 7/7 [00:04<00:00,  1.54it/s]\n"
     ]
    },
    {
     "name": "stdout",
     "output_type": "stream",
     "text": [
      "epoch=33: train_ppl=tensor(5.4666, device='cuda:0') train_epoch_loss=tensor(1.6987, device='cuda:0') eval_ppl=tensor(4.5849, device='cuda:0') eval_epoch_loss=tensor(1.5228, device='cuda:0')\n"
     ]
    },
    {
     "name": "stderr",
     "output_type": "stream",
     "text": [
      "100%|██████████| 7/7 [00:10<00:00,  1.47s/it]\n",
      "100%|██████████| 7/7 [00:05<00:00,  1.36it/s]\n"
     ]
    },
    {
     "name": "stdout",
     "output_type": "stream",
     "text": [
      "epoch=34: train_ppl=tensor(5.4275, device='cuda:0') train_epoch_loss=tensor(1.6915, device='cuda:0') eval_ppl=tensor(4.9841, device='cuda:0') eval_epoch_loss=tensor(1.6062, device='cuda:0')\n"
     ]
    },
    {
     "name": "stderr",
     "output_type": "stream",
     "text": [
      "100%|██████████| 7/7 [00:10<00:00,  1.48s/it]\n",
      "100%|██████████| 7/7 [00:04<00:00,  1.67it/s]\n"
     ]
    },
    {
     "name": "stdout",
     "output_type": "stream",
     "text": [
      "epoch=35: train_ppl=tensor(4.3363, device='cuda:0') train_epoch_loss=tensor(1.4670, device='cuda:0') eval_ppl=tensor(4.6774, device='cuda:0') eval_epoch_loss=tensor(1.5428, device='cuda:0')\n"
     ]
    },
    {
     "name": "stderr",
     "output_type": "stream",
     "text": [
      "100%|██████████| 7/7 [00:10<00:00,  1.50s/it]\n",
      "100%|██████████| 7/7 [00:04<00:00,  1.44it/s]\n"
     ]
    },
    {
     "name": "stdout",
     "output_type": "stream",
     "text": [
      "epoch=36: train_ppl=tensor(4.9734, device='cuda:0') train_epoch_loss=tensor(1.6041, device='cuda:0') eval_ppl=tensor(5.1057, device='cuda:0') eval_epoch_loss=tensor(1.6304, device='cuda:0')\n"
     ]
    },
    {
     "name": "stderr",
     "output_type": "stream",
     "text": [
      "100%|██████████| 7/7 [00:10<00:00,  1.46s/it]\n",
      "100%|██████████| 7/7 [00:04<00:00,  1.60it/s]\n"
     ]
    },
    {
     "name": "stdout",
     "output_type": "stream",
     "text": [
      "epoch=37: train_ppl=tensor(4.9514, device='cuda:0') train_epoch_loss=tensor(1.5997, device='cuda:0') eval_ppl=tensor(6.2263, device='cuda:0') eval_epoch_loss=tensor(1.8288, device='cuda:0')\n"
     ]
    },
    {
     "name": "stderr",
     "output_type": "stream",
     "text": [
      "100%|██████████| 7/7 [00:10<00:00,  1.46s/it]\n",
      "100%|██████████| 7/7 [00:04<00:00,  1.61it/s]\n"
     ]
    },
    {
     "name": "stdout",
     "output_type": "stream",
     "text": [
      "epoch=38: train_ppl=tensor(5.8657, device='cuda:0') train_epoch_loss=tensor(1.7691, device='cuda:0') eval_ppl=tensor(5.6813, device='cuda:0') eval_epoch_loss=tensor(1.7372, device='cuda:0')\n"
     ]
    },
    {
     "name": "stderr",
     "output_type": "stream",
     "text": [
      "100%|██████████| 7/7 [00:09<00:00,  1.41s/it]\n",
      "100%|██████████| 7/7 [00:04<00:00,  1.45it/s]\n"
     ]
    },
    {
     "name": "stdout",
     "output_type": "stream",
     "text": [
      "epoch=39: train_ppl=tensor(5.4912, device='cuda:0') train_epoch_loss=tensor(1.7032, device='cuda:0') eval_ppl=tensor(5.1025, device='cuda:0') eval_epoch_loss=tensor(1.6297, device='cuda:0')\n"
     ]
    },
    {
     "name": "stderr",
     "output_type": "stream",
     "text": [
      "100%|██████████| 7/7 [00:10<00:00,  1.48s/it]\n",
      "100%|██████████| 7/7 [00:03<00:00,  1.77it/s]\n"
     ]
    },
    {
     "name": "stdout",
     "output_type": "stream",
     "text": [
      "epoch=40: train_ppl=tensor(5.1769, device='cuda:0') train_epoch_loss=tensor(1.6442, device='cuda:0') eval_ppl=tensor(5.2572, device='cuda:0') eval_epoch_loss=tensor(1.6596, device='cuda:0')\n"
     ]
    },
    {
     "name": "stderr",
     "output_type": "stream",
     "text": [
      "100%|██████████| 7/7 [00:10<00:00,  1.50s/it]\n",
      "100%|██████████| 7/7 [00:04<00:00,  1.57it/s]\n"
     ]
    },
    {
     "name": "stdout",
     "output_type": "stream",
     "text": [
      "epoch=41: train_ppl=tensor(5.9999, device='cuda:0') train_epoch_loss=tensor(1.7917, device='cuda:0') eval_ppl=tensor(5.6231, device='cuda:0') eval_epoch_loss=tensor(1.7269, device='cuda:0')\n"
     ]
    },
    {
     "name": "stderr",
     "output_type": "stream",
     "text": [
      "100%|██████████| 7/7 [00:10<00:00,  1.47s/it]\n",
      "100%|██████████| 7/7 [00:04<00:00,  1.72it/s]\n"
     ]
    },
    {
     "name": "stdout",
     "output_type": "stream",
     "text": [
      "epoch=42: train_ppl=tensor(6.1190, device='cuda:0') train_epoch_loss=tensor(1.8114, device='cuda:0') eval_ppl=tensor(5.7710, device='cuda:0') eval_epoch_loss=tensor(1.7528, device='cuda:0')\n"
     ]
    },
    {
     "name": "stderr",
     "output_type": "stream",
     "text": [
      "100%|██████████| 7/7 [00:10<00:00,  1.46s/it]\n",
      "100%|██████████| 7/7 [00:04<00:00,  1.58it/s]\n"
     ]
    },
    {
     "name": "stdout",
     "output_type": "stream",
     "text": [
      "epoch=43: train_ppl=tensor(6.1302, device='cuda:0') train_epoch_loss=tensor(1.8132, device='cuda:0') eval_ppl=tensor(4.7781, device='cuda:0') eval_epoch_loss=tensor(1.5640, device='cuda:0')\n"
     ]
    },
    {
     "name": "stderr",
     "output_type": "stream",
     "text": [
      "100%|██████████| 7/7 [00:10<00:00,  1.51s/it]\n",
      "100%|██████████| 7/7 [00:04<00:00,  1.72it/s]\n"
     ]
    },
    {
     "name": "stdout",
     "output_type": "stream",
     "text": [
      "epoch=44: train_ppl=tensor(4.6870, device='cuda:0') train_epoch_loss=tensor(1.5448, device='cuda:0') eval_ppl=tensor(6.4075, device='cuda:0') eval_epoch_loss=tensor(1.8575, device='cuda:0')\n"
     ]
    },
    {
     "name": "stderr",
     "output_type": "stream",
     "text": [
      "100%|██████████| 7/7 [00:09<00:00,  1.41s/it]\n",
      "100%|██████████| 7/7 [00:04<00:00,  1.63it/s]\n"
     ]
    },
    {
     "name": "stdout",
     "output_type": "stream",
     "text": [
      "epoch=45: train_ppl=tensor(5.0556, device='cuda:0') train_epoch_loss=tensor(1.6205, device='cuda:0') eval_ppl=tensor(4.9763, device='cuda:0') eval_epoch_loss=tensor(1.6047, device='cuda:0')\n"
     ]
    },
    {
     "name": "stderr",
     "output_type": "stream",
     "text": [
      "100%|██████████| 7/7 [00:10<00:00,  1.48s/it]\n",
      "100%|██████████| 7/7 [00:04<00:00,  1.70it/s]\n"
     ]
    },
    {
     "name": "stdout",
     "output_type": "stream",
     "text": [
      "epoch=46: train_ppl=tensor(4.4660, device='cuda:0') train_epoch_loss=tensor(1.4965, device='cuda:0') eval_ppl=tensor(4.0125, device='cuda:0') eval_epoch_loss=tensor(1.3894, device='cuda:0')\n"
     ]
    },
    {
     "name": "stderr",
     "output_type": "stream",
     "text": [
      "100%|██████████| 7/7 [00:11<00:00,  1.58s/it]\n",
      "100%|██████████| 7/7 [00:04<00:00,  1.52it/s]\n"
     ]
    },
    {
     "name": "stdout",
     "output_type": "stream",
     "text": [
      "epoch=47: train_ppl=tensor(4.2064, device='cuda:0') train_epoch_loss=tensor(1.4366, device='cuda:0') eval_ppl=tensor(4.1948, device='cuda:0') eval_epoch_loss=tensor(1.4339, device='cuda:0')\n"
     ]
    },
    {
     "name": "stderr",
     "output_type": "stream",
     "text": [
      "100%|██████████| 7/7 [00:10<00:00,  1.52s/it]\n",
      "100%|██████████| 7/7 [00:05<00:00,  1.40it/s]\n"
     ]
    },
    {
     "name": "stdout",
     "output_type": "stream",
     "text": [
      "epoch=48: train_ppl=tensor(4.1184, device='cuda:0') train_epoch_loss=tensor(1.4155, device='cuda:0') eval_ppl=tensor(4.2873, device='cuda:0') eval_epoch_loss=tensor(1.4556, device='cuda:0')\n"
     ]
    },
    {
     "name": "stderr",
     "output_type": "stream",
     "text": [
      "100%|██████████| 7/7 [00:10<00:00,  1.50s/it]\n",
      "100%|██████████| 7/7 [00:04<00:00,  1.57it/s]\n"
     ]
    },
    {
     "name": "stdout",
     "output_type": "stream",
     "text": [
      "epoch=49: train_ppl=tensor(4.8836, device='cuda:0') train_epoch_loss=tensor(1.5859, device='cuda:0') eval_ppl=tensor(5.2454, device='cuda:0') eval_epoch_loss=tensor(1.6573, device='cuda:0')\n"
     ]
    },
    {
     "name": "stderr",
     "output_type": "stream",
     "text": [
      "100%|██████████| 7/7 [00:09<00:00,  1.40s/it]\n",
      "100%|██████████| 7/7 [00:04<00:00,  1.61it/s]\n"
     ]
    },
    {
     "name": "stdout",
     "output_type": "stream",
     "text": [
      "epoch=50: train_ppl=tensor(3.9049, device='cuda:0') train_epoch_loss=tensor(1.3622, device='cuda:0') eval_ppl=tensor(3.7045, device='cuda:0') eval_epoch_loss=tensor(1.3095, device='cuda:0')\n"
     ]
    },
    {
     "name": "stderr",
     "output_type": "stream",
     "text": [
      "100%|██████████| 7/7 [00:10<00:00,  1.48s/it]\n",
      "100%|██████████| 7/7 [00:04<00:00,  1.60it/s]\n"
     ]
    },
    {
     "name": "stdout",
     "output_type": "stream",
     "text": [
      "epoch=51: train_ppl=tensor(3.6509, device='cuda:0') train_epoch_loss=tensor(1.2950, device='cuda:0') eval_ppl=tensor(3.3386, device='cuda:0') eval_epoch_loss=tensor(1.2056, device='cuda:0')\n"
     ]
    },
    {
     "name": "stderr",
     "output_type": "stream",
     "text": [
      "100%|██████████| 7/7 [00:09<00:00,  1.33s/it]\n",
      "100%|██████████| 7/7 [00:04<00:00,  1.57it/s]\n"
     ]
    },
    {
     "name": "stdout",
     "output_type": "stream",
     "text": [
      "epoch=52: train_ppl=tensor(3.1934, device='cuda:0') train_epoch_loss=tensor(1.1611, device='cuda:0') eval_ppl=tensor(3.5021, device='cuda:0') eval_epoch_loss=tensor(1.2534, device='cuda:0')\n"
     ]
    },
    {
     "name": "stderr",
     "output_type": "stream",
     "text": [
      "100%|██████████| 7/7 [00:10<00:00,  1.50s/it]\n",
      "100%|██████████| 7/7 [00:04<00:00,  1.47it/s]\n"
     ]
    },
    {
     "name": "stdout",
     "output_type": "stream",
     "text": [
      "epoch=53: train_ppl=tensor(3.1739, device='cuda:0') train_epoch_loss=tensor(1.1550, device='cuda:0') eval_ppl=tensor(3.8897, device='cuda:0') eval_epoch_loss=tensor(1.3583, device='cuda:0')\n"
     ]
    },
    {
     "name": "stderr",
     "output_type": "stream",
     "text": [
      "100%|██████████| 7/7 [00:10<00:00,  1.50s/it]\n",
      "100%|██████████| 7/7 [00:04<00:00,  1.65it/s]\n"
     ]
    },
    {
     "name": "stdout",
     "output_type": "stream",
     "text": [
      "epoch=54: train_ppl=tensor(2.9979, device='cuda:0') train_epoch_loss=tensor(1.0979, device='cuda:0') eval_ppl=tensor(3.6220, device='cuda:0') eval_epoch_loss=tensor(1.2870, device='cuda:0')\n"
     ]
    },
    {
     "name": "stderr",
     "output_type": "stream",
     "text": [
      "100%|██████████| 7/7 [00:10<00:00,  1.56s/it]\n",
      "100%|██████████| 7/7 [00:04<00:00,  1.59it/s]\n"
     ]
    },
    {
     "name": "stdout",
     "output_type": "stream",
     "text": [
      "epoch=55: train_ppl=tensor(2.6886, device='cuda:0') train_epoch_loss=tensor(0.9890, device='cuda:0') eval_ppl=tensor(2.2668, device='cuda:0') eval_epoch_loss=tensor(0.8184, device='cuda:0')\n"
     ]
    },
    {
     "name": "stderr",
     "output_type": "stream",
     "text": [
      "100%|██████████| 7/7 [00:10<00:00,  1.48s/it]\n",
      "100%|██████████| 7/7 [00:04<00:00,  1.56it/s]\n"
     ]
    },
    {
     "name": "stdout",
     "output_type": "stream",
     "text": [
      "epoch=56: train_ppl=tensor(2.4755, device='cuda:0') train_epoch_loss=tensor(0.9064, device='cuda:0') eval_ppl=tensor(2.2911, device='cuda:0') eval_epoch_loss=tensor(0.8290, device='cuda:0')\n"
     ]
    },
    {
     "name": "stderr",
     "output_type": "stream",
     "text": [
      "100%|██████████| 7/7 [00:10<00:00,  1.46s/it]\n",
      "100%|██████████| 7/7 [00:04<00:00,  1.42it/s]\n"
     ]
    },
    {
     "name": "stdout",
     "output_type": "stream",
     "text": [
      "epoch=57: train_ppl=tensor(2.6490, device='cuda:0') train_epoch_loss=tensor(0.9742, device='cuda:0') eval_ppl=tensor(2.6530, device='cuda:0') eval_epoch_loss=tensor(0.9757, device='cuda:0')\n"
     ]
    },
    {
     "name": "stderr",
     "output_type": "stream",
     "text": [
      "100%|██████████| 7/7 [00:10<00:00,  1.50s/it]\n",
      "100%|██████████| 7/7 [00:04<00:00,  1.53it/s]\n"
     ]
    },
    {
     "name": "stdout",
     "output_type": "stream",
     "text": [
      "epoch=58: train_ppl=tensor(3.1932, device='cuda:0') train_epoch_loss=tensor(1.1610, device='cuda:0') eval_ppl=tensor(3.3214, device='cuda:0') eval_epoch_loss=tensor(1.2004, device='cuda:0')\n"
     ]
    },
    {
     "name": "stderr",
     "output_type": "stream",
     "text": [
      "100%|██████████| 7/7 [00:10<00:00,  1.48s/it]\n",
      "100%|██████████| 7/7 [00:05<00:00,  1.39it/s]\n"
     ]
    },
    {
     "name": "stdout",
     "output_type": "stream",
     "text": [
      "epoch=59: train_ppl=tensor(26.9913, device='cuda:0') train_epoch_loss=tensor(3.2955, device='cuda:0') eval_ppl=tensor(12.3063, device='cuda:0') eval_epoch_loss=tensor(2.5101, device='cuda:0')\n"
     ]
    },
    {
     "name": "stderr",
     "output_type": "stream",
     "text": [
      "100%|██████████| 7/7 [00:10<00:00,  1.44s/it]\n",
      "100%|██████████| 7/7 [00:04<00:00,  1.42it/s]\n"
     ]
    },
    {
     "name": "stdout",
     "output_type": "stream",
     "text": [
      "epoch=60: train_ppl=tensor(10.6606, device='cuda:0') train_epoch_loss=tensor(2.3666, device='cuda:0') eval_ppl=tensor(9.1403, device='cuda:0') eval_epoch_loss=tensor(2.2127, device='cuda:0')\n"
     ]
    },
    {
     "name": "stderr",
     "output_type": "stream",
     "text": [
      "100%|██████████| 7/7 [00:09<00:00,  1.37s/it]\n",
      "100%|██████████| 7/7 [00:04<00:00,  1.56it/s]\n"
     ]
    },
    {
     "name": "stdout",
     "output_type": "stream",
     "text": [
      "epoch=61: train_ppl=tensor(8.2999, device='cuda:0') train_epoch_loss=tensor(2.1162, device='cuda:0') eval_ppl=tensor(6.8725, device='cuda:0') eval_epoch_loss=tensor(1.9275, device='cuda:0')\n"
     ]
    },
    {
     "name": "stderr",
     "output_type": "stream",
     "text": [
      "100%|██████████| 7/7 [00:09<00:00,  1.41s/it]\n",
      "100%|██████████| 7/7 [00:04<00:00,  1.60it/s]\n"
     ]
    },
    {
     "name": "stdout",
     "output_type": "stream",
     "text": [
      "epoch=62: train_ppl=tensor(6.4960, device='cuda:0') train_epoch_loss=tensor(1.8712, device='cuda:0') eval_ppl=tensor(5.7877, device='cuda:0') eval_epoch_loss=tensor(1.7557, device='cuda:0')\n"
     ]
    },
    {
     "name": "stderr",
     "output_type": "stream",
     "text": [
      "100%|██████████| 7/7 [00:09<00:00,  1.43s/it]\n",
      "100%|██████████| 7/7 [00:04<00:00,  1.53it/s]\n"
     ]
    },
    {
     "name": "stdout",
     "output_type": "stream",
     "text": [
      "epoch=63: train_ppl=tensor(5.5613, device='cuda:0') train_epoch_loss=tensor(1.7158, device='cuda:0') eval_ppl=tensor(4.7855, device='cuda:0') eval_epoch_loss=tensor(1.5656, device='cuda:0')\n"
     ]
    },
    {
     "name": "stderr",
     "output_type": "stream",
     "text": [
      "100%|██████████| 7/7 [00:09<00:00,  1.31s/it]\n",
      "100%|██████████| 7/7 [00:04<00:00,  1.63it/s]\n"
     ]
    },
    {
     "name": "stdout",
     "output_type": "stream",
     "text": [
      "epoch=64: train_ppl=tensor(3.7847, device='cuda:0') train_epoch_loss=tensor(1.3310, device='cuda:0') eval_ppl=tensor(3.8232, device='cuda:0') eval_epoch_loss=tensor(1.3411, device='cuda:0')\n"
     ]
    },
    {
     "name": "stderr",
     "output_type": "stream",
     "text": [
      "100%|██████████| 7/7 [00:10<00:00,  1.43s/it]\n",
      "100%|██████████| 7/7 [00:04<00:00,  1.66it/s]\n"
     ]
    },
    {
     "name": "stdout",
     "output_type": "stream",
     "text": [
      "epoch=65: train_ppl=tensor(3.3962, device='cuda:0') train_epoch_loss=tensor(1.2226, device='cuda:0') eval_ppl=tensor(4.8260, device='cuda:0') eval_epoch_loss=tensor(1.5740, device='cuda:0')\n"
     ]
    },
    {
     "name": "stderr",
     "output_type": "stream",
     "text": [
      "100%|██████████| 7/7 [00:10<00:00,  1.48s/it]\n",
      "100%|██████████| 7/7 [00:04<00:00,  1.60it/s]\n"
     ]
    },
    {
     "name": "stdout",
     "output_type": "stream",
     "text": [
      "epoch=66: train_ppl=tensor(3.8934, device='cuda:0') train_epoch_loss=tensor(1.3593, device='cuda:0') eval_ppl=tensor(3.5248, device='cuda:0') eval_epoch_loss=tensor(1.2598, device='cuda:0')\n"
     ]
    },
    {
     "name": "stderr",
     "output_type": "stream",
     "text": [
      "100%|██████████| 7/7 [00:10<00:00,  1.47s/it]\n",
      "100%|██████████| 7/7 [00:04<00:00,  1.49it/s]\n"
     ]
    },
    {
     "name": "stdout",
     "output_type": "stream",
     "text": [
      "epoch=67: train_ppl=tensor(3.6442, device='cuda:0') train_epoch_loss=tensor(1.2931, device='cuda:0') eval_ppl=tensor(3.5831, device='cuda:0') eval_epoch_loss=tensor(1.2762, device='cuda:0')\n"
     ]
    },
    {
     "name": "stderr",
     "output_type": "stream",
     "text": [
      "100%|██████████| 7/7 [00:10<00:00,  1.47s/it]\n",
      "100%|██████████| 7/7 [00:05<00:00,  1.38it/s]\n"
     ]
    },
    {
     "name": "stdout",
     "output_type": "stream",
     "text": [
      "epoch=68: train_ppl=tensor(3.4483, device='cuda:0') train_epoch_loss=tensor(1.2379, device='cuda:0') eval_ppl=tensor(3.8145, device='cuda:0') eval_epoch_loss=tensor(1.3388, device='cuda:0')\n"
     ]
    },
    {
     "name": "stderr",
     "output_type": "stream",
     "text": [
      "100%|██████████| 7/7 [00:10<00:00,  1.46s/it]\n",
      "100%|██████████| 7/7 [00:04<00:00,  1.41it/s]\n"
     ]
    },
    {
     "name": "stdout",
     "output_type": "stream",
     "text": [
      "epoch=69: train_ppl=tensor(3.8284, device='cuda:0') train_epoch_loss=tensor(1.3424, device='cuda:0') eval_ppl=tensor(3.6712, device='cuda:0') eval_epoch_loss=tensor(1.3005, device='cuda:0')\n"
     ]
    },
    {
     "name": "stderr",
     "output_type": "stream",
     "text": [
      "100%|██████████| 7/7 [00:10<00:00,  1.48s/it]\n",
      "100%|██████████| 7/7 [00:04<00:00,  1.51it/s]\n"
     ]
    },
    {
     "name": "stdout",
     "output_type": "stream",
     "text": [
      "epoch=70: train_ppl=tensor(3.1541, device='cuda:0') train_epoch_loss=tensor(1.1487, device='cuda:0') eval_ppl=tensor(4.8301e+14, device='cuda:0') eval_epoch_loss=tensor(33.8111, device='cuda:0')\n"
     ]
    },
    {
     "name": "stderr",
     "output_type": "stream",
     "text": [
      "100%|██████████| 7/7 [00:09<00:00,  1.39s/it]\n",
      "100%|██████████| 7/7 [00:04<00:00,  1.49it/s]\n"
     ]
    },
    {
     "name": "stdout",
     "output_type": "stream",
     "text": [
      "epoch=71: train_ppl=tensor(1.5866e+12, device='cuda:0') train_epoch_loss=tensor(28.0926, device='cuda:0') eval_ppl=tensor(1.2473e+09, device='cuda:0') eval_epoch_loss=tensor(20.9443, device='cuda:0')\n"
     ]
    },
    {
     "name": "stderr",
     "output_type": "stream",
     "text": [
      "100%|██████████| 7/7 [00:10<00:00,  1.45s/it]\n",
      "100%|██████████| 7/7 [00:04<00:00,  1.59it/s]\n"
     ]
    },
    {
     "name": "stdout",
     "output_type": "stream",
     "text": [
      "epoch=72: train_ppl=tensor(36319508., device='cuda:0') train_epoch_loss=tensor(17.4079, device='cuda:0') eval_ppl=tensor(1031608.7500, device='cuda:0') eval_epoch_loss=tensor(13.8466, device='cuda:0')\n"
     ]
    },
    {
     "name": "stderr",
     "output_type": "stream",
     "text": [
      "100%|██████████| 7/7 [00:10<00:00,  1.57s/it]\n",
      "100%|██████████| 7/7 [00:04<00:00,  1.48it/s]\n"
     ]
    },
    {
     "name": "stdout",
     "output_type": "stream",
     "text": [
      "epoch=73: train_ppl=tensor(192373.3750, device='cuda:0') train_epoch_loss=tensor(12.1672, device='cuda:0') eval_ppl=tensor(30076.4199, device='cuda:0') eval_epoch_loss=tensor(10.3115, device='cuda:0')\n"
     ]
    },
    {
     "name": "stderr",
     "output_type": "stream",
     "text": [
      "100%|██████████| 7/7 [00:10<00:00,  1.44s/it]\n",
      "100%|██████████| 7/7 [00:04<00:00,  1.52it/s]\n"
     ]
    },
    {
     "name": "stdout",
     "output_type": "stream",
     "text": [
      "epoch=74: train_ppl=tensor(9749.2637, device='cuda:0') train_epoch_loss=tensor(9.1849, device='cuda:0') eval_ppl=tensor(5167.2437, device='cuda:0') eval_epoch_loss=tensor(8.5501, device='cuda:0')\n"
     ]
    },
    {
     "name": "stderr",
     "output_type": "stream",
     "text": [
      "100%|██████████| 7/7 [00:10<00:00,  1.48s/it]\n",
      "100%|██████████| 7/7 [00:04<00:00,  1.55it/s]\n"
     ]
    },
    {
     "name": "stdout",
     "output_type": "stream",
     "text": [
      "epoch=75: train_ppl=tensor(5957.6050, device='cuda:0') train_epoch_loss=tensor(8.6924, device='cuda:0') eval_ppl=tensor(9904.8037, device='cuda:0') eval_epoch_loss=tensor(9.2008, device='cuda:0')\n"
     ]
    },
    {
     "name": "stderr",
     "output_type": "stream",
     "text": [
      "100%|██████████| 7/7 [00:10<00:00,  1.49s/it]\n",
      "100%|██████████| 7/7 [00:04<00:00,  1.50it/s]\n"
     ]
    },
    {
     "name": "stdout",
     "output_type": "stream",
     "text": [
      "epoch=76: train_ppl=tensor(6389.8403, device='cuda:0') train_epoch_loss=tensor(8.7625, device='cuda:0') eval_ppl=tensor(4273.9570, device='cuda:0') eval_epoch_loss=tensor(8.3603, device='cuda:0')\n"
     ]
    },
    {
     "name": "stderr",
     "output_type": "stream",
     "text": [
      "100%|██████████| 7/7 [00:10<00:00,  1.52s/it]\n",
      "100%|██████████| 7/7 [00:04<00:00,  1.56it/s]\n"
     ]
    },
    {
     "name": "stdout",
     "output_type": "stream",
     "text": [
      "epoch=77: train_ppl=tensor(2778.2258, device='cuda:0') train_epoch_loss=tensor(7.9296, device='cuda:0') eval_ppl=tensor(1921.2511, device='cuda:0') eval_epoch_loss=tensor(7.5607, device='cuda:0')\n"
     ]
    },
    {
     "name": "stderr",
     "output_type": "stream",
     "text": [
      "100%|██████████| 7/7 [00:10<00:00,  1.50s/it]\n",
      "100%|██████████| 7/7 [00:04<00:00,  1.61it/s]\n"
     ]
    },
    {
     "name": "stdout",
     "output_type": "stream",
     "text": [
      "epoch=78: train_ppl=tensor(2006.3694, device='cuda:0') train_epoch_loss=tensor(7.6041, device='cuda:0') eval_ppl=tensor(1310.5887, device='cuda:0') eval_epoch_loss=tensor(7.1782, device='cuda:0')\n"
     ]
    },
    {
     "name": "stderr",
     "output_type": "stream",
     "text": [
      "100%|██████████| 7/7 [00:10<00:00,  1.53s/it]\n",
      "100%|██████████| 7/7 [00:04<00:00,  1.51it/s]\n"
     ]
    },
    {
     "name": "stdout",
     "output_type": "stream",
     "text": [
      "epoch=79: train_ppl=tensor(1960.7566, device='cuda:0') train_epoch_loss=tensor(7.5811, device='cuda:0') eval_ppl=tensor(1250.5719, device='cuda:0') eval_epoch_loss=tensor(7.1314, device='cuda:0')\n"
     ]
    },
    {
     "name": "stderr",
     "output_type": "stream",
     "text": [
      "100%|██████████| 7/7 [00:10<00:00,  1.46s/it]\n",
      "100%|██████████| 7/7 [00:04<00:00,  1.55it/s]\n"
     ]
    },
    {
     "name": "stdout",
     "output_type": "stream",
     "text": [
      "epoch=80: train_ppl=tensor(1560.7786, device='cuda:0') train_epoch_loss=tensor(7.3529, device='cuda:0') eval_ppl=tensor(893.8795, device='cuda:0') eval_epoch_loss=tensor(6.7956, device='cuda:0')\n"
     ]
    },
    {
     "name": "stderr",
     "output_type": "stream",
     "text": [
      "100%|██████████| 7/7 [00:10<00:00,  1.50s/it]\n",
      "100%|██████████| 7/7 [00:04<00:00,  1.42it/s]\n"
     ]
    },
    {
     "name": "stdout",
     "output_type": "stream",
     "text": [
      "epoch=81: train_ppl=tensor(832.9060, device='cuda:0') train_epoch_loss=tensor(6.7249, device='cuda:0') eval_ppl=tensor(757.5599, device='cuda:0') eval_epoch_loss=tensor(6.6301, device='cuda:0')\n"
     ]
    },
    {
     "name": "stderr",
     "output_type": "stream",
     "text": [
      "100%|██████████| 7/7 [00:10<00:00,  1.48s/it]\n",
      "100%|██████████| 7/7 [00:04<00:00,  1.52it/s]\n"
     ]
    },
    {
     "name": "stdout",
     "output_type": "stream",
     "text": [
      "epoch=82: train_ppl=tensor(725.0619, device='cuda:0') train_epoch_loss=tensor(6.5863, device='cuda:0') eval_ppl=tensor(797.9865, device='cuda:0') eval_epoch_loss=tensor(6.6821, device='cuda:0')\n"
     ]
    },
    {
     "name": "stderr",
     "output_type": "stream",
     "text": [
      "100%|██████████| 7/7 [00:10<00:00,  1.46s/it]\n",
      "100%|██████████| 7/7 [00:04<00:00,  1.68it/s]\n"
     ]
    },
    {
     "name": "stdout",
     "output_type": "stream",
     "text": [
      "epoch=83: train_ppl=tensor(698.9012, device='cuda:0') train_epoch_loss=tensor(6.5495, device='cuda:0') eval_ppl=tensor(743.6677, device='cuda:0') eval_epoch_loss=tensor(6.6116, device='cuda:0')\n"
     ]
    },
    {
     "name": "stderr",
     "output_type": "stream",
     "text": [
      "100%|██████████| 7/7 [00:10<00:00,  1.48s/it]\n",
      "100%|██████████| 7/7 [00:04<00:00,  1.60it/s]\n"
     ]
    },
    {
     "name": "stdout",
     "output_type": "stream",
     "text": [
      "epoch=84: train_ppl=tensor(1413.1799, device='cuda:0') train_epoch_loss=tensor(7.2536, device='cuda:0') eval_ppl=tensor(1051.6860, device='cuda:0') eval_epoch_loss=tensor(6.9581, device='cuda:0')\n"
     ]
    },
    {
     "name": "stderr",
     "output_type": "stream",
     "text": [
      "100%|██████████| 7/7 [00:10<00:00,  1.45s/it]\n",
      "100%|██████████| 7/7 [00:04<00:00,  1.57it/s]\n"
     ]
    },
    {
     "name": "stdout",
     "output_type": "stream",
     "text": [
      "epoch=85: train_ppl=tensor(1607.7856, device='cuda:0') train_epoch_loss=tensor(7.3826, device='cuda:0') eval_ppl=tensor(462.8915, device='cuda:0') eval_epoch_loss=tensor(6.1375, device='cuda:0')\n"
     ]
    },
    {
     "name": "stderr",
     "output_type": "stream",
     "text": [
      "100%|██████████| 7/7 [00:10<00:00,  1.49s/it]\n",
      "100%|██████████| 7/7 [00:04<00:00,  1.52it/s]\n"
     ]
    },
    {
     "name": "stdout",
     "output_type": "stream",
     "text": [
      "epoch=86: train_ppl=tensor(451.7462, device='cuda:0') train_epoch_loss=tensor(6.1131, device='cuda:0') eval_ppl=tensor(309.7563, device='cuda:0') eval_epoch_loss=tensor(5.7358, device='cuda:0')\n"
     ]
    },
    {
     "name": "stderr",
     "output_type": "stream",
     "text": [
      "100%|██████████| 7/7 [00:09<00:00,  1.41s/it]\n",
      "100%|██████████| 7/7 [00:04<00:00,  1.53it/s]\n"
     ]
    },
    {
     "name": "stdout",
     "output_type": "stream",
     "text": [
      "epoch=87: train_ppl=tensor(21381.9141, device='cuda:0') train_epoch_loss=tensor(9.9703, device='cuda:0') eval_ppl=tensor(1111.9598, device='cuda:0') eval_epoch_loss=tensor(7.0139, device='cuda:0')\n"
     ]
    },
    {
     "name": "stderr",
     "output_type": "stream",
     "text": [
      "100%|██████████| 7/7 [00:10<00:00,  1.49s/it]\n",
      "100%|██████████| 7/7 [00:04<00:00,  1.57it/s]\n"
     ]
    },
    {
     "name": "stdout",
     "output_type": "stream",
     "text": [
      "epoch=88: train_ppl=tensor(2620.5852, device='cuda:0') train_epoch_loss=tensor(7.8712, device='cuda:0') eval_ppl=tensor(251481.4375, device='cuda:0') eval_epoch_loss=tensor(12.4351, device='cuda:0')\n"
     ]
    },
    {
     "name": "stderr",
     "output_type": "stream",
     "text": [
      "100%|██████████| 7/7 [00:10<00:00,  1.48s/it]\n",
      "100%|██████████| 7/7 [00:04<00:00,  1.48it/s]\n"
     ]
    },
    {
     "name": "stdout",
     "output_type": "stream",
     "text": [
      "epoch=89: train_ppl=tensor(14316.0107, device='cuda:0') train_epoch_loss=tensor(9.5691, device='cuda:0') eval_ppl=tensor(2109.6038, device='cuda:0') eval_epoch_loss=tensor(7.6543, device='cuda:0')\n"
     ]
    },
    {
     "name": "stderr",
     "output_type": "stream",
     "text": [
      "100%|██████████| 7/7 [00:11<00:00,  1.58s/it]\n",
      "100%|██████████| 7/7 [00:06<00:00,  1.11it/s]\n"
     ]
    },
    {
     "name": "stdout",
     "output_type": "stream",
     "text": [
      "epoch=90: train_ppl=tensor(2041.8296, device='cuda:0') train_epoch_loss=tensor(7.6216, device='cuda:0') eval_ppl=tensor(1607.7979, device='cuda:0') eval_epoch_loss=tensor(7.3826, device='cuda:0')\n"
     ]
    },
    {
     "name": "stderr",
     "output_type": "stream",
     "text": [
      "100%|██████████| 7/7 [00:10<00:00,  1.47s/it]\n",
      "100%|██████████| 7/7 [00:04<00:00,  1.57it/s]\n"
     ]
    },
    {
     "name": "stdout",
     "output_type": "stream",
     "text": [
      "epoch=91: train_ppl=tensor(1269.8362, device='cuda:0') train_epoch_loss=tensor(7.1466, device='cuda:0') eval_ppl=tensor(1150.0791, device='cuda:0') eval_epoch_loss=tensor(7.0476, device='cuda:0')\n"
     ]
    },
    {
     "name": "stderr",
     "output_type": "stream",
     "text": [
      "100%|██████████| 7/7 [00:10<00:00,  1.47s/it]\n",
      "100%|██████████| 7/7 [00:04<00:00,  1.62it/s]\n"
     ]
    },
    {
     "name": "stdout",
     "output_type": "stream",
     "text": [
      "epoch=92: train_ppl=tensor(853.0311, device='cuda:0') train_epoch_loss=tensor(6.7488, device='cuda:0') eval_ppl=tensor(862.1588, device='cuda:0') eval_epoch_loss=tensor(6.7594, device='cuda:0')\n"
     ]
    },
    {
     "name": "stderr",
     "output_type": "stream",
     "text": [
      "100%|██████████| 7/7 [00:09<00:00,  1.42s/it]\n",
      "100%|██████████| 7/7 [00:04<00:00,  1.55it/s]\n"
     ]
    },
    {
     "name": "stdout",
     "output_type": "stream",
     "text": [
      "epoch=93: train_ppl=tensor(832.2104, device='cuda:0') train_epoch_loss=tensor(6.7241, device='cuda:0') eval_ppl=tensor(747.7632, device='cuda:0') eval_epoch_loss=tensor(6.6171, device='cuda:0')\n"
     ]
    },
    {
     "name": "stderr",
     "output_type": "stream",
     "text": [
      "100%|██████████| 7/7 [00:10<00:00,  1.50s/it]\n",
      "100%|██████████| 7/7 [00:04<00:00,  1.55it/s]\n"
     ]
    },
    {
     "name": "stdout",
     "output_type": "stream",
     "text": [
      "epoch=94: train_ppl=tensor(818.4894, device='cuda:0') train_epoch_loss=tensor(6.7075, device='cuda:0') eval_ppl=tensor(605.9000, device='cuda:0') eval_epoch_loss=tensor(6.4067, device='cuda:0')\n"
     ]
    },
    {
     "name": "stderr",
     "output_type": "stream",
     "text": [
      "100%|██████████| 7/7 [00:10<00:00,  1.48s/it]\n",
      "100%|██████████| 7/7 [00:04<00:00,  1.56it/s]\n"
     ]
    },
    {
     "name": "stdout",
     "output_type": "stream",
     "text": [
      "epoch=95: train_ppl=tensor(425.6521, device='cuda:0') train_epoch_loss=tensor(6.0536, device='cuda:0') eval_ppl=tensor(501.3121, device='cuda:0') eval_epoch_loss=tensor(6.2172, device='cuda:0')\n"
     ]
    },
    {
     "name": "stderr",
     "output_type": "stream",
     "text": [
      "100%|██████████| 7/7 [00:10<00:00,  1.52s/it]\n",
      "100%|██████████| 7/7 [00:04<00:00,  1.70it/s]\n"
     ]
    },
    {
     "name": "stdout",
     "output_type": "stream",
     "text": [
      "epoch=96: train_ppl=tensor(416.8454, device='cuda:0') train_epoch_loss=tensor(6.0327, device='cuda:0') eval_ppl=tensor(357.4402, device='cuda:0') eval_epoch_loss=tensor(5.8790, device='cuda:0')\n"
     ]
    },
    {
     "name": "stderr",
     "output_type": "stream",
     "text": [
      "100%|██████████| 7/7 [00:10<00:00,  1.51s/it]\n",
      "100%|██████████| 7/7 [00:04<00:00,  1.48it/s]\n"
     ]
    },
    {
     "name": "stdout",
     "output_type": "stream",
     "text": [
      "epoch=97: train_ppl=tensor(330.0089, device='cuda:0') train_epoch_loss=tensor(5.7991, device='cuda:0') eval_ppl=tensor(356.8124, device='cuda:0') eval_epoch_loss=tensor(5.8772, device='cuda:0')\n"
     ]
    },
    {
     "name": "stderr",
     "output_type": "stream",
     "text": [
      "100%|██████████| 7/7 [00:11<00:00,  1.65s/it]\n",
      "100%|██████████| 7/7 [00:05<00:00,  1.28it/s]\n"
     ]
    },
    {
     "name": "stdout",
     "output_type": "stream",
     "text": [
      "epoch=98: train_ppl=tensor(326.6364, device='cuda:0') train_epoch_loss=tensor(5.7888, device='cuda:0') eval_ppl=tensor(351.0346, device='cuda:0') eval_epoch_loss=tensor(5.8609, device='cuda:0')\n"
     ]
    },
    {
     "name": "stderr",
     "output_type": "stream",
     "text": [
      "100%|██████████| 7/7 [00:11<00:00,  1.64s/it]\n",
      "100%|██████████| 7/7 [00:04<00:00,  1.51it/s]\n"
     ]
    },
    {
     "name": "stdout",
     "output_type": "stream",
     "text": [
      "epoch=99: train_ppl=tensor(282.8800, device='cuda:0') train_epoch_loss=tensor(5.6450, device='cuda:0') eval_ppl=tensor(292.4944, device='cuda:0') eval_epoch_loss=tensor(5.6784, device='cuda:0')\n"
     ]
    },
    {
     "name": "stderr",
     "output_type": "stream",
     "text": [
      "100%|██████████| 7/7 [00:11<00:00,  1.63s/it]\n",
      "100%|██████████| 7/7 [00:05<00:00,  1.21it/s]\n"
     ]
    },
    {
     "name": "stdout",
     "output_type": "stream",
     "text": [
      "epoch=100: train_ppl=tensor(194.3111, device='cuda:0') train_epoch_loss=tensor(5.2695, device='cuda:0') eval_ppl=tensor(290.1393, device='cuda:0') eval_epoch_loss=tensor(5.6704, device='cuda:0')\n"
     ]
    },
    {
     "name": "stderr",
     "output_type": "stream",
     "text": [
      "100%|██████████| 7/7 [00:09<00:00,  1.40s/it]\n",
      "100%|██████████| 7/7 [00:04<00:00,  1.57it/s]\n"
     ]
    },
    {
     "name": "stdout",
     "output_type": "stream",
     "text": [
      "epoch=101: train_ppl=tensor(245.5312, device='cuda:0') train_epoch_loss=tensor(5.5034, device='cuda:0') eval_ppl=tensor(288.6603, device='cuda:0') eval_epoch_loss=tensor(5.6653, device='cuda:0')\n"
     ]
    },
    {
     "name": "stderr",
     "output_type": "stream",
     "text": [
      "100%|██████████| 7/7 [00:10<00:00,  1.50s/it]\n",
      "100%|██████████| 7/7 [00:04<00:00,  1.52it/s]\n"
     ]
    },
    {
     "name": "stdout",
     "output_type": "stream",
     "text": [
      "epoch=102: train_ppl=tensor(288.0820, device='cuda:0') train_epoch_loss=tensor(5.6632, device='cuda:0') eval_ppl=tensor(260.9435, device='cuda:0') eval_epoch_loss=tensor(5.5643, device='cuda:0')\n"
     ]
    },
    {
     "name": "stderr",
     "output_type": "stream",
     "text": [
      "100%|██████████| 7/7 [00:10<00:00,  1.56s/it]\n",
      "100%|██████████| 7/7 [00:04<00:00,  1.65it/s]\n"
     ]
    },
    {
     "name": "stdout",
     "output_type": "stream",
     "text": [
      "epoch=103: train_ppl=tensor(195.6709, device='cuda:0') train_epoch_loss=tensor(5.2764, device='cuda:0') eval_ppl=tensor(296.5519, device='cuda:0') eval_epoch_loss=tensor(5.6922, device='cuda:0')\n"
     ]
    },
    {
     "name": "stderr",
     "output_type": "stream",
     "text": [
      "100%|██████████| 7/7 [00:10<00:00,  1.54s/it]\n",
      "100%|██████████| 7/7 [00:04<00:00,  1.55it/s]\n"
     ]
    },
    {
     "name": "stdout",
     "output_type": "stream",
     "text": [
      "epoch=104: train_ppl=tensor(306.8519, device='cuda:0') train_epoch_loss=tensor(5.7264, device='cuda:0') eval_ppl=tensor(462.5837, device='cuda:0') eval_epoch_loss=tensor(6.1368, device='cuda:0')\n"
     ]
    },
    {
     "name": "stderr",
     "output_type": "stream",
     "text": [
      "100%|██████████| 7/7 [00:09<00:00,  1.35s/it]\n",
      "100%|██████████| 7/7 [00:04<00:00,  1.64it/s]\n"
     ]
    },
    {
     "name": "stdout",
     "output_type": "stream",
     "text": [
      "epoch=105: train_ppl=tensor(341.3700, device='cuda:0') train_epoch_loss=tensor(5.8330, device='cuda:0') eval_ppl=tensor(434.4532, device='cuda:0') eval_epoch_loss=tensor(6.0741, device='cuda:0')\n"
     ]
    },
    {
     "name": "stderr",
     "output_type": "stream",
     "text": [
      "100%|██████████| 7/7 [1:03:42<00:00, 546.03s/it] \n",
      "100%|██████████| 7/7 [00:48<00:00,  6.87s/it]\n"
     ]
    },
    {
     "name": "stdout",
     "output_type": "stream",
     "text": [
      "epoch=106: train_ppl=tensor(230.8731, device='cuda:0') train_epoch_loss=tensor(5.4419, device='cuda:0') eval_ppl=tensor(407.2453, device='cuda:0') eval_epoch_loss=tensor(6.0094, device='cuda:0')\n"
     ]
    },
    {
     "name": "stderr",
     "output_type": "stream",
     "text": [
      "100%|██████████| 7/7 [1:13:23<00:00, 629.11s/it]\n",
      "100%|██████████| 7/7 [00:21<00:00,  3.03s/it]\n"
     ]
    },
    {
     "name": "stdout",
     "output_type": "stream",
     "text": [
      "epoch=107: train_ppl=tensor(327.7372, device='cuda:0') train_epoch_loss=tensor(5.7922, device='cuda:0') eval_ppl=tensor(424.4761, device='cuda:0') eval_epoch_loss=tensor(6.0509, device='cuda:0')\n"
     ]
    },
    {
     "name": "stderr",
     "output_type": "stream",
     "text": [
      "100%|██████████| 7/7 [57:28<00:00, 492.69s/it]\n",
      "100%|██████████| 7/7 [01:15<00:00, 10.84s/it]\n"
     ]
    },
    {
     "name": "stdout",
     "output_type": "stream",
     "text": [
      "epoch=108: train_ppl=tensor(264.3441, device='cuda:0') train_epoch_loss=tensor(5.5773, device='cuda:0') eval_ppl=tensor(187.5572, device='cuda:0') eval_epoch_loss=tensor(5.2341, device='cuda:0')\n"
     ]
    },
    {
     "name": "stderr",
     "output_type": "stream",
     "text": [
      "100%|██████████| 7/7 [1:28:26<00:00, 758.05s/it]\n",
      "100%|██████████| 7/7 [00:55<00:00,  7.91s/it]\n"
     ]
    },
    {
     "name": "stdout",
     "output_type": "stream",
     "text": [
      "epoch=109: train_ppl=tensor(156.6410, device='cuda:0') train_epoch_loss=tensor(5.0540, device='cuda:0') eval_ppl=tensor(182.8863, device='cuda:0') eval_epoch_loss=tensor(5.2089, device='cuda:0')\n"
     ]
    },
    {
     "name": "stderr",
     "output_type": "stream",
     "text": [
      "100%|██████████| 7/7 [1:17:22<00:00, 663.15s/it] \n",
      "100%|██████████| 7/7 [00:41<00:00,  5.91s/it]\n"
     ]
    },
    {
     "name": "stdout",
     "output_type": "stream",
     "text": [
      "epoch=110: train_ppl=tensor(146.5101, device='cuda:0') train_epoch_loss=tensor(4.9871, device='cuda:0') eval_ppl=tensor(172.6053, device='cuda:0') eval_epoch_loss=tensor(5.1510, device='cuda:0')\n"
     ]
    },
    {
     "name": "stderr",
     "output_type": "stream",
     "text": [
      "100%|██████████| 7/7 [1:06:11<00:00, 567.43s/it]\n",
      "100%|██████████| 7/7 [00:34<00:00,  4.90s/it]\n"
     ]
    },
    {
     "name": "stdout",
     "output_type": "stream",
     "text": [
      "epoch=111: train_ppl=tensor(118.3200, device='cuda:0') train_epoch_loss=tensor(4.7734, device='cuda:0') eval_ppl=tensor(169.8196, device='cuda:0') eval_epoch_loss=tensor(5.1347, device='cuda:0')\n"
     ]
    },
    {
     "name": "stderr",
     "output_type": "stream",
     "text": [
      "100%|██████████| 7/7 [1:10:44<00:00, 606.41s/it] \n",
      "100%|██████████| 7/7 [00:43<00:00,  6.16s/it]\n"
     ]
    },
    {
     "name": "stdout",
     "output_type": "stream",
     "text": [
      "epoch=112: train_ppl=tensor(128.8045, device='cuda:0') train_epoch_loss=tensor(4.8583, device='cuda:0') eval_ppl=tensor(171.2877, device='cuda:0') eval_epoch_loss=tensor(5.1433, device='cuda:0')\n"
     ]
    },
    {
     "name": "stderr",
     "output_type": "stream",
     "text": [
      "100%|██████████| 7/7 [1:19:16<00:00, 679.46s/it] \n",
      "100%|██████████| 7/7 [01:10<00:00, 10.14s/it]\n"
     ]
    },
    {
     "name": "stdout",
     "output_type": "stream",
     "text": [
      "epoch=113: train_ppl=tensor(105.5585, device='cuda:0') train_epoch_loss=tensor(4.6593, device='cuda:0') eval_ppl=tensor(143.7852, device='cuda:0') eval_epoch_loss=tensor(4.9683, device='cuda:0')\n"
     ]
    },
    {
     "name": "stderr",
     "output_type": "stream",
     "text": [
      "100%|██████████| 7/7 [56:09<00:00, 481.29s/it]   \n",
      "100%|██████████| 7/7 [00:31<00:00,  4.45s/it]\n"
     ]
    },
    {
     "name": "stdout",
     "output_type": "stream",
     "text": [
      "epoch=114: train_ppl=tensor(116.1653, device='cuda:0') train_epoch_loss=tensor(4.7550, device='cuda:0') eval_ppl=tensor(131.2563, device='cuda:0') eval_epoch_loss=tensor(4.8772, device='cuda:0')\n"
     ]
    },
    {
     "name": "stderr",
     "output_type": "stream",
     "text": [
      "100%|██████████| 7/7 [1:23:43<00:00, 717.65s/it] \n",
      "100%|██████████| 7/7 [00:39<00:00,  5.61s/it]\n"
     ]
    },
    {
     "name": "stdout",
     "output_type": "stream",
     "text": [
      "epoch=115: train_ppl=tensor(104.4153, device='cuda:0') train_epoch_loss=tensor(4.6484, device='cuda:0') eval_ppl=tensor(125.1445, device='cuda:0') eval_epoch_loss=tensor(4.8295, device='cuda:0')\n"
     ]
    },
    {
     "name": "stderr",
     "output_type": "stream",
     "text": [
      "100%|██████████| 7/7 [1:12:53<00:00, 624.85s/it] \n",
      "100%|██████████| 7/7 [01:16<00:00, 10.96s/it]\n"
     ]
    },
    {
     "name": "stdout",
     "output_type": "stream",
     "text": [
      "epoch=116: train_ppl=tensor(96.5783, device='cuda:0') train_epoch_loss=tensor(4.5704, device='cuda:0') eval_ppl=tensor(108.7549, device='cuda:0') eval_epoch_loss=tensor(4.6891, device='cuda:0')\n"
     ]
    },
    {
     "name": "stderr",
     "output_type": "stream",
     "text": [
      "100%|██████████| 7/7 [1:20:29<00:00, 689.98s/it] \n",
      "100%|██████████| 7/7 [00:51<00:00,  7.30s/it]\n"
     ]
    },
    {
     "name": "stdout",
     "output_type": "stream",
     "text": [
      "epoch=117: train_ppl=tensor(84.0641, device='cuda:0') train_epoch_loss=tensor(4.4316, device='cuda:0') eval_ppl=tensor(164.1669, device='cuda:0') eval_epoch_loss=tensor(5.1009, device='cuda:0')\n"
     ]
    },
    {
     "name": "stderr",
     "output_type": "stream",
     "text": [
      "100%|██████████| 7/7 [1:07:06<00:00, 575.26s/it]\n",
      "100%|██████████| 7/7 [00:28<00:00,  4.07s/it]\n"
     ]
    },
    {
     "name": "stdout",
     "output_type": "stream",
     "text": [
      "epoch=118: train_ppl=tensor(91.2698, device='cuda:0') train_epoch_loss=tensor(4.5138, device='cuda:0') eval_ppl=tensor(117.1255, device='cuda:0') eval_epoch_loss=tensor(4.7632, device='cuda:0')\n"
     ]
    },
    {
     "name": "stderr",
     "output_type": "stream",
     "text": [
      "100%|██████████| 7/7 [1:19:54<00:00, 684.96s/it] \n",
      "100%|██████████| 7/7 [00:39<00:00,  5.69s/it]\n"
     ]
    },
    {
     "name": "stdout",
     "output_type": "stream",
     "text": [
      "epoch=119: train_ppl=tensor(88.0853, device='cuda:0') train_epoch_loss=tensor(4.4783, device='cuda:0') eval_ppl=tensor(115.5842, device='cuda:0') eval_epoch_loss=tensor(4.7500, device='cuda:0')\n"
     ]
    },
    {
     "name": "stderr",
     "output_type": "stream",
     "text": [
      "100%|██████████| 7/7 [1:10:44<00:00, 606.39s/it]\n",
      "100%|██████████| 7/7 [00:59<00:00,  8.46s/it]\n"
     ]
    },
    {
     "name": "stdout",
     "output_type": "stream",
     "text": [
      "epoch=120: train_ppl=tensor(82.2141, device='cuda:0') train_epoch_loss=tensor(4.4093, device='cuda:0') eval_ppl=tensor(94.4162, device='cuda:0') eval_epoch_loss=tensor(4.5477, device='cuda:0')\n"
     ]
    },
    {
     "name": "stderr",
     "output_type": "stream",
     "text": [
      "100%|██████████| 7/7 [1:02:33<00:00, 536.27s/it] \n",
      "100%|██████████| 7/7 [00:38<00:00,  5.45s/it]\n"
     ]
    },
    {
     "name": "stdout",
     "output_type": "stream",
     "text": [
      "epoch=121: train_ppl=tensor(76.4990, device='cuda:0') train_epoch_loss=tensor(4.3373, device='cuda:0') eval_ppl=tensor(90.6872, device='cuda:0') eval_epoch_loss=tensor(4.5074, device='cuda:0')\n"
     ]
    },
    {
     "name": "stderr",
     "output_type": "stream",
     "text": [
      "100%|██████████| 7/7 [48:46<00:00, 418.13s/it]\n",
      "100%|██████████| 7/7 [00:43<00:00,  6.16s/it]\n"
     ]
    },
    {
     "name": "stdout",
     "output_type": "stream",
     "text": [
      "epoch=122: train_ppl=tensor(54.8191, device='cuda:0') train_epoch_loss=tensor(4.0040, device='cuda:0') eval_ppl=tensor(86.9493, device='cuda:0') eval_epoch_loss=tensor(4.4653, device='cuda:0')\n"
     ]
    },
    {
     "name": "stderr",
     "output_type": "stream",
     "text": [
      "100%|██████████| 7/7 [55:35<00:00, 476.56s/it]  \n",
      "100%|██████████| 7/7 [01:11<00:00, 10.16s/it]\n"
     ]
    },
    {
     "name": "stdout",
     "output_type": "stream",
     "text": [
      "epoch=123: train_ppl=tensor(52.6746, device='cuda:0') train_epoch_loss=tensor(3.9641, device='cuda:0') eval_ppl=tensor(90.1590, device='cuda:0') eval_epoch_loss=tensor(4.5016, device='cuda:0')\n"
     ]
    },
    {
     "name": "stderr",
     "output_type": "stream",
     "text": [
      "100%|██████████| 7/7 [1:15:40<00:00, 648.59s/it] \n",
      "100%|██████████| 7/7 [00:05<00:00,  1.27it/s]\n"
     ]
    },
    {
     "name": "stdout",
     "output_type": "stream",
     "text": [
      "epoch=124: train_ppl=tensor(43.6062, device='cuda:0') train_epoch_loss=tensor(3.7752, device='cuda:0') eval_ppl=tensor(71.1353, device='cuda:0') eval_epoch_loss=tensor(4.2646, device='cuda:0')\n"
     ]
    },
    {
     "name": "stderr",
     "output_type": "stream",
     "text": [
      "100%|██████████| 7/7 [00:08<00:00,  1.18s/it]\n",
      "100%|██████████| 7/7 [00:04<00:00,  1.44it/s]\n"
     ]
    },
    {
     "name": "stdout",
     "output_type": "stream",
     "text": [
      "epoch=125: train_ppl=tensor(52.7181, device='cuda:0') train_epoch_loss=tensor(3.9650, device='cuda:0') eval_ppl=tensor(67.1254, device='cuda:0') eval_epoch_loss=tensor(4.2066, device='cuda:0')\n"
     ]
    },
    {
     "name": "stderr",
     "output_type": "stream",
     "text": [
      "100%|██████████| 7/7 [00:10<00:00,  1.49s/it]\n",
      "100%|██████████| 7/7 [00:05<00:00,  1.34it/s]\n"
     ]
    },
    {
     "name": "stdout",
     "output_type": "stream",
     "text": [
      "epoch=126: train_ppl=tensor(44.5158, device='cuda:0') train_epoch_loss=tensor(3.7958, device='cuda:0') eval_ppl=tensor(55.9668, device='cuda:0') eval_epoch_loss=tensor(4.0248, device='cuda:0')\n"
     ]
    },
    {
     "name": "stderr",
     "output_type": "stream",
     "text": [
      "100%|██████████| 7/7 [00:10<00:00,  1.53s/it]\n",
      "100%|██████████| 7/7 [00:04<00:00,  1.44it/s]\n"
     ]
    },
    {
     "name": "stdout",
     "output_type": "stream",
     "text": [
      "epoch=127: train_ppl=tensor(41.6829, device='cuda:0') train_epoch_loss=tensor(3.7301, device='cuda:0') eval_ppl=tensor(47.1066, device='cuda:0') eval_epoch_loss=tensor(3.8524, device='cuda:0')\n"
     ]
    },
    {
     "name": "stderr",
     "output_type": "stream",
     "text": [
      "100%|██████████| 7/7 [00:11<00:00,  1.57s/it]\n",
      "100%|██████████| 7/7 [00:16<00:00,  2.43s/it]\n"
     ]
    },
    {
     "name": "stdout",
     "output_type": "stream",
     "text": [
      "epoch=128: train_ppl=tensor(26.5127, device='cuda:0') train_epoch_loss=tensor(3.2776, device='cuda:0') eval_ppl=tensor(46.7074, device='cuda:0') eval_epoch_loss=tensor(3.8439, device='cuda:0')\n"
     ]
    },
    {
     "name": "stderr",
     "output_type": "stream",
     "text": [
      "100%|██████████| 7/7 [00:04<00:00,  1.73it/s]\n",
      "100%|██████████| 7/7 [00:01<00:00,  5.95it/s]\n"
     ]
    },
    {
     "name": "stdout",
     "output_type": "stream",
     "text": [
      "epoch=129: train_ppl=tensor(26.3599, device='cuda:0') train_epoch_loss=tensor(3.2718, device='cuda:0') eval_ppl=tensor(44.5336, device='cuda:0') eval_epoch_loss=tensor(3.7962, device='cuda:0')\n"
     ]
    },
    {
     "name": "stderr",
     "output_type": "stream",
     "text": [
      "100%|██████████| 7/7 [00:02<00:00,  2.33it/s]\n",
      "100%|██████████| 7/7 [00:01<00:00,  4.43it/s]\n"
     ]
    },
    {
     "name": "stdout",
     "output_type": "stream",
     "text": [
      "epoch=130: train_ppl=tensor(32.4588, device='cuda:0') train_epoch_loss=tensor(3.4800, device='cuda:0') eval_ppl=tensor(41.8781, device='cuda:0') eval_epoch_loss=tensor(3.7348, device='cuda:0')\n"
     ]
    },
    {
     "name": "stderr",
     "output_type": "stream",
     "text": [
      "100%|██████████| 7/7 [00:03<00:00,  1.98it/s]\n",
      "100%|██████████| 7/7 [00:01<00:00,  4.83it/s]\n"
     ]
    },
    {
     "name": "stdout",
     "output_type": "stream",
     "text": [
      "epoch=131: train_ppl=tensor(21.1635, device='cuda:0') train_epoch_loss=tensor(3.0523, device='cuda:0') eval_ppl=tensor(39.5001, device='cuda:0') eval_epoch_loss=tensor(3.6763, device='cuda:0')\n"
     ]
    },
    {
     "name": "stderr",
     "output_type": "stream",
     "text": [
      "100%|██████████| 7/7 [00:03<00:00,  1.80it/s]\n",
      "100%|██████████| 7/7 [00:01<00:00,  3.89it/s]\n"
     ]
    },
    {
     "name": "stdout",
     "output_type": "stream",
     "text": [
      "epoch=132: train_ppl=tensor(20.6082, device='cuda:0') train_epoch_loss=tensor(3.0257, device='cuda:0') eval_ppl=tensor(35.3787, device='cuda:0') eval_epoch_loss=tensor(3.5661, device='cuda:0')\n"
     ]
    },
    {
     "name": "stderr",
     "output_type": "stream",
     "text": [
      "100%|██████████| 7/7 [00:02<00:00,  2.54it/s]\n",
      "100%|██████████| 7/7 [00:01<00:00,  4.92it/s]\n"
     ]
    },
    {
     "name": "stdout",
     "output_type": "stream",
     "text": [
      "epoch=133: train_ppl=tensor(27.4504, device='cuda:0') train_epoch_loss=tensor(3.3124, device='cuda:0') eval_ppl=tensor(33.0193, device='cuda:0') eval_epoch_loss=tensor(3.4971, device='cuda:0')\n"
     ]
    },
    {
     "name": "stderr",
     "output_type": "stream",
     "text": [
      "100%|██████████| 7/7 [00:02<00:00,  2.66it/s]\n",
      "100%|██████████| 7/7 [00:01<00:00,  5.97it/s]\n"
     ]
    },
    {
     "name": "stdout",
     "output_type": "stream",
     "text": [
      "epoch=134: train_ppl=tensor(31.2349, device='cuda:0') train_epoch_loss=tensor(3.4415, device='cuda:0') eval_ppl=tensor(32.3861, device='cuda:0') eval_epoch_loss=tensor(3.4777, device='cuda:0')\n"
     ]
    },
    {
     "name": "stderr",
     "output_type": "stream",
     "text": [
      "100%|██████████| 7/7 [00:02<00:00,  2.59it/s]\n",
      "100%|██████████| 7/7 [00:01<00:00,  4.29it/s]\n"
     ]
    },
    {
     "name": "stdout",
     "output_type": "stream",
     "text": [
      "epoch=135: train_ppl=tensor(24.6361, device='cuda:0') train_epoch_loss=tensor(3.2042, device='cuda:0') eval_ppl=tensor(31.4180, device='cuda:0') eval_epoch_loss=tensor(3.4474, device='cuda:0')\n"
     ]
    },
    {
     "name": "stderr",
     "output_type": "stream",
     "text": [
      "100%|██████████| 7/7 [00:05<00:00,  1.32it/s]\n",
      "100%|██████████| 7/7 [00:01<00:00,  5.15it/s]\n"
     ]
    },
    {
     "name": "stdout",
     "output_type": "stream",
     "text": [
      "epoch=136: train_ppl=tensor(24.6455, device='cuda:0') train_epoch_loss=tensor(3.2046, device='cuda:0') eval_ppl=tensor(29.9343, device='cuda:0') eval_epoch_loss=tensor(3.3990, device='cuda:0')\n"
     ]
    },
    {
     "name": "stderr",
     "output_type": "stream",
     "text": [
      "100%|██████████| 7/7 [00:02<00:00,  2.47it/s]\n",
      "100%|██████████| 7/7 [00:01<00:00,  5.20it/s]\n"
     ]
    },
    {
     "name": "stdout",
     "output_type": "stream",
     "text": [
      "epoch=137: train_ppl=tensor(23.5283, device='cuda:0') train_epoch_loss=tensor(3.1582, device='cuda:0') eval_ppl=tensor(29.1420, device='cuda:0') eval_epoch_loss=tensor(3.3722, device='cuda:0')\n"
     ]
    },
    {
     "name": "stderr",
     "output_type": "stream",
     "text": [
      "100%|██████████| 7/7 [00:03<00:00,  2.31it/s]\n",
      "100%|██████████| 7/7 [00:01<00:00,  5.75it/s]\n"
     ]
    },
    {
     "name": "stdout",
     "output_type": "stream",
     "text": [
      "epoch=138: train_ppl=tensor(21.4466, device='cuda:0') train_epoch_loss=tensor(3.0656, device='cuda:0') eval_ppl=tensor(27.8836, device='cuda:0') eval_epoch_loss=tensor(3.3280, device='cuda:0')\n"
     ]
    },
    {
     "name": "stderr",
     "output_type": "stream",
     "text": [
      "100%|██████████| 7/7 [00:02<00:00,  2.61it/s]\n",
      "100%|██████████| 7/7 [00:01<00:00,  5.87it/s]\n"
     ]
    },
    {
     "name": "stdout",
     "output_type": "stream",
     "text": [
      "epoch=139: train_ppl=tensor(16.8838, device='cuda:0') train_epoch_loss=tensor(2.8264, device='cuda:0') eval_ppl=tensor(27.8093, device='cuda:0') eval_epoch_loss=tensor(3.3254, device='cuda:0')\n"
     ]
    },
    {
     "name": "stderr",
     "output_type": "stream",
     "text": [
      "100%|██████████| 7/7 [00:02<00:00,  2.61it/s]\n",
      "100%|██████████| 7/7 [00:01<00:00,  5.62it/s]\n"
     ]
    },
    {
     "name": "stdout",
     "output_type": "stream",
     "text": [
      "epoch=140: train_ppl=tensor(18.6088, device='cuda:0') train_epoch_loss=tensor(2.9236, device='cuda:0') eval_ppl=tensor(30.9546, device='cuda:0') eval_epoch_loss=tensor(3.4325, device='cuda:0')\n"
     ]
    },
    {
     "name": "stderr",
     "output_type": "stream",
     "text": [
      "100%|██████████| 7/7 [00:02<00:00,  2.57it/s]\n",
      "100%|██████████| 7/7 [00:01<00:00,  5.44it/s]\n"
     ]
    },
    {
     "name": "stdout",
     "output_type": "stream",
     "text": [
      "epoch=141: train_ppl=tensor(22.2948, device='cuda:0') train_epoch_loss=tensor(3.1044, device='cuda:0') eval_ppl=tensor(27.0198, device='cuda:0') eval_epoch_loss=tensor(3.2966, device='cuda:0')\n"
     ]
    },
    {
     "name": "stderr",
     "output_type": "stream",
     "text": [
      "100%|██████████| 7/7 [00:02<00:00,  2.50it/s]\n",
      "100%|██████████| 7/7 [00:01<00:00,  5.88it/s]\n"
     ]
    },
    {
     "name": "stdout",
     "output_type": "stream",
     "text": [
      "epoch=142: train_ppl=tensor(23.4757, device='cuda:0') train_epoch_loss=tensor(3.1560, device='cuda:0') eval_ppl=tensor(25.7007, device='cuda:0') eval_epoch_loss=tensor(3.2465, device='cuda:0')\n"
     ]
    },
    {
     "name": "stderr",
     "output_type": "stream",
     "text": [
      "100%|██████████| 7/7 [00:02<00:00,  2.67it/s]\n",
      "100%|██████████| 7/7 [00:01<00:00,  5.87it/s]\n"
     ]
    },
    {
     "name": "stdout",
     "output_type": "stream",
     "text": [
      "epoch=143: train_ppl=tensor(15.6382, device='cuda:0') train_epoch_loss=tensor(2.7497, device='cuda:0') eval_ppl=tensor(23.8874, device='cuda:0') eval_epoch_loss=tensor(3.1734, device='cuda:0')\n"
     ]
    },
    {
     "name": "stderr",
     "output_type": "stream",
     "text": [
      "100%|██████████| 7/7 [00:02<00:00,  2.66it/s]\n",
      "100%|██████████| 7/7 [00:01<00:00,  5.90it/s]\n"
     ]
    },
    {
     "name": "stdout",
     "output_type": "stream",
     "text": [
      "epoch=144: train_ppl=tensor(18.6753, device='cuda:0') train_epoch_loss=tensor(2.9272, device='cuda:0') eval_ppl=tensor(23.4970, device='cuda:0') eval_epoch_loss=tensor(3.1569, device='cuda:0')\n"
     ]
    },
    {
     "name": "stderr",
     "output_type": "stream",
     "text": [
      "100%|██████████| 7/7 [00:02<00:00,  2.69it/s]\n",
      "100%|██████████| 7/7 [00:01<00:00,  5.38it/s]\n"
     ]
    },
    {
     "name": "stdout",
     "output_type": "stream",
     "text": [
      "epoch=145: train_ppl=tensor(18.6349, device='cuda:0') train_epoch_loss=tensor(2.9250, device='cuda:0') eval_ppl=tensor(26.1426, device='cuda:0') eval_epoch_loss=tensor(3.2636, device='cuda:0')\n"
     ]
    },
    {
     "name": "stderr",
     "output_type": "stream",
     "text": [
      "100%|██████████| 7/7 [00:02<00:00,  2.53it/s]\n",
      "100%|██████████| 7/7 [00:01<00:00,  5.21it/s]\n"
     ]
    },
    {
     "name": "stdout",
     "output_type": "stream",
     "text": [
      "epoch=146: train_ppl=tensor(20.2580, device='cuda:0') train_epoch_loss=tensor(3.0085, device='cuda:0') eval_ppl=tensor(25.0693, device='cuda:0') eval_epoch_loss=tensor(3.2216, device='cuda:0')\n"
     ]
    },
    {
     "name": "stderr",
     "output_type": "stream",
     "text": [
      "100%|██████████| 7/7 [00:02<00:00,  2.36it/s]\n",
      "100%|██████████| 7/7 [00:01<00:00,  5.90it/s]\n"
     ]
    },
    {
     "name": "stdout",
     "output_type": "stream",
     "text": [
      "epoch=147: train_ppl=tensor(14.5909, device='cuda:0') train_epoch_loss=tensor(2.6804, device='cuda:0') eval_ppl=tensor(22.0161, device='cuda:0') eval_epoch_loss=tensor(3.0918, device='cuda:0')\n"
     ]
    },
    {
     "name": "stderr",
     "output_type": "stream",
     "text": [
      "100%|██████████| 7/7 [00:03<00:00,  1.91it/s]\n",
      "100%|██████████| 7/7 [00:04<00:00,  1.53it/s]\n"
     ]
    },
    {
     "name": "stdout",
     "output_type": "stream",
     "text": [
      "epoch=148: train_ppl=tensor(17.2339, device='cuda:0') train_epoch_loss=tensor(2.8469, device='cuda:0') eval_ppl=tensor(20.8976, device='cuda:0') eval_epoch_loss=tensor(3.0396, device='cuda:0')\n"
     ]
    },
    {
     "name": "stderr",
     "output_type": "stream",
     "text": [
      "100%|██████████| 7/7 [00:04<00:00,  1.55it/s]\n",
      "100%|██████████| 7/7 [00:01<00:00,  5.89it/s]\n"
     ]
    },
    {
     "name": "stdout",
     "output_type": "stream",
     "text": [
      "epoch=149: train_ppl=tensor(17.3833, device='cuda:0') train_epoch_loss=tensor(2.8555, device='cuda:0') eval_ppl=tensor(19.6981, device='cuda:0') eval_epoch_loss=tensor(2.9805, device='cuda:0')\n"
     ]
    },
    {
     "name": "stderr",
     "output_type": "stream",
     "text": [
      "100%|██████████| 7/7 [00:02<00:00,  2.70it/s]\n",
      "100%|██████████| 7/7 [00:01<00:00,  5.86it/s]\n"
     ]
    },
    {
     "name": "stdout",
     "output_type": "stream",
     "text": [
      "epoch=150: train_ppl=tensor(14.6203, device='cuda:0') train_epoch_loss=tensor(2.6824, device='cuda:0') eval_ppl=tensor(17.9491, device='cuda:0') eval_epoch_loss=tensor(2.8875, device='cuda:0')\n"
     ]
    },
    {
     "name": "stderr",
     "output_type": "stream",
     "text": [
      "100%|██████████| 7/7 [00:02<00:00,  2.53it/s]\n",
      "100%|██████████| 7/7 [00:01<00:00,  4.83it/s]\n"
     ]
    },
    {
     "name": "stdout",
     "output_type": "stream",
     "text": [
      "epoch=151: train_ppl=tensor(14.3766, device='cuda:0') train_epoch_loss=tensor(2.6656, device='cuda:0') eval_ppl=tensor(15.8578, device='cuda:0') eval_epoch_loss=tensor(2.7637, device='cuda:0')\n"
     ]
    },
    {
     "name": "stderr",
     "output_type": "stream",
     "text": [
      "100%|██████████| 7/7 [00:02<00:00,  2.47it/s]\n",
      "100%|██████████| 7/7 [00:01<00:00,  5.92it/s]\n"
     ]
    },
    {
     "name": "stdout",
     "output_type": "stream",
     "text": [
      "epoch=152: train_ppl=tensor(14.8325, device='cuda:0') train_epoch_loss=tensor(2.6968, device='cuda:0') eval_ppl=tensor(17.5758, device='cuda:0') eval_epoch_loss=tensor(2.8665, device='cuda:0')\n"
     ]
    },
    {
     "name": "stderr",
     "output_type": "stream",
     "text": [
      "100%|██████████| 7/7 [00:02<00:00,  2.69it/s]\n",
      "100%|██████████| 7/7 [00:01<00:00,  5.92it/s]\n"
     ]
    },
    {
     "name": "stdout",
     "output_type": "stream",
     "text": [
      "epoch=153: train_ppl=tensor(13.9416, device='cuda:0') train_epoch_loss=tensor(2.6349, device='cuda:0') eval_ppl=tensor(15.6263, device='cuda:0') eval_epoch_loss=tensor(2.7490, device='cuda:0')\n"
     ]
    },
    {
     "name": "stderr",
     "output_type": "stream",
     "text": [
      "100%|██████████| 7/7 [00:02<00:00,  2.70it/s]\n",
      "100%|██████████| 7/7 [00:01<00:00,  5.86it/s]\n"
     ]
    },
    {
     "name": "stdout",
     "output_type": "stream",
     "text": [
      "epoch=154: train_ppl=tensor(10.5515, device='cuda:0') train_epoch_loss=tensor(2.3563, device='cuda:0') eval_ppl=tensor(14.6163, device='cuda:0') eval_epoch_loss=tensor(2.6821, device='cuda:0')\n"
     ]
    },
    {
     "name": "stderr",
     "output_type": "stream",
     "text": [
      "100%|██████████| 7/7 [00:02<00:00,  2.68it/s]\n",
      "100%|██████████| 7/7 [00:01<00:00,  5.81it/s]\n"
     ]
    },
    {
     "name": "stdout",
     "output_type": "stream",
     "text": [
      "epoch=155: train_ppl=tensor(12.2156, device='cuda:0') train_epoch_loss=tensor(2.5027, device='cuda:0') eval_ppl=tensor(14.0427, device='cuda:0') eval_epoch_loss=tensor(2.6421, device='cuda:0')\n"
     ]
    },
    {
     "name": "stderr",
     "output_type": "stream",
     "text": [
      "100%|██████████| 7/7 [00:02<00:00,  2.70it/s]\n",
      "100%|██████████| 7/7 [00:01<00:00,  5.88it/s]\n"
     ]
    },
    {
     "name": "stdout",
     "output_type": "stream",
     "text": [
      "epoch=156: train_ppl=tensor(9.8010, device='cuda:0') train_epoch_loss=tensor(2.2825, device='cuda:0') eval_ppl=tensor(13.5657, device='cuda:0') eval_epoch_loss=tensor(2.6075, device='cuda:0')\n"
     ]
    },
    {
     "name": "stderr",
     "output_type": "stream",
     "text": [
      "100%|██████████| 7/7 [00:02<00:00,  2.67it/s]\n",
      "100%|██████████| 7/7 [00:01<00:00,  5.95it/s]\n"
     ]
    },
    {
     "name": "stdout",
     "output_type": "stream",
     "text": [
      "epoch=157: train_ppl=tensor(12.0428, device='cuda:0') train_epoch_loss=tensor(2.4885, device='cuda:0') eval_ppl=tensor(14.2585, device='cuda:0') eval_epoch_loss=tensor(2.6574, device='cuda:0')\n"
     ]
    },
    {
     "name": "stderr",
     "output_type": "stream",
     "text": [
      "100%|██████████| 7/7 [00:02<00:00,  2.68it/s]\n",
      "100%|██████████| 7/7 [00:01<00:00,  4.48it/s]\n"
     ]
    },
    {
     "name": "stdout",
     "output_type": "stream",
     "text": [
      "epoch=158: train_ppl=tensor(15.4568, device='cuda:0') train_epoch_loss=tensor(2.7380, device='cuda:0') eval_ppl=tensor(13.0819, device='cuda:0') eval_epoch_loss=tensor(2.5712, device='cuda:0')\n"
     ]
    },
    {
     "name": "stderr",
     "output_type": "stream",
     "text": [
      "100%|██████████| 7/7 [00:03<00:00,  1.87it/s]\n",
      "100%|██████████| 7/7 [00:01<00:00,  5.86it/s]\n"
     ]
    },
    {
     "name": "stdout",
     "output_type": "stream",
     "text": [
      "epoch=159: train_ppl=tensor(13.4884, device='cuda:0') train_epoch_loss=tensor(2.6018, device='cuda:0') eval_ppl=tensor(13.1807, device='cuda:0') eval_epoch_loss=tensor(2.5788, device='cuda:0')\n"
     ]
    },
    {
     "name": "stderr",
     "output_type": "stream",
     "text": [
      "100%|██████████| 7/7 [00:02<00:00,  2.70it/s]\n",
      "100%|██████████| 7/7 [00:01<00:00,  5.87it/s]\n"
     ]
    },
    {
     "name": "stdout",
     "output_type": "stream",
     "text": [
      "epoch=160: train_ppl=tensor(10.7734, device='cuda:0') train_epoch_loss=tensor(2.3771, device='cuda:0') eval_ppl=tensor(12.2050, device='cuda:0') eval_epoch_loss=tensor(2.5018, device='cuda:0')\n"
     ]
    },
    {
     "name": "stderr",
     "output_type": "stream",
     "text": [
      "100%|██████████| 7/7 [00:02<00:00,  2.70it/s]\n",
      "100%|██████████| 7/7 [00:01<00:00,  5.86it/s]\n"
     ]
    },
    {
     "name": "stdout",
     "output_type": "stream",
     "text": [
      "epoch=161: train_ppl=tensor(4729.7832, device='cuda:0') train_epoch_loss=tensor(8.4616, device='cuda:0') eval_ppl=tensor(1.1145e+08, device='cuda:0') eval_epoch_loss=tensor(18.5291, device='cuda:0')\n"
     ]
    },
    {
     "name": "stderr",
     "output_type": "stream",
     "text": [
      "100%|██████████| 7/7 [00:02<00:00,  2.68it/s]\n",
      "100%|██████████| 7/7 [00:01<00:00,  5.86it/s]\n"
     ]
    },
    {
     "name": "stdout",
     "output_type": "stream",
     "text": [
      "epoch=162: train_ppl=tensor(2886703., device='cuda:0') train_epoch_loss=tensor(14.8756, device='cuda:0') eval_ppl=tensor(3717.2678, device='cuda:0') eval_epoch_loss=tensor(8.2207, device='cuda:0')\n"
     ]
    },
    {
     "name": "stderr",
     "output_type": "stream",
     "text": [
      "100%|██████████| 7/7 [00:02<00:00,  2.70it/s]\n",
      "100%|██████████| 7/7 [00:01<00:00,  5.84it/s]\n"
     ]
    },
    {
     "name": "stdout",
     "output_type": "stream",
     "text": [
      "epoch=163: train_ppl=tensor(8744.9775, device='cuda:0') train_epoch_loss=tensor(9.0762, device='cuda:0') eval_ppl=tensor(7837.7812, device='cuda:0') eval_epoch_loss=tensor(8.9667, device='cuda:0')\n"
     ]
    },
    {
     "name": "stderr",
     "output_type": "stream",
     "text": [
      "100%|██████████| 7/7 [00:02<00:00,  2.70it/s]\n",
      "100%|██████████| 7/7 [00:01<00:00,  5.91it/s]\n"
     ]
    },
    {
     "name": "stdout",
     "output_type": "stream",
     "text": [
      "epoch=164: train_ppl=tensor(5638.1538, device='cuda:0') train_epoch_loss=tensor(8.6373, device='cuda:0') eval_ppl=tensor(2123.6399, device='cuda:0') eval_epoch_loss=tensor(7.6609, device='cuda:0')\n"
     ]
    },
    {
     "name": "stderr",
     "output_type": "stream",
     "text": [
      "100%|██████████| 7/7 [00:05<00:00,  1.35it/s]\n",
      "100%|██████████| 7/7 [00:02<00:00,  2.86it/s]\n"
     ]
    },
    {
     "name": "stdout",
     "output_type": "stream",
     "text": [
      "epoch=165: train_ppl=tensor(1618.7377, device='cuda:0') train_epoch_loss=tensor(7.3894, device='cuda:0') eval_ppl=tensor(956.0134, device='cuda:0') eval_epoch_loss=tensor(6.8628, device='cuda:0')\n"
     ]
    },
    {
     "name": "stderr",
     "output_type": "stream",
     "text": [
      "100%|██████████| 7/7 [00:03<00:00,  2.23it/s]\n",
      "100%|██████████| 7/7 [00:01<00:00,  5.88it/s]\n"
     ]
    },
    {
     "name": "stdout",
     "output_type": "stream",
     "text": [
      "epoch=166: train_ppl=tensor(680.7069, device='cuda:0') train_epoch_loss=tensor(6.5231, device='cuda:0') eval_ppl=tensor(406.7025, device='cuda:0') eval_epoch_loss=tensor(6.0081, device='cuda:0')\n"
     ]
    },
    {
     "name": "stderr",
     "output_type": "stream",
     "text": [
      "100%|██████████| 7/7 [00:02<00:00,  2.65it/s]\n",
      "100%|██████████| 7/7 [00:01<00:00,  5.96it/s]\n"
     ]
    },
    {
     "name": "stdout",
     "output_type": "stream",
     "text": [
      "epoch=167: train_ppl=tensor(311.6686, device='cuda:0') train_epoch_loss=tensor(5.7419, device='cuda:0') eval_ppl=tensor(215.5875, device='cuda:0') eval_epoch_loss=tensor(5.3734, device='cuda:0')\n"
     ]
    },
    {
     "name": "stderr",
     "output_type": "stream",
     "text": [
      "100%|██████████| 7/7 [00:02<00:00,  2.67it/s]\n",
      "100%|██████████| 7/7 [00:01<00:00,  5.97it/s]\n"
     ]
    },
    {
     "name": "stdout",
     "output_type": "stream",
     "text": [
      "epoch=168: train_ppl=tensor(183.7753, device='cuda:0') train_epoch_loss=tensor(5.2137, device='cuda:0') eval_ppl=tensor(141.6619, device='cuda:0') eval_epoch_loss=tensor(4.9534, device='cuda:0')\n"
     ]
    },
    {
     "name": "stderr",
     "output_type": "stream",
     "text": [
      "100%|██████████| 7/7 [00:02<00:00,  2.64it/s]\n",
      "100%|██████████| 7/7 [00:01<00:00,  5.96it/s]\n"
     ]
    },
    {
     "name": "stdout",
     "output_type": "stream",
     "text": [
      "epoch=169: train_ppl=tensor(120.4049, device='cuda:0') train_epoch_loss=tensor(4.7909, device='cuda:0') eval_ppl=tensor(107.0402, device='cuda:0') eval_epoch_loss=tensor(4.6732, device='cuda:0')\n"
     ]
    },
    {
     "name": "stderr",
     "output_type": "stream",
     "text": [
      "100%|██████████| 7/7 [00:03<00:00,  1.98it/s]\n",
      "100%|██████████| 7/7 [00:01<00:00,  5.25it/s]\n"
     ]
    },
    {
     "name": "stdout",
     "output_type": "stream",
     "text": [
      "epoch=170: train_ppl=tensor(86.3314, device='cuda:0') train_epoch_loss=tensor(4.4582, device='cuda:0') eval_ppl=tensor(78.4089, device='cuda:0') eval_epoch_loss=tensor(4.3619, device='cuda:0')\n"
     ]
    },
    {
     "name": "stderr",
     "output_type": "stream",
     "text": [
      "100%|██████████| 7/7 [00:02<00:00,  2.47it/s]\n",
      "100%|██████████| 7/7 [00:01<00:00,  5.86it/s]\n"
     ]
    },
    {
     "name": "stdout",
     "output_type": "stream",
     "text": [
      "epoch=171: train_ppl=tensor(69.0507, device='cuda:0') train_epoch_loss=tensor(4.2348, device='cuda:0') eval_ppl=tensor(59.6059, device='cuda:0') eval_epoch_loss=tensor(4.0878, device='cuda:0')\n"
     ]
    },
    {
     "name": "stderr",
     "output_type": "stream",
     "text": [
      "100%|██████████| 7/7 [00:02<00:00,  2.36it/s]\n",
      "100%|██████████| 7/7 [00:01<00:00,  4.94it/s]\n"
     ]
    },
    {
     "name": "stdout",
     "output_type": "stream",
     "text": [
      "epoch=172: train_ppl=tensor(49.0972, device='cuda:0') train_epoch_loss=tensor(3.8938, device='cuda:0') eval_ppl=tensor(47.1028, device='cuda:0') eval_epoch_loss=tensor(3.8523, device='cuda:0')\n"
     ]
    },
    {
     "name": "stderr",
     "output_type": "stream",
     "text": [
      "100%|██████████| 7/7 [00:02<00:00,  2.54it/s]\n",
      "100%|██████████| 7/7 [00:01<00:00,  5.86it/s]\n"
     ]
    },
    {
     "name": "stdout",
     "output_type": "stream",
     "text": [
      "epoch=173: train_ppl=tensor(40.9924, device='cuda:0') train_epoch_loss=tensor(3.7134, device='cuda:0') eval_ppl=tensor(37.9117, device='cuda:0') eval_epoch_loss=tensor(3.6353, device='cuda:0')\n"
     ]
    },
    {
     "name": "stderr",
     "output_type": "stream",
     "text": [
      "100%|██████████| 7/7 [00:02<00:00,  2.63it/s]\n",
      "100%|██████████| 7/7 [00:01<00:00,  5.89it/s]\n"
     ]
    },
    {
     "name": "stdout",
     "output_type": "stream",
     "text": [
      "epoch=174: train_ppl=tensor(32.0560, device='cuda:0') train_epoch_loss=tensor(3.4675, device='cuda:0') eval_ppl=tensor(31.0182, device='cuda:0') eval_epoch_loss=tensor(3.4346, device='cuda:0')\n"
     ]
    },
    {
     "name": "stderr",
     "output_type": "stream",
     "text": [
      "100%|██████████| 7/7 [00:02<00:00,  2.66it/s]\n",
      "100%|██████████| 7/7 [00:01<00:00,  5.89it/s]\n"
     ]
    },
    {
     "name": "stdout",
     "output_type": "stream",
     "text": [
      "epoch=175: train_ppl=tensor(28.4849, device='cuda:0') train_epoch_loss=tensor(3.3494, device='cuda:0') eval_ppl=tensor(24.8487, device='cuda:0') eval_epoch_loss=tensor(3.2128, device='cuda:0')\n"
     ]
    },
    {
     "name": "stderr",
     "output_type": "stream",
     "text": [
      "100%|██████████| 7/7 [00:02<00:00,  2.71it/s]\n",
      "100%|██████████| 7/7 [00:01<00:00,  5.74it/s]\n"
     ]
    },
    {
     "name": "stdout",
     "output_type": "stream",
     "text": [
      "epoch=176: train_ppl=tensor(20.2302, device='cuda:0') train_epoch_loss=tensor(3.0072, device='cuda:0') eval_ppl=tensor(17.4857, device='cuda:0') eval_epoch_loss=tensor(2.8614, device='cuda:0')\n"
     ]
    },
    {
     "name": "stderr",
     "output_type": "stream",
     "text": [
      "100%|██████████| 7/7 [00:02<00:00,  2.67it/s]\n",
      "100%|██████████| 7/7 [00:01<00:00,  5.90it/s]\n"
     ]
    },
    {
     "name": "stdout",
     "output_type": "stream",
     "text": [
      "epoch=177: train_ppl=tensor(17.8069, device='cuda:0') train_epoch_loss=tensor(2.8796, device='cuda:0') eval_ppl=tensor(14.6701, device='cuda:0') eval_epoch_loss=tensor(2.6858, device='cuda:0')\n"
     ]
    },
    {
     "name": "stderr",
     "output_type": "stream",
     "text": [
      "100%|██████████| 7/7 [00:02<00:00,  2.65it/s]\n",
      "100%|██████████| 7/7 [00:01<00:00,  5.93it/s]\n"
     ]
    },
    {
     "name": "stdout",
     "output_type": "stream",
     "text": [
      "epoch=178: train_ppl=tensor(14.6483, device='cuda:0') train_epoch_loss=tensor(2.6843, device='cuda:0') eval_ppl=tensor(12.1484, device='cuda:0') eval_epoch_loss=tensor(2.4972, device='cuda:0')\n"
     ]
    },
    {
     "name": "stderr",
     "output_type": "stream",
     "text": [
      "100%|██████████| 7/7 [00:02<00:00,  2.66it/s]\n",
      "100%|██████████| 7/7 [00:01<00:00,  5.86it/s]\n"
     ]
    },
    {
     "name": "stdout",
     "output_type": "stream",
     "text": [
      "epoch=179: train_ppl=tensor(11.8603, device='cuda:0') train_epoch_loss=tensor(2.4732, device='cuda:0') eval_ppl=tensor(11.4125, device='cuda:0') eval_epoch_loss=tensor(2.4347, device='cuda:0')\n"
     ]
    },
    {
     "name": "stderr",
     "output_type": "stream",
     "text": [
      "100%|██████████| 7/7 [00:02<00:00,  2.65it/s]\n",
      "100%|██████████| 7/7 [00:01<00:00,  5.91it/s]\n"
     ]
    },
    {
     "name": "stdout",
     "output_type": "stream",
     "text": [
      "epoch=180: train_ppl=tensor(10.1906, device='cuda:0') train_epoch_loss=tensor(2.3215, device='cuda:0') eval_ppl=tensor(9.7964, device='cuda:0') eval_epoch_loss=tensor(2.2820, device='cuda:0')\n"
     ]
    },
    {
     "name": "stderr",
     "output_type": "stream",
     "text": [
      "100%|██████████| 7/7 [00:02<00:00,  2.49it/s]\n",
      "100%|██████████| 7/7 [00:01<00:00,  5.49it/s]\n"
     ]
    },
    {
     "name": "stdout",
     "output_type": "stream",
     "text": [
      "epoch=181: train_ppl=tensor(8.8372, device='cuda:0') train_epoch_loss=tensor(2.1790, device='cuda:0') eval_ppl=tensor(8.8149, device='cuda:0') eval_epoch_loss=tensor(2.1764, device='cuda:0')\n"
     ]
    },
    {
     "name": "stderr",
     "output_type": "stream",
     "text": [
      "100%|██████████| 7/7 [00:02<00:00,  2.69it/s]\n",
      "100%|██████████| 7/7 [00:01<00:00,  5.93it/s]\n"
     ]
    },
    {
     "name": "stdout",
     "output_type": "stream",
     "text": [
      "epoch=182: train_ppl=tensor(8.2998, device='cuda:0') train_epoch_loss=tensor(2.1162, device='cuda:0') eval_ppl=tensor(8.1098, device='cuda:0') eval_epoch_loss=tensor(2.0931, device='cuda:0')\n"
     ]
    },
    {
     "name": "stderr",
     "output_type": "stream",
     "text": [
      "100%|██████████| 7/7 [00:02<00:00,  2.67it/s]\n",
      "100%|██████████| 7/7 [00:01<00:00,  5.93it/s]\n"
     ]
    },
    {
     "name": "stdout",
     "output_type": "stream",
     "text": [
      "epoch=183: train_ppl=tensor(7.1051, device='cuda:0') train_epoch_loss=tensor(1.9608, device='cuda:0') eval_ppl=tensor(7.0391, device='cuda:0') eval_epoch_loss=tensor(1.9515, device='cuda:0')\n"
     ]
    },
    {
     "name": "stderr",
     "output_type": "stream",
     "text": [
      "100%|██████████| 7/7 [00:02<00:00,  2.69it/s]\n",
      "100%|██████████| 7/7 [00:01<00:00,  5.93it/s]\n"
     ]
    },
    {
     "name": "stdout",
     "output_type": "stream",
     "text": [
      "epoch=184: train_ppl=tensor(6.5367, device='cuda:0') train_epoch_loss=tensor(1.8774, device='cuda:0') eval_ppl=tensor(6.7596, device='cuda:0') eval_epoch_loss=tensor(1.9110, device='cuda:0')\n"
     ]
    },
    {
     "name": "stderr",
     "output_type": "stream",
     "text": [
      "100%|██████████| 7/7 [00:02<00:00,  2.69it/s]\n",
      "100%|██████████| 7/7 [00:01<00:00,  5.90it/s]\n"
     ]
    },
    {
     "name": "stdout",
     "output_type": "stream",
     "text": [
      "epoch=185: train_ppl=tensor(6.1194, device='cuda:0') train_epoch_loss=tensor(1.8115, device='cuda:0') eval_ppl=tensor(6.3233, device='cuda:0') eval_epoch_loss=tensor(1.8442, device='cuda:0')\n"
     ]
    },
    {
     "name": "stderr",
     "output_type": "stream",
     "text": [
      "100%|██████████| 7/7 [00:02<00:00,  2.68it/s]\n",
      "100%|██████████| 7/7 [00:01<00:00,  5.88it/s]\n"
     ]
    },
    {
     "name": "stdout",
     "output_type": "stream",
     "text": [
      "epoch=186: train_ppl=tensor(5.9053, device='cuda:0') train_epoch_loss=tensor(1.7758, device='cuda:0') eval_ppl=tensor(6.0458, device='cuda:0') eval_epoch_loss=tensor(1.7994, device='cuda:0')\n"
     ]
    },
    {
     "name": "stderr",
     "output_type": "stream",
     "text": [
      "100%|██████████| 7/7 [00:02<00:00,  2.70it/s]\n",
      "100%|██████████| 7/7 [00:01<00:00,  5.82it/s]\n"
     ]
    },
    {
     "name": "stdout",
     "output_type": "stream",
     "text": [
      "epoch=187: train_ppl=tensor(5.8165, device='cuda:0') train_epoch_loss=tensor(1.7607, device='cuda:0') eval_ppl=tensor(5.6975, device='cuda:0') eval_epoch_loss=tensor(1.7400, device='cuda:0')\n"
     ]
    },
    {
     "name": "stderr",
     "output_type": "stream",
     "text": [
      "100%|██████████| 7/7 [00:02<00:00,  2.70it/s]\n",
      "100%|██████████| 7/7 [00:01<00:00,  5.87it/s]\n"
     ]
    },
    {
     "name": "stdout",
     "output_type": "stream",
     "text": [
      "epoch=188: train_ppl=tensor(5.7422, device='cuda:0') train_epoch_loss=tensor(1.7478, device='cuda:0') eval_ppl=tensor(5.5942, device='cuda:0') eval_epoch_loss=tensor(1.7217, device='cuda:0')\n"
     ]
    },
    {
     "name": "stderr",
     "output_type": "stream",
     "text": [
      "100%|██████████| 7/7 [00:02<00:00,  2.69it/s]\n",
      "100%|██████████| 7/7 [00:01<00:00,  5.93it/s]\n"
     ]
    },
    {
     "name": "stdout",
     "output_type": "stream",
     "text": [
      "epoch=189: train_ppl=tensor(5.4696, device='cuda:0') train_epoch_loss=tensor(1.6992, device='cuda:0') eval_ppl=tensor(5.6377, device='cuda:0') eval_epoch_loss=tensor(1.7295, device='cuda:0')\n"
     ]
    },
    {
     "name": "stderr",
     "output_type": "stream",
     "text": [
      "100%|██████████| 7/7 [00:02<00:00,  2.67it/s]\n",
      "100%|██████████| 7/7 [00:01<00:00,  5.95it/s]\n"
     ]
    },
    {
     "name": "stdout",
     "output_type": "stream",
     "text": [
      "epoch=190: train_ppl=tensor(5.7363, device='cuda:0') train_epoch_loss=tensor(1.7468, device='cuda:0') eval_ppl=tensor(5.8146, device='cuda:0') eval_epoch_loss=tensor(1.7604, device='cuda:0')\n"
     ]
    },
    {
     "name": "stderr",
     "output_type": "stream",
     "text": [
      "100%|██████████| 7/7 [00:02<00:00,  2.67it/s]\n",
      "100%|██████████| 7/7 [00:01<00:00,  5.76it/s]\n"
     ]
    },
    {
     "name": "stdout",
     "output_type": "stream",
     "text": [
      "epoch=191: train_ppl=tensor(5.5163, device='cuda:0') train_epoch_loss=tensor(1.7077, device='cuda:0') eval_ppl=tensor(5.3265, device='cuda:0') eval_epoch_loss=tensor(1.6727, device='cuda:0')\n"
     ]
    },
    {
     "name": "stderr",
     "output_type": "stream",
     "text": [
      "100%|██████████| 7/7 [00:02<00:00,  2.62it/s]\n",
      "100%|██████████| 7/7 [00:01<00:00,  5.92it/s]\n"
     ]
    },
    {
     "name": "stdout",
     "output_type": "stream",
     "text": [
      "epoch=192: train_ppl=tensor(5.2055, device='cuda:0') train_epoch_loss=tensor(1.6497, device='cuda:0') eval_ppl=tensor(5.4654, device='cuda:0') eval_epoch_loss=tensor(1.6984, device='cuda:0')\n"
     ]
    },
    {
     "name": "stderr",
     "output_type": "stream",
     "text": [
      "100%|██████████| 7/7 [00:02<00:00,  2.43it/s]\n",
      "100%|██████████| 7/7 [00:01<00:00,  5.27it/s]\n"
     ]
    },
    {
     "name": "stdout",
     "output_type": "stream",
     "text": [
      "epoch=193: train_ppl=tensor(5.3265, device='cuda:0') train_epoch_loss=tensor(1.6727, device='cuda:0') eval_ppl=tensor(5.3215, device='cuda:0') eval_epoch_loss=tensor(1.6718, device='cuda:0')\n"
     ]
    },
    {
     "name": "stderr",
     "output_type": "stream",
     "text": [
      "100%|██████████| 7/7 [00:03<00:00,  2.05it/s]\n",
      "100%|██████████| 7/7 [00:01<00:00,  5.27it/s]\n"
     ]
    },
    {
     "name": "stdout",
     "output_type": "stream",
     "text": [
      "epoch=194: train_ppl=tensor(5.2095, device='cuda:0') train_epoch_loss=tensor(1.6505, device='cuda:0') eval_ppl=tensor(5.2199, device='cuda:0') eval_epoch_loss=tensor(1.6525, device='cuda:0')\n"
     ]
    },
    {
     "name": "stderr",
     "output_type": "stream",
     "text": [
      "100%|██████████| 7/7 [00:03<00:00,  2.31it/s]\n",
      "100%|██████████| 7/7 [00:01<00:00,  5.56it/s]\n"
     ]
    },
    {
     "name": "stdout",
     "output_type": "stream",
     "text": [
      "epoch=195: train_ppl=tensor(5.1002, device='cuda:0') train_epoch_loss=tensor(1.6293, device='cuda:0') eval_ppl=tensor(5.5785, device='cuda:0') eval_epoch_loss=tensor(1.7189, device='cuda:0')\n"
     ]
    },
    {
     "name": "stderr",
     "output_type": "stream",
     "text": [
      "100%|██████████| 7/7 [00:02<00:00,  2.61it/s]\n",
      "100%|██████████| 7/7 [00:09<00:00,  1.35s/it]\n"
     ]
    },
    {
     "name": "stdout",
     "output_type": "stream",
     "text": [
      "epoch=196: train_ppl=tensor(5.0758, device='cuda:0') train_epoch_loss=tensor(1.6245, device='cuda:0') eval_ppl=tensor(5.0966, device='cuda:0') eval_epoch_loss=tensor(1.6286, device='cuda:0')\n"
     ]
    },
    {
     "name": "stderr",
     "output_type": "stream",
     "text": [
      "100%|██████████| 7/7 [00:08<00:00,  1.19s/it]\n",
      "100%|██████████| 7/7 [00:01<00:00,  4.07it/s]\n"
     ]
    },
    {
     "name": "stdout",
     "output_type": "stream",
     "text": [
      "epoch=197: train_ppl=tensor(4.9946, device='cuda:0') train_epoch_loss=tensor(1.6084, device='cuda:0') eval_ppl=tensor(5.0776, device='cuda:0') eval_epoch_loss=tensor(1.6248, device='cuda:0')\n"
     ]
    },
    {
     "name": "stderr",
     "output_type": "stream",
     "text": [
      "100%|██████████| 7/7 [00:09<00:00,  1.41s/it]\n",
      "100%|██████████| 7/7 [00:01<00:00,  3.92it/s]\n"
     ]
    },
    {
     "name": "stdout",
     "output_type": "stream",
     "text": [
      "epoch=198: train_ppl=tensor(5.0999, device='cuda:0') train_epoch_loss=tensor(1.6292, device='cuda:0') eval_ppl=tensor(5.1122, device='cuda:0') eval_epoch_loss=tensor(1.6316, device='cuda:0')\n"
     ]
    },
    {
     "name": "stderr",
     "output_type": "stream",
     "text": [
      "100%|██████████| 7/7 [00:04<00:00,  1.64it/s]\n",
      "100%|██████████| 7/7 [00:01<00:00,  3.79it/s]\n"
     ]
    },
    {
     "name": "stdout",
     "output_type": "stream",
     "text": [
      "epoch=199: train_ppl=tensor(4.9479, device='cuda:0') train_epoch_loss=tensor(1.5990, device='cuda:0') eval_ppl=tensor(4.9795, device='cuda:0') eval_epoch_loss=tensor(1.6053, device='cuda:0')\n"
     ]
    },
    {
     "name": "stderr",
     "output_type": "stream",
     "text": [
      "100%|██████████| 7/7 [00:08<00:00,  1.25s/it]\n",
      "100%|██████████| 7/7 [00:01<00:00,  3.53it/s]\n"
     ]
    },
    {
     "name": "stdout",
     "output_type": "stream",
     "text": [
      "epoch=200: train_ppl=tensor(4.9841, device='cuda:0') train_epoch_loss=tensor(1.6062, device='cuda:0') eval_ppl=tensor(5.1310, device='cuda:0') eval_epoch_loss=tensor(1.6353, device='cuda:0')\n"
     ]
    },
    {
     "name": "stderr",
     "output_type": "stream",
     "text": [
      "100%|██████████| 7/7 [00:02<00:00,  2.44it/s]\n",
      "100%|██████████| 7/7 [00:01<00:00,  4.53it/s]\n"
     ]
    },
    {
     "name": "stdout",
     "output_type": "stream",
     "text": [
      "epoch=201: train_ppl=tensor(4.7981, device='cuda:0') train_epoch_loss=tensor(1.5682, device='cuda:0') eval_ppl=tensor(5.3788, device='cuda:0') eval_epoch_loss=tensor(1.6825, device='cuda:0')\n"
     ]
    },
    {
     "name": "stderr",
     "output_type": "stream",
     "text": [
      "100%|██████████| 7/7 [00:03<00:00,  2.07it/s]\n",
      "100%|██████████| 7/7 [00:01<00:00,  4.59it/s]\n"
     ]
    },
    {
     "name": "stdout",
     "output_type": "stream",
     "text": [
      "epoch=202: train_ppl=tensor(7.0602, device='cuda:0') train_epoch_loss=tensor(1.9545, device='cuda:0') eval_ppl=tensor(44.7433, device='cuda:0') eval_epoch_loss=tensor(3.8009, device='cuda:0')\n"
     ]
    },
    {
     "name": "stderr",
     "output_type": "stream",
     "text": [
      "100%|██████████| 7/7 [00:03<00:00,  2.15it/s]\n",
      "100%|██████████| 7/7 [00:01<00:00,  5.73it/s]\n"
     ]
    },
    {
     "name": "stdout",
     "output_type": "stream",
     "text": [
      "epoch=203: train_ppl=tensor(55.0091, device='cuda:0') train_epoch_loss=tensor(4.0075, device='cuda:0') eval_ppl=tensor(17.2294, device='cuda:0') eval_epoch_loss=tensor(2.8466, device='cuda:0')\n"
     ]
    },
    {
     "name": "stderr",
     "output_type": "stream",
     "text": [
      "100%|██████████| 7/7 [00:02<00:00,  2.45it/s]\n",
      "100%|██████████| 7/7 [00:01<00:00,  5.23it/s]\n"
     ]
    },
    {
     "name": "stdout",
     "output_type": "stream",
     "text": [
      "epoch=204: train_ppl=tensor(10.4278, device='cuda:0') train_epoch_loss=tensor(2.3445, device='cuda:0') eval_ppl=tensor(8.9410, device='cuda:0') eval_epoch_loss=tensor(2.1906, device='cuda:0')\n"
     ]
    },
    {
     "name": "stderr",
     "output_type": "stream",
     "text": [
      "100%|██████████| 7/7 [00:02<00:00,  2.61it/s]\n",
      "100%|██████████| 7/7 [00:01<00:00,  5.82it/s]\n"
     ]
    },
    {
     "name": "stdout",
     "output_type": "stream",
     "text": [
      "epoch=205: train_ppl=tensor(9.9083, device='cuda:0') train_epoch_loss=tensor(2.2934, device='cuda:0') eval_ppl=tensor(9.9462, device='cuda:0') eval_epoch_loss=tensor(2.2972, device='cuda:0')\n"
     ]
    },
    {
     "name": "stderr",
     "output_type": "stream",
     "text": [
      "100%|██████████| 7/7 [00:03<00:00,  2.29it/s]\n",
      "100%|██████████| 7/7 [00:01<00:00,  5.23it/s]\n"
     ]
    },
    {
     "name": "stdout",
     "output_type": "stream",
     "text": [
      "epoch=206: train_ppl=tensor(8.0042, device='cuda:0') train_epoch_loss=tensor(2.0800, device='cuda:0') eval_ppl=tensor(7.9223, device='cuda:0') eval_epoch_loss=tensor(2.0697, device='cuda:0')\n"
     ]
    },
    {
     "name": "stderr",
     "output_type": "stream",
     "text": [
      "100%|██████████| 7/7 [00:02<00:00,  2.46it/s]\n",
      "100%|██████████| 7/7 [00:01<00:00,  5.74it/s]\n"
     ]
    },
    {
     "name": "stdout",
     "output_type": "stream",
     "text": [
      "epoch=207: train_ppl=tensor(7.1478, device='cuda:0') train_epoch_loss=tensor(1.9668, device='cuda:0') eval_ppl=tensor(6.9733, device='cuda:0') eval_epoch_loss=tensor(1.9421, device='cuda:0')\n"
     ]
    },
    {
     "name": "stderr",
     "output_type": "stream",
     "text": [
      "100%|██████████| 7/7 [00:02<00:00,  2.55it/s]\n",
      "100%|██████████| 7/7 [00:01<00:00,  5.71it/s]\n"
     ]
    },
    {
     "name": "stdout",
     "output_type": "stream",
     "text": [
      "epoch=208: train_ppl=tensor(6.7635, device='cuda:0') train_epoch_loss=tensor(1.9115, device='cuda:0') eval_ppl=tensor(6.8305, device='cuda:0') eval_epoch_loss=tensor(1.9214, device='cuda:0')\n"
     ]
    },
    {
     "name": "stderr",
     "output_type": "stream",
     "text": [
      "100%|██████████| 7/7 [00:02<00:00,  2.52it/s]\n",
      "100%|██████████| 7/7 [00:01<00:00,  5.95it/s]\n"
     ]
    },
    {
     "name": "stdout",
     "output_type": "stream",
     "text": [
      "epoch=209: train_ppl=tensor(6.2292, device='cuda:0') train_epoch_loss=tensor(1.8293, device='cuda:0') eval_ppl=tensor(6.1639, device='cuda:0') eval_epoch_loss=tensor(1.8187, device='cuda:0')\n"
     ]
    },
    {
     "name": "stderr",
     "output_type": "stream",
     "text": [
      "100%|██████████| 7/7 [00:02<00:00,  2.63it/s]\n",
      "100%|██████████| 7/7 [00:01<00:00,  5.84it/s]\n"
     ]
    },
    {
     "name": "stdout",
     "output_type": "stream",
     "text": [
      "epoch=210: train_ppl=tensor(5.9026, device='cuda:0') train_epoch_loss=tensor(1.7754, device='cuda:0') eval_ppl=tensor(5.8496, device='cuda:0') eval_epoch_loss=tensor(1.7664, device='cuda:0')\n"
     ]
    },
    {
     "name": "stderr",
     "output_type": "stream",
     "text": [
      "100%|██████████| 7/7 [00:02<00:00,  2.65it/s]\n",
      "100%|██████████| 7/7 [00:01<00:00,  5.91it/s]\n"
     ]
    },
    {
     "name": "stdout",
     "output_type": "stream",
     "text": [
      "epoch=211: train_ppl=tensor(5.5781, device='cuda:0') train_epoch_loss=tensor(1.7188, device='cuda:0') eval_ppl=tensor(5.9152, device='cuda:0') eval_epoch_loss=tensor(1.7775, device='cuda:0')\n"
     ]
    },
    {
     "name": "stderr",
     "output_type": "stream",
     "text": [
      "100%|██████████| 7/7 [00:02<00:00,  2.67it/s]\n",
      "100%|██████████| 7/7 [00:01<00:00,  5.93it/s]\n"
     ]
    },
    {
     "name": "stdout",
     "output_type": "stream",
     "text": [
      "epoch=212: train_ppl=tensor(5.5356, device='cuda:0') train_epoch_loss=tensor(1.7112, device='cuda:0') eval_ppl=tensor(5.6746, device='cuda:0') eval_epoch_loss=tensor(1.7360, device='cuda:0')\n"
     ]
    },
    {
     "name": "stderr",
     "output_type": "stream",
     "text": [
      "100%|██████████| 7/7 [00:02<00:00,  2.58it/s]\n",
      "100%|██████████| 7/7 [00:01<00:00,  5.78it/s]\n"
     ]
    },
    {
     "name": "stdout",
     "output_type": "stream",
     "text": [
      "epoch=213: train_ppl=tensor(5.5380, device='cuda:0') train_epoch_loss=tensor(1.7116, device='cuda:0') eval_ppl=tensor(5.5362, device='cuda:0') eval_epoch_loss=tensor(1.7113, device='cuda:0')\n"
     ]
    },
    {
     "name": "stderr",
     "output_type": "stream",
     "text": [
      "100%|██████████| 7/7 [00:02<00:00,  2.61it/s]\n",
      "100%|██████████| 7/7 [00:01<00:00,  5.61it/s]\n"
     ]
    },
    {
     "name": "stdout",
     "output_type": "stream",
     "text": [
      "epoch=214: train_ppl=tensor(5.4259, device='cuda:0') train_epoch_loss=tensor(1.6912, device='cuda:0') eval_ppl=tensor(5.4631, device='cuda:0') eval_epoch_loss=tensor(1.6980, device='cuda:0')\n"
     ]
    },
    {
     "name": "stderr",
     "output_type": "stream",
     "text": [
      "100%|██████████| 7/7 [00:04<00:00,  1.42it/s]\n",
      "100%|██████████| 7/7 [00:01<00:00,  3.99it/s]\n"
     ]
    },
    {
     "name": "stdout",
     "output_type": "stream",
     "text": [
      "epoch=215: train_ppl=tensor(5.4166, device='cuda:0') train_epoch_loss=tensor(1.6895, device='cuda:0') eval_ppl=tensor(5.3779, device='cuda:0') eval_epoch_loss=tensor(1.6823, device='cuda:0')\n"
     ]
    },
    {
     "name": "stderr",
     "output_type": "stream",
     "text": [
      "100%|██████████| 7/7 [00:06<00:00,  1.03it/s]\n",
      "100%|██████████| 7/7 [00:02<00:00,  2.92it/s]\n"
     ]
    },
    {
     "name": "stdout",
     "output_type": "stream",
     "text": [
      "epoch=216: train_ppl=tensor(5.5998, device='cuda:0') train_epoch_loss=tensor(1.7227, device='cuda:0') eval_ppl=tensor(5.4068, device='cuda:0') eval_epoch_loss=tensor(1.6877, device='cuda:0')\n"
     ]
    },
    {
     "name": "stderr",
     "output_type": "stream",
     "text": [
      "100%|██████████| 7/7 [00:03<00:00,  1.76it/s]\n",
      "100%|██████████| 7/7 [00:01<00:00,  3.94it/s]\n"
     ]
    },
    {
     "name": "stdout",
     "output_type": "stream",
     "text": [
      "epoch=217: train_ppl=tensor(5.3604, device='cuda:0') train_epoch_loss=tensor(1.6790, device='cuda:0') eval_ppl=tensor(5.3069, device='cuda:0') eval_epoch_loss=tensor(1.6690, device='cuda:0')\n"
     ]
    },
    {
     "name": "stderr",
     "output_type": "stream",
     "text": [
      "100%|██████████| 7/7 [00:03<00:00,  1.78it/s]\n",
      "100%|██████████| 7/7 [00:01<00:00,  3.98it/s]\n"
     ]
    },
    {
     "name": "stdout",
     "output_type": "stream",
     "text": [
      "epoch=218: train_ppl=tensor(5.3282, device='cuda:0') train_epoch_loss=tensor(1.6730, device='cuda:0') eval_ppl=tensor(5.2069, device='cuda:0') eval_epoch_loss=tensor(1.6500, device='cuda:0')\n"
     ]
    },
    {
     "name": "stderr",
     "output_type": "stream",
     "text": [
      "100%|██████████| 7/7 [00:03<00:00,  1.80it/s]\n",
      "100%|██████████| 7/7 [00:01<00:00,  3.89it/s]\n"
     ]
    },
    {
     "name": "stdout",
     "output_type": "stream",
     "text": [
      "epoch=219: train_ppl=tensor(5.1977, device='cuda:0') train_epoch_loss=tensor(1.6482, device='cuda:0') eval_ppl=tensor(5.2697, device='cuda:0') eval_epoch_loss=tensor(1.6620, device='cuda:0')\n"
     ]
    },
    {
     "name": "stderr",
     "output_type": "stream",
     "text": [
      "100%|██████████| 7/7 [00:03<00:00,  1.76it/s]\n",
      "100%|██████████| 7/7 [00:01<00:00,  4.00it/s]\n"
     ]
    },
    {
     "name": "stdout",
     "output_type": "stream",
     "text": [
      "epoch=220: train_ppl=tensor(5.2598, device='cuda:0') train_epoch_loss=tensor(1.6601, device='cuda:0') eval_ppl=tensor(5.1661, device='cuda:0') eval_epoch_loss=tensor(1.6421, device='cuda:0')\n"
     ]
    },
    {
     "name": "stderr",
     "output_type": "stream",
     "text": [
      "100%|██████████| 7/7 [00:03<00:00,  1.77it/s]\n",
      "100%|██████████| 7/7 [00:01<00:00,  3.98it/s]\n"
     ]
    },
    {
     "name": "stdout",
     "output_type": "stream",
     "text": [
      "epoch=221: train_ppl=tensor(5.0788, device='cuda:0') train_epoch_loss=tensor(1.6251, device='cuda:0') eval_ppl=tensor(5.1261, device='cuda:0') eval_epoch_loss=tensor(1.6343, device='cuda:0')\n"
     ]
    },
    {
     "name": "stderr",
     "output_type": "stream",
     "text": [
      "100%|██████████| 7/7 [00:03<00:00,  1.78it/s]\n",
      "100%|██████████| 7/7 [00:01<00:00,  4.00it/s]\n"
     ]
    },
    {
     "name": "stdout",
     "output_type": "stream",
     "text": [
      "epoch=222: train_ppl=tensor(5.2984, device='cuda:0') train_epoch_loss=tensor(1.6674, device='cuda:0') eval_ppl=tensor(5.1988, device='cuda:0') eval_epoch_loss=tensor(1.6484, device='cuda:0')\n"
     ]
    },
    {
     "name": "stderr",
     "output_type": "stream",
     "text": [
      "100%|██████████| 7/7 [00:04<00:00,  1.75it/s]\n",
      "100%|██████████| 7/7 [00:01<00:00,  3.96it/s]\n"
     ]
    },
    {
     "name": "stdout",
     "output_type": "stream",
     "text": [
      "epoch=223: train_ppl=tensor(5.0280, device='cuda:0') train_epoch_loss=tensor(1.6150, device='cuda:0') eval_ppl=tensor(5.0679, device='cuda:0') eval_epoch_loss=tensor(1.6229, device='cuda:0')\n"
     ]
    },
    {
     "name": "stderr",
     "output_type": "stream",
     "text": [
      "100%|██████████| 7/7 [00:03<00:00,  1.80it/s]\n",
      "100%|██████████| 7/7 [00:01<00:00,  4.05it/s]\n"
     ]
    },
    {
     "name": "stdout",
     "output_type": "stream",
     "text": [
      "epoch=224: train_ppl=tensor(4.9639, device='cuda:0') train_epoch_loss=tensor(1.6022, device='cuda:0') eval_ppl=tensor(5.1378, device='cuda:0') eval_epoch_loss=tensor(1.6366, device='cuda:0')\n"
     ]
    },
    {
     "name": "stderr",
     "output_type": "stream",
     "text": [
      "100%|██████████| 7/7 [00:02<00:00,  2.42it/s]\n",
      "100%|██████████| 7/7 [00:01<00:00,  5.90it/s]\n"
     ]
    },
    {
     "name": "stdout",
     "output_type": "stream",
     "text": [
      "epoch=225: train_ppl=tensor(4.8728, device='cuda:0') train_epoch_loss=tensor(1.5837, device='cuda:0') eval_ppl=tensor(5.3060, device='cuda:0') eval_epoch_loss=tensor(1.6688, device='cuda:0')\n"
     ]
    },
    {
     "name": "stderr",
     "output_type": "stream",
     "text": [
      "100%|██████████| 7/7 [00:02<00:00,  2.69it/s]\n",
      "100%|██████████| 7/7 [00:01<00:00,  5.91it/s]\n"
     ]
    },
    {
     "name": "stdout",
     "output_type": "stream",
     "text": [
      "epoch=226: train_ppl=tensor(4.9433, device='cuda:0') train_epoch_loss=tensor(1.5980, device='cuda:0') eval_ppl=tensor(5.1440, device='cuda:0') eval_epoch_loss=tensor(1.6378, device='cuda:0')\n"
     ]
    },
    {
     "name": "stderr",
     "output_type": "stream",
     "text": [
      "100%|██████████| 7/7 [00:02<00:00,  2.71it/s]\n",
      "100%|██████████| 7/7 [00:01<00:00,  5.94it/s]\n"
     ]
    },
    {
     "name": "stdout",
     "output_type": "stream",
     "text": [
      "epoch=227: train_ppl=tensor(4.9264, device='cuda:0') train_epoch_loss=tensor(1.5946, device='cuda:0') eval_ppl=tensor(5.0747, device='cuda:0') eval_epoch_loss=tensor(1.6243, device='cuda:0')\n"
     ]
    },
    {
     "name": "stderr",
     "output_type": "stream",
     "text": [
      "100%|██████████| 7/7 [00:02<00:00,  2.69it/s]\n",
      "100%|██████████| 7/7 [00:01<00:00,  5.90it/s]\n"
     ]
    },
    {
     "name": "stdout",
     "output_type": "stream",
     "text": [
      "epoch=228: train_ppl=tensor(4.9432, device='cuda:0') train_epoch_loss=tensor(1.5980, device='cuda:0') eval_ppl=tensor(5.0562, device='cuda:0') eval_epoch_loss=tensor(1.6206, device='cuda:0')\n"
     ]
    },
    {
     "name": "stderr",
     "output_type": "stream",
     "text": [
      "100%|██████████| 7/7 [00:02<00:00,  2.70it/s]\n",
      "100%|██████████| 7/7 [00:01<00:00,  5.89it/s]\n"
     ]
    },
    {
     "name": "stdout",
     "output_type": "stream",
     "text": [
      "epoch=229: train_ppl=tensor(4.9404, device='cuda:0') train_epoch_loss=tensor(1.5974, device='cuda:0') eval_ppl=tensor(4.9904, device='cuda:0') eval_epoch_loss=tensor(1.6075, device='cuda:0')\n"
     ]
    },
    {
     "name": "stderr",
     "output_type": "stream",
     "text": [
      "100%|██████████| 7/7 [00:02<00:00,  2.70it/s]\n",
      "100%|██████████| 7/7 [00:01<00:00,  5.92it/s]\n"
     ]
    },
    {
     "name": "stdout",
     "output_type": "stream",
     "text": [
      "epoch=230: train_ppl=tensor(5.0619, device='cuda:0') train_epoch_loss=tensor(1.6217, device='cuda:0') eval_ppl=tensor(5.0000, device='cuda:0') eval_epoch_loss=tensor(1.6094, device='cuda:0')\n"
     ]
    },
    {
     "name": "stderr",
     "output_type": "stream",
     "text": [
      "100%|██████████| 7/7 [00:02<00:00,  2.69it/s]\n",
      "100%|██████████| 7/7 [00:01<00:00,  5.93it/s]\n"
     ]
    },
    {
     "name": "stdout",
     "output_type": "stream",
     "text": [
      "epoch=231: train_ppl=tensor(4.8737, device='cuda:0') train_epoch_loss=tensor(1.5839, device='cuda:0') eval_ppl=tensor(5.1193, device='cuda:0') eval_epoch_loss=tensor(1.6330, device='cuda:0')\n"
     ]
    },
    {
     "name": "stderr",
     "output_type": "stream",
     "text": [
      "100%|██████████| 7/7 [00:02<00:00,  2.68it/s]\n",
      "100%|██████████| 7/7 [00:01<00:00,  5.94it/s]\n"
     ]
    },
    {
     "name": "stdout",
     "output_type": "stream",
     "text": [
      "epoch=232: train_ppl=tensor(4.8906, device='cuda:0') train_epoch_loss=tensor(1.5873, device='cuda:0') eval_ppl=tensor(5.0081, device='cuda:0') eval_epoch_loss=tensor(1.6111, device='cuda:0')\n"
     ]
    },
    {
     "name": "stderr",
     "output_type": "stream",
     "text": [
      "100%|██████████| 7/7 [00:02<00:00,  2.69it/s]\n",
      "100%|██████████| 7/7 [00:01<00:00,  5.93it/s]\n"
     ]
    },
    {
     "name": "stdout",
     "output_type": "stream",
     "text": [
      "epoch=233: train_ppl=tensor(4.8959, device='cuda:0') train_epoch_loss=tensor(1.5884, device='cuda:0') eval_ppl=tensor(5.0407, device='cuda:0') eval_epoch_loss=tensor(1.6175, device='cuda:0')\n"
     ]
    },
    {
     "name": "stderr",
     "output_type": "stream",
     "text": [
      "100%|██████████| 7/7 [00:02<00:00,  2.68it/s]\n",
      "100%|██████████| 7/7 [00:01<00:00,  5.87it/s]\n"
     ]
    },
    {
     "name": "stdout",
     "output_type": "stream",
     "text": [
      "epoch=234: train_ppl=tensor(4.9138, device='cuda:0') train_epoch_loss=tensor(1.5921, device='cuda:0') eval_ppl=tensor(4.8893, device='cuda:0') eval_epoch_loss=tensor(1.5870, device='cuda:0')\n"
     ]
    },
    {
     "name": "stderr",
     "output_type": "stream",
     "text": [
      "100%|██████████| 7/7 [00:02<00:00,  2.70it/s]\n",
      "100%|██████████| 7/7 [00:01<00:00,  5.87it/s]\n"
     ]
    },
    {
     "name": "stdout",
     "output_type": "stream",
     "text": [
      "epoch=235: train_ppl=tensor(4.9134, device='cuda:0') train_epoch_loss=tensor(1.5920, device='cuda:0') eval_ppl=tensor(4.8702, device='cuda:0') eval_epoch_loss=tensor(1.5831, device='cuda:0')\n"
     ]
    },
    {
     "name": "stderr",
     "output_type": "stream",
     "text": [
      "100%|██████████| 7/7 [00:02<00:00,  2.70it/s]\n",
      "100%|██████████| 7/7 [00:01<00:00,  5.91it/s]\n"
     ]
    },
    {
     "name": "stdout",
     "output_type": "stream",
     "text": [
      "epoch=236: train_ppl=tensor(4.9317, device='cuda:0') train_epoch_loss=tensor(1.5957, device='cuda:0') eval_ppl=tensor(4.9726, device='cuda:0') eval_epoch_loss=tensor(1.6039, device='cuda:0')\n"
     ]
    },
    {
     "name": "stderr",
     "output_type": "stream",
     "text": [
      "100%|██████████| 7/7 [00:02<00:00,  2.70it/s]\n",
      "100%|██████████| 7/7 [00:01<00:00,  5.88it/s]\n"
     ]
    },
    {
     "name": "stdout",
     "output_type": "stream",
     "text": [
      "epoch=237: train_ppl=tensor(4.7639, device='cuda:0') train_epoch_loss=tensor(1.5611, device='cuda:0') eval_ppl=tensor(4.8889, device='cuda:0') eval_epoch_loss=tensor(1.5870, device='cuda:0')\n"
     ]
    },
    {
     "name": "stderr",
     "output_type": "stream",
     "text": [
      "100%|██████████| 7/7 [00:02<00:00,  2.69it/s]\n",
      "100%|██████████| 7/7 [00:01<00:00,  5.87it/s]\n"
     ]
    },
    {
     "name": "stdout",
     "output_type": "stream",
     "text": [
      "epoch=238: train_ppl=tensor(4.8728, device='cuda:0') train_epoch_loss=tensor(1.5837, device='cuda:0') eval_ppl=tensor(5.0716, device='cuda:0') eval_epoch_loss=tensor(1.6237, device='cuda:0')\n"
     ]
    },
    {
     "name": "stderr",
     "output_type": "stream",
     "text": [
      "100%|██████████| 7/7 [00:02<00:00,  2.69it/s]\n",
      "100%|██████████| 7/7 [00:01<00:00,  5.86it/s]\n"
     ]
    },
    {
     "name": "stdout",
     "output_type": "stream",
     "text": [
      "epoch=239: train_ppl=tensor(4.8709, device='cuda:0') train_epoch_loss=tensor(1.5833, device='cuda:0') eval_ppl=tensor(4.9872, device='cuda:0') eval_epoch_loss=tensor(1.6069, device='cuda:0')\n"
     ]
    },
    {
     "name": "stderr",
     "output_type": "stream",
     "text": [
      "100%|██████████| 7/7 [00:02<00:00,  2.69it/s]\n",
      "100%|██████████| 7/7 [00:01<00:00,  5.87it/s]\n"
     ]
    },
    {
     "name": "stdout",
     "output_type": "stream",
     "text": [
      "epoch=240: train_ppl=tensor(4.8858, device='cuda:0') train_epoch_loss=tensor(1.5863, device='cuda:0') eval_ppl=tensor(4.8938, device='cuda:0') eval_epoch_loss=tensor(1.5880, device='cuda:0')\n"
     ]
    },
    {
     "name": "stderr",
     "output_type": "stream",
     "text": [
      "100%|██████████| 7/7 [00:02<00:00,  2.69it/s]\n",
      "100%|██████████| 7/7 [00:01<00:00,  5.93it/s]\n"
     ]
    },
    {
     "name": "stdout",
     "output_type": "stream",
     "text": [
      "epoch=241: train_ppl=tensor(4.7205, device='cuda:0') train_epoch_loss=tensor(1.5519, device='cuda:0') eval_ppl=tensor(4.7694, device='cuda:0') eval_epoch_loss=tensor(1.5622, device='cuda:0')\n"
     ]
    },
    {
     "name": "stderr",
     "output_type": "stream",
     "text": [
      "100%|██████████| 7/7 [00:02<00:00,  2.69it/s]\n",
      "100%|██████████| 7/7 [00:01<00:00,  5.86it/s]\n"
     ]
    },
    {
     "name": "stdout",
     "output_type": "stream",
     "text": [
      "epoch=242: train_ppl=tensor(4.7300, device='cuda:0') train_epoch_loss=tensor(1.5539, device='cuda:0') eval_ppl=tensor(4.7706, device='cuda:0') eval_epoch_loss=tensor(1.5625, device='cuda:0')\n"
     ]
    },
    {
     "name": "stderr",
     "output_type": "stream",
     "text": [
      "100%|██████████| 7/7 [00:02<00:00,  2.67it/s]\n",
      "100%|██████████| 7/7 [00:01<00:00,  5.91it/s]\n"
     ]
    },
    {
     "name": "stdout",
     "output_type": "stream",
     "text": [
      "epoch=243: train_ppl=tensor(4.7436, device='cuda:0') train_epoch_loss=tensor(1.5568, device='cuda:0') eval_ppl=tensor(4.9057, device='cuda:0') eval_epoch_loss=tensor(1.5904, device='cuda:0')\n"
     ]
    },
    {
     "name": "stderr",
     "output_type": "stream",
     "text": [
      "100%|██████████| 7/7 [00:02<00:00,  2.69it/s]\n",
      "100%|██████████| 7/7 [00:01<00:00,  5.90it/s]\n"
     ]
    },
    {
     "name": "stdout",
     "output_type": "stream",
     "text": [
      "epoch=244: train_ppl=tensor(4.7235, device='cuda:0') train_epoch_loss=tensor(1.5526, device='cuda:0') eval_ppl=tensor(4.6729, device='cuda:0') eval_epoch_loss=tensor(1.5418, device='cuda:0')\n"
     ]
    },
    {
     "name": "stderr",
     "output_type": "stream",
     "text": [
      "100%|██████████| 7/7 [00:02<00:00,  2.66it/s]\n",
      "100%|██████████| 7/7 [00:01<00:00,  5.82it/s]\n"
     ]
    },
    {
     "name": "stdout",
     "output_type": "stream",
     "text": [
      "epoch=245: train_ppl=tensor(4.7665, device='cuda:0') train_epoch_loss=tensor(1.5616, device='cuda:0') eval_ppl=tensor(4.8524, device='cuda:0') eval_epoch_loss=tensor(1.5795, device='cuda:0')\n"
     ]
    },
    {
     "name": "stderr",
     "output_type": "stream",
     "text": [
      "100%|██████████| 7/7 [00:02<00:00,  2.68it/s]\n",
      "100%|██████████| 7/7 [00:01<00:00,  5.88it/s]\n"
     ]
    },
    {
     "name": "stdout",
     "output_type": "stream",
     "text": [
      "epoch=246: train_ppl=tensor(4.5961, device='cuda:0') train_epoch_loss=tensor(1.5252, device='cuda:0') eval_ppl=tensor(4.6752, device='cuda:0') eval_epoch_loss=tensor(1.5423, device='cuda:0')\n"
     ]
    },
    {
     "name": "stderr",
     "output_type": "stream",
     "text": [
      "100%|██████████| 7/7 [00:02<00:00,  2.69it/s]\n",
      "100%|██████████| 7/7 [00:01<00:00,  5.92it/s]\n"
     ]
    },
    {
     "name": "stdout",
     "output_type": "stream",
     "text": [
      "epoch=247: train_ppl=tensor(4.6196, device='cuda:0') train_epoch_loss=tensor(1.5303, device='cuda:0') eval_ppl=tensor(4.8249, device='cuda:0') eval_epoch_loss=tensor(1.5738, device='cuda:0')\n"
     ]
    },
    {
     "name": "stderr",
     "output_type": "stream",
     "text": [
      "100%|██████████| 7/7 [00:02<00:00,  2.67it/s]\n",
      "100%|██████████| 7/7 [00:01<00:00,  5.91it/s]\n"
     ]
    },
    {
     "name": "stdout",
     "output_type": "stream",
     "text": [
      "epoch=248: train_ppl=tensor(4.6872, device='cuda:0') train_epoch_loss=tensor(1.5448, device='cuda:0') eval_ppl=tensor(4.6567, device='cuda:0') eval_epoch_loss=tensor(1.5383, device='cuda:0')\n"
     ]
    },
    {
     "name": "stderr",
     "output_type": "stream",
     "text": [
      "100%|██████████| 7/7 [00:02<00:00,  2.68it/s]\n",
      "100%|██████████| 7/7 [00:01<00:00,  5.87it/s]\n"
     ]
    },
    {
     "name": "stdout",
     "output_type": "stream",
     "text": [
      "epoch=249: train_ppl=tensor(4.7370, device='cuda:0') train_epoch_loss=tensor(1.5554, device='cuda:0') eval_ppl=tensor(4.6365, device='cuda:0') eval_epoch_loss=tensor(1.5340, device='cuda:0')\n"
     ]
    },
    {
     "name": "stderr",
     "output_type": "stream",
     "text": [
      "100%|██████████| 7/7 [00:02<00:00,  2.69it/s]\n",
      "100%|██████████| 7/7 [00:01<00:00,  5.91it/s]\n"
     ]
    },
    {
     "name": "stdout",
     "output_type": "stream",
     "text": [
      "epoch=250: train_ppl=tensor(4.5956, device='cuda:0') train_epoch_loss=tensor(1.5251, device='cuda:0') eval_ppl=tensor(4.7927, device='cuda:0') eval_epoch_loss=tensor(1.5671, device='cuda:0')\n"
     ]
    },
    {
     "name": "stderr",
     "output_type": "stream",
     "text": [
      "100%|██████████| 7/7 [00:02<00:00,  2.69it/s]\n",
      "100%|██████████| 7/7 [00:01<00:00,  5.89it/s]\n"
     ]
    },
    {
     "name": "stdout",
     "output_type": "stream",
     "text": [
      "epoch=251: train_ppl=tensor(4.6789, device='cuda:0') train_epoch_loss=tensor(1.5431, device='cuda:0') eval_ppl=tensor(4.6568, device='cuda:0') eval_epoch_loss=tensor(1.5383, device='cuda:0')\n"
     ]
    },
    {
     "name": "stderr",
     "output_type": "stream",
     "text": [
      "100%|██████████| 7/7 [00:02<00:00,  2.69it/s]\n",
      "100%|██████████| 7/7 [00:01<00:00,  5.88it/s]\n"
     ]
    },
    {
     "name": "stdout",
     "output_type": "stream",
     "text": [
      "epoch=252: train_ppl=tensor(4.9126, device='cuda:0') train_epoch_loss=tensor(1.5918, device='cuda:0') eval_ppl=tensor(4.7010, device='cuda:0') eval_epoch_loss=tensor(1.5478, device='cuda:0')\n"
     ]
    },
    {
     "name": "stderr",
     "output_type": "stream",
     "text": [
      "100%|██████████| 7/7 [00:02<00:00,  2.68it/s]\n",
      "100%|██████████| 7/7 [00:01<00:00,  5.93it/s]\n"
     ]
    },
    {
     "name": "stdout",
     "output_type": "stream",
     "text": [
      "epoch=253: train_ppl=tensor(4.6794, device='cuda:0') train_epoch_loss=tensor(1.5432, device='cuda:0') eval_ppl=tensor(4.5674, device='cuda:0') eval_epoch_loss=tensor(1.5189, device='cuda:0')\n"
     ]
    },
    {
     "name": "stderr",
     "output_type": "stream",
     "text": [
      "100%|██████████| 7/7 [00:02<00:00,  2.68it/s]\n",
      "100%|██████████| 7/7 [00:01<00:00,  5.89it/s]\n"
     ]
    },
    {
     "name": "stdout",
     "output_type": "stream",
     "text": [
      "epoch=254: train_ppl=tensor(4.5954, device='cuda:0') train_epoch_loss=tensor(1.5251, device='cuda:0') eval_ppl=tensor(4.9675, device='cuda:0') eval_epoch_loss=tensor(1.6029, device='cuda:0')\n"
     ]
    },
    {
     "name": "stderr",
     "output_type": "stream",
     "text": [
      "100%|██████████| 7/7 [00:02<00:00,  2.68it/s]\n",
      "100%|██████████| 7/7 [00:01<00:00,  5.87it/s]\n"
     ]
    },
    {
     "name": "stdout",
     "output_type": "stream",
     "text": [
      "epoch=255: train_ppl=tensor(4.8208, device='cuda:0') train_epoch_loss=tensor(1.5729, device='cuda:0') eval_ppl=tensor(4.6638, device='cuda:0') eval_epoch_loss=tensor(1.5398, device='cuda:0')\n"
     ]
    },
    {
     "name": "stderr",
     "output_type": "stream",
     "text": [
      "100%|██████████| 7/7 [00:02<00:00,  2.68it/s]\n",
      "100%|██████████| 7/7 [00:01<00:00,  5.89it/s]\n"
     ]
    },
    {
     "name": "stdout",
     "output_type": "stream",
     "text": [
      "epoch=256: train_ppl=tensor(4.6748, device='cuda:0') train_epoch_loss=tensor(1.5422, device='cuda:0') eval_ppl=tensor(4.5105, device='cuda:0') eval_epoch_loss=tensor(1.5064, device='cuda:0')\n"
     ]
    },
    {
     "name": "stderr",
     "output_type": "stream",
     "text": [
      "100%|██████████| 7/7 [00:02<00:00,  2.68it/s]\n",
      "100%|██████████| 7/7 [00:01<00:00,  5.88it/s]\n"
     ]
    },
    {
     "name": "stdout",
     "output_type": "stream",
     "text": [
      "epoch=257: train_ppl=tensor(4.4090, device='cuda:0') train_epoch_loss=tensor(1.4836, device='cuda:0') eval_ppl=tensor(4.8167, device='cuda:0') eval_epoch_loss=tensor(1.5721, device='cuda:0')\n"
     ]
    },
    {
     "name": "stderr",
     "output_type": "stream",
     "text": [
      "100%|██████████| 7/7 [00:02<00:00,  2.68it/s]\n",
      "100%|██████████| 7/7 [00:01<00:00,  5.89it/s]\n"
     ]
    },
    {
     "name": "stdout",
     "output_type": "stream",
     "text": [
      "epoch=258: train_ppl=tensor(4.5941, device='cuda:0') train_epoch_loss=tensor(1.5248, device='cuda:0') eval_ppl=tensor(4.7256, device='cuda:0') eval_epoch_loss=tensor(1.5530, device='cuda:0')\n"
     ]
    },
    {
     "name": "stderr",
     "output_type": "stream",
     "text": [
      "100%|██████████| 7/7 [00:02<00:00,  2.68it/s]\n",
      "100%|██████████| 7/7 [00:01<00:00,  5.89it/s]\n"
     ]
    },
    {
     "name": "stdout",
     "output_type": "stream",
     "text": [
      "epoch=259: train_ppl=tensor(4.6011, device='cuda:0') train_epoch_loss=tensor(1.5263, device='cuda:0') eval_ppl=tensor(4.6552, device='cuda:0') eval_epoch_loss=tensor(1.5380, device='cuda:0')\n"
     ]
    },
    {
     "name": "stderr",
     "output_type": "stream",
     "text": [
      "100%|██████████| 7/7 [00:02<00:00,  2.70it/s]\n",
      "100%|██████████| 7/7 [00:01<00:00,  5.87it/s]\n"
     ]
    },
    {
     "name": "stdout",
     "output_type": "stream",
     "text": [
      "epoch=260: train_ppl=tensor(4.6310, device='cuda:0') train_epoch_loss=tensor(1.5328, device='cuda:0') eval_ppl=tensor(4.9082, device='cuda:0') eval_epoch_loss=tensor(1.5909, device='cuda:0')\n"
     ]
    },
    {
     "name": "stderr",
     "output_type": "stream",
     "text": [
      "100%|██████████| 7/7 [00:02<00:00,  2.68it/s]\n",
      "100%|██████████| 7/7 [00:01<00:00,  5.95it/s]\n"
     ]
    },
    {
     "name": "stdout",
     "output_type": "stream",
     "text": [
      "epoch=261: train_ppl=tensor(4.7607, device='cuda:0') train_epoch_loss=tensor(1.5604, device='cuda:0') eval_ppl=tensor(4.7838, device='cuda:0') eval_epoch_loss=tensor(1.5652, device='cuda:0')\n"
     ]
    },
    {
     "name": "stderr",
     "output_type": "stream",
     "text": [
      "100%|██████████| 7/7 [00:02<00:00,  2.68it/s]\n",
      "100%|██████████| 7/7 [00:01<00:00,  5.90it/s]\n"
     ]
    },
    {
     "name": "stdout",
     "output_type": "stream",
     "text": [
      "epoch=262: train_ppl=tensor(4.4793, device='cuda:0') train_epoch_loss=tensor(1.4995, device='cuda:0') eval_ppl=tensor(5.1271, device='cuda:0') eval_epoch_loss=tensor(1.6345, device='cuda:0')\n"
     ]
    },
    {
     "name": "stderr",
     "output_type": "stream",
     "text": [
      "100%|██████████| 7/7 [00:02<00:00,  2.68it/s]\n",
      "100%|██████████| 7/7 [00:01<00:00,  5.93it/s]\n"
     ]
    },
    {
     "name": "stdout",
     "output_type": "stream",
     "text": [
      "epoch=263: train_ppl=tensor(4.9297, device='cuda:0') train_epoch_loss=tensor(1.5953, device='cuda:0') eval_ppl=tensor(4.8419, device='cuda:0') eval_epoch_loss=tensor(1.5773, device='cuda:0')\n"
     ]
    },
    {
     "name": "stderr",
     "output_type": "stream",
     "text": [
      "100%|██████████| 7/7 [00:02<00:00,  2.70it/s]\n",
      "100%|██████████| 7/7 [00:01<00:00,  5.92it/s]\n"
     ]
    },
    {
     "name": "stdout",
     "output_type": "stream",
     "text": [
      "epoch=264: train_ppl=tensor(4.6755, device='cuda:0') train_epoch_loss=tensor(1.5423, device='cuda:0') eval_ppl=tensor(4.7187, device='cuda:0') eval_epoch_loss=tensor(1.5515, device='cuda:0')\n"
     ]
    },
    {
     "name": "stderr",
     "output_type": "stream",
     "text": [
      "100%|██████████| 7/7 [00:02<00:00,  2.70it/s]\n",
      "100%|██████████| 7/7 [00:01<00:00,  5.85it/s]\n"
     ]
    },
    {
     "name": "stdout",
     "output_type": "stream",
     "text": [
      "epoch=265: train_ppl=tensor(4.5341, device='cuda:0') train_epoch_loss=tensor(1.5116, device='cuda:0') eval_ppl=tensor(5.2514, device='cuda:0') eval_epoch_loss=tensor(1.6585, device='cuda:0')\n"
     ]
    },
    {
     "name": "stderr",
     "output_type": "stream",
     "text": [
      "100%|██████████| 7/7 [00:02<00:00,  2.70it/s]\n",
      "100%|██████████| 7/7 [00:01<00:00,  5.88it/s]\n"
     ]
    },
    {
     "name": "stdout",
     "output_type": "stream",
     "text": [
      "epoch=266: train_ppl=tensor(4.9735, device='cuda:0') train_epoch_loss=tensor(1.6041, device='cuda:0') eval_ppl=tensor(4.8615, device='cuda:0') eval_epoch_loss=tensor(1.5813, device='cuda:0')\n"
     ]
    },
    {
     "name": "stderr",
     "output_type": "stream",
     "text": [
      "100%|██████████| 7/7 [00:02<00:00,  2.68it/s]\n",
      "100%|██████████| 7/7 [00:01<00:00,  5.89it/s]\n"
     ]
    },
    {
     "name": "stdout",
     "output_type": "stream",
     "text": [
      "epoch=267: train_ppl=tensor(4.7792, device='cuda:0') train_epoch_loss=tensor(1.5643, device='cuda:0') eval_ppl=tensor(4.8746, device='cuda:0') eval_epoch_loss=tensor(1.5840, device='cuda:0')\n"
     ]
    },
    {
     "name": "stderr",
     "output_type": "stream",
     "text": [
      "100%|██████████| 7/7 [00:02<00:00,  2.68it/s]\n",
      "100%|██████████| 7/7 [00:01<00:00,  5.88it/s]\n"
     ]
    },
    {
     "name": "stdout",
     "output_type": "stream",
     "text": [
      "epoch=268: train_ppl=tensor(4.9600, device='cuda:0') train_epoch_loss=tensor(1.6014, device='cuda:0') eval_ppl=tensor(5.0958, device='cuda:0') eval_epoch_loss=tensor(1.6284, device='cuda:0')\n"
     ]
    },
    {
     "name": "stderr",
     "output_type": "stream",
     "text": [
      "100%|██████████| 7/7 [00:02<00:00,  2.68it/s]\n",
      "100%|██████████| 7/7 [00:01<00:00,  5.85it/s]\n"
     ]
    },
    {
     "name": "stdout",
     "output_type": "stream",
     "text": [
      "epoch=269: train_ppl=tensor(4.8863, device='cuda:0') train_epoch_loss=tensor(1.5864, device='cuda:0') eval_ppl=tensor(4.8407, device='cuda:0') eval_epoch_loss=tensor(1.5770, device='cuda:0')\n"
     ]
    },
    {
     "name": "stderr",
     "output_type": "stream",
     "text": [
      "100%|██████████| 7/7 [00:02<00:00,  2.69it/s]\n",
      "100%|██████████| 7/7 [00:01<00:00,  5.91it/s]\n"
     ]
    },
    {
     "name": "stdout",
     "output_type": "stream",
     "text": [
      "epoch=270: train_ppl=tensor(5.0162, device='cuda:0') train_epoch_loss=tensor(1.6127, device='cuda:0') eval_ppl=tensor(5.2698, device='cuda:0') eval_epoch_loss=tensor(1.6620, device='cuda:0')\n"
     ]
    },
    {
     "name": "stderr",
     "output_type": "stream",
     "text": [
      "100%|██████████| 7/7 [00:02<00:00,  2.69it/s]\n",
      "100%|██████████| 7/7 [00:01<00:00,  5.93it/s]\n"
     ]
    },
    {
     "name": "stdout",
     "output_type": "stream",
     "text": [
      "epoch=271: train_ppl=tensor(4.6021, device='cuda:0') train_epoch_loss=tensor(1.5265, device='cuda:0') eval_ppl=tensor(4.7942, device='cuda:0') eval_epoch_loss=tensor(1.5674, device='cuda:0')\n"
     ]
    },
    {
     "name": "stderr",
     "output_type": "stream",
     "text": [
      "100%|██████████| 7/7 [00:02<00:00,  2.69it/s]\n",
      "100%|██████████| 7/7 [00:01<00:00,  5.90it/s]\n"
     ]
    },
    {
     "name": "stdout",
     "output_type": "stream",
     "text": [
      "epoch=272: train_ppl=tensor(5.2471, device='cuda:0') train_epoch_loss=tensor(1.6577, device='cuda:0') eval_ppl=tensor(5.0339, device='cuda:0') eval_epoch_loss=tensor(1.6162, device='cuda:0')\n"
     ]
    },
    {
     "name": "stderr",
     "output_type": "stream",
     "text": [
      "100%|██████████| 7/7 [00:02<00:00,  2.68it/s]\n",
      "100%|██████████| 7/7 [00:01<00:00,  5.92it/s]\n"
     ]
    },
    {
     "name": "stdout",
     "output_type": "stream",
     "text": [
      "epoch=273: train_ppl=tensor(5.6672, device='cuda:0') train_epoch_loss=tensor(1.7347, device='cuda:0') eval_ppl=tensor(5.8758, device='cuda:0') eval_epoch_loss=tensor(1.7708, device='cuda:0')\n"
     ]
    },
    {
     "name": "stderr",
     "output_type": "stream",
     "text": [
      "100%|██████████| 7/7 [00:02<00:00,  2.68it/s]\n",
      "100%|██████████| 7/7 [00:01<00:00,  5.90it/s]\n"
     ]
    },
    {
     "name": "stdout",
     "output_type": "stream",
     "text": [
      "epoch=274: train_ppl=tensor(5.7142, device='cuda:0') train_epoch_loss=tensor(1.7430, device='cuda:0') eval_ppl=tensor(6.2029, device='cuda:0') eval_epoch_loss=tensor(1.8250, device='cuda:0')\n"
     ]
    },
    {
     "name": "stderr",
     "output_type": "stream",
     "text": [
      "100%|██████████| 7/7 [00:02<00:00,  2.67it/s]\n",
      "100%|██████████| 7/7 [00:01<00:00,  5.79it/s]\n"
     ]
    },
    {
     "name": "stdout",
     "output_type": "stream",
     "text": [
      "epoch=275: train_ppl=tensor(5.6510, device='cuda:0') train_epoch_loss=tensor(1.7318, device='cuda:0') eval_ppl=tensor(5.5988, device='cuda:0') eval_epoch_loss=tensor(1.7225, device='cuda:0')\n"
     ]
    },
    {
     "name": "stderr",
     "output_type": "stream",
     "text": [
      "100%|██████████| 7/7 [00:02<00:00,  2.61it/s]\n",
      "100%|██████████| 7/7 [00:01<00:00,  5.82it/s]\n"
     ]
    },
    {
     "name": "stdout",
     "output_type": "stream",
     "text": [
      "epoch=276: train_ppl=tensor(5.3457, device='cuda:0') train_epoch_loss=tensor(1.6763, device='cuda:0') eval_ppl=tensor(5.0282, device='cuda:0') eval_epoch_loss=tensor(1.6151, device='cuda:0')\n"
     ]
    },
    {
     "name": "stderr",
     "output_type": "stream",
     "text": [
      "100%|██████████| 7/7 [00:02<00:00,  2.56it/s]\n",
      "100%|██████████| 7/7 [00:01<00:00,  5.82it/s]\n"
     ]
    },
    {
     "name": "stdout",
     "output_type": "stream",
     "text": [
      "epoch=277: train_ppl=tensor(5.8078, device='cuda:0') train_epoch_loss=tensor(1.7592, device='cuda:0') eval_ppl=tensor(5.6584, device='cuda:0') eval_epoch_loss=tensor(1.7331, device='cuda:0')\n"
     ]
    },
    {
     "name": "stderr",
     "output_type": "stream",
     "text": [
      "100%|██████████| 7/7 [00:02<00:00,  2.63it/s]\n",
      "100%|██████████| 7/7 [00:01<00:00,  5.79it/s]\n"
     ]
    },
    {
     "name": "stdout",
     "output_type": "stream",
     "text": [
      "epoch=278: train_ppl=tensor(5.6002, device='cuda:0') train_epoch_loss=tensor(1.7228, device='cuda:0') eval_ppl=tensor(5.1820, device='cuda:0') eval_epoch_loss=tensor(1.6452, device='cuda:0')\n"
     ]
    },
    {
     "name": "stderr",
     "output_type": "stream",
     "text": [
      "100%|██████████| 7/7 [00:02<00:00,  2.65it/s]\n",
      "100%|██████████| 7/7 [00:01<00:00,  5.82it/s]\n"
     ]
    },
    {
     "name": "stdout",
     "output_type": "stream",
     "text": [
      "epoch=279: train_ppl=tensor(5.5167, device='cuda:0') train_epoch_loss=tensor(1.7078, device='cuda:0') eval_ppl=tensor(4.5513, device='cuda:0') eval_epoch_loss=tensor(1.5154, device='cuda:0')\n"
     ]
    },
    {
     "name": "stderr",
     "output_type": "stream",
     "text": [
      "100%|██████████| 7/7 [00:05<00:00,  1.20it/s]\n",
      "100%|██████████| 7/7 [00:01<00:00,  5.92it/s]\n"
     ]
    },
    {
     "name": "stdout",
     "output_type": "stream",
     "text": [
      "epoch=280: train_ppl=tensor(4.7229, device='cuda:0') train_epoch_loss=tensor(1.5524, device='cuda:0') eval_ppl=tensor(4.6903, device='cuda:0') eval_epoch_loss=tensor(1.5455, device='cuda:0')\n"
     ]
    },
    {
     "name": "stderr",
     "output_type": "stream",
     "text": [
      "100%|██████████| 7/7 [00:02<00:00,  2.69it/s]\n",
      "100%|██████████| 7/7 [00:01<00:00,  5.89it/s]\n"
     ]
    },
    {
     "name": "stdout",
     "output_type": "stream",
     "text": [
      "epoch=281: train_ppl=tensor(4.4706, device='cuda:0') train_epoch_loss=tensor(1.4975, device='cuda:0') eval_ppl=tensor(4.2901, device='cuda:0') eval_epoch_loss=tensor(1.4563, device='cuda:0')\n"
     ]
    },
    {
     "name": "stderr",
     "output_type": "stream",
     "text": [
      "100%|██████████| 7/7 [00:02<00:00,  2.68it/s]\n",
      "100%|██████████| 7/7 [00:01<00:00,  5.91it/s]\n"
     ]
    },
    {
     "name": "stdout",
     "output_type": "stream",
     "text": [
      "epoch=282: train_ppl=tensor(4.4576, device='cuda:0') train_epoch_loss=tensor(1.4946, device='cuda:0') eval_ppl=tensor(4.2372, device='cuda:0') eval_epoch_loss=tensor(1.4439, device='cuda:0')\n"
     ]
    },
    {
     "name": "stderr",
     "output_type": "stream",
     "text": [
      "100%|██████████| 7/7 [00:02<00:00,  2.69it/s]\n",
      "100%|██████████| 7/7 [00:01<00:00,  5.86it/s]\n"
     ]
    },
    {
     "name": "stdout",
     "output_type": "stream",
     "text": [
      "epoch=283: train_ppl=tensor(4.9761, device='cuda:0') train_epoch_loss=tensor(1.6047, device='cuda:0') eval_ppl=tensor(4.4821, device='cuda:0') eval_epoch_loss=tensor(1.5001, device='cuda:0')\n"
     ]
    },
    {
     "name": "stderr",
     "output_type": "stream",
     "text": [
      "100%|██████████| 7/7 [00:02<00:00,  2.69it/s]\n",
      "100%|██████████| 7/7 [00:01<00:00,  5.92it/s]\n"
     ]
    },
    {
     "name": "stdout",
     "output_type": "stream",
     "text": [
      "epoch=284: train_ppl=tensor(4.5256, device='cuda:0') train_epoch_loss=tensor(1.5097, device='cuda:0') eval_ppl=tensor(4.2851, device='cuda:0') eval_epoch_loss=tensor(1.4552, device='cuda:0')\n"
     ]
    },
    {
     "name": "stderr",
     "output_type": "stream",
     "text": [
      "100%|██████████| 7/7 [00:02<00:00,  2.68it/s]\n",
      "100%|██████████| 7/7 [00:01<00:00,  5.90it/s]\n"
     ]
    },
    {
     "name": "stdout",
     "output_type": "stream",
     "text": [
      "epoch=285: train_ppl=tensor(4.7024, device='cuda:0') train_epoch_loss=tensor(1.5481, device='cuda:0') eval_ppl=tensor(4.7000, device='cuda:0') eval_epoch_loss=tensor(1.5476, device='cuda:0')\n"
     ]
    },
    {
     "name": "stderr",
     "output_type": "stream",
     "text": [
      "100%|██████████| 7/7 [00:02<00:00,  2.66it/s]\n",
      "100%|██████████| 7/7 [00:01<00:00,  5.88it/s]\n"
     ]
    },
    {
     "name": "stdout",
     "output_type": "stream",
     "text": [
      "epoch=286: train_ppl=tensor(4.9178, device='cuda:0') train_epoch_loss=tensor(1.5929, device='cuda:0') eval_ppl=tensor(4.1395, device='cuda:0') eval_epoch_loss=tensor(1.4206, device='cuda:0')\n"
     ]
    },
    {
     "name": "stderr",
     "output_type": "stream",
     "text": [
      "100%|██████████| 7/7 [00:02<00:00,  2.67it/s]\n",
      "100%|██████████| 7/7 [00:01<00:00,  5.87it/s]\n"
     ]
    },
    {
     "name": "stdout",
     "output_type": "stream",
     "text": [
      "epoch=287: train_ppl=tensor(4.5884, device='cuda:0') train_epoch_loss=tensor(1.5235, device='cuda:0') eval_ppl=tensor(4.0724, device='cuda:0') eval_epoch_loss=tensor(1.4042, device='cuda:0')\n"
     ]
    },
    {
     "name": "stderr",
     "output_type": "stream",
     "text": [
      "100%|██████████| 7/7 [00:02<00:00,  2.69it/s]\n",
      "100%|██████████| 7/7 [00:01<00:00,  5.84it/s]\n"
     ]
    },
    {
     "name": "stdout",
     "output_type": "stream",
     "text": [
      "epoch=288: train_ppl=tensor(4.2387, device='cuda:0') train_epoch_loss=tensor(1.4443, device='cuda:0') eval_ppl=tensor(4.3179, device='cuda:0') eval_epoch_loss=tensor(1.4628, device='cuda:0')\n"
     ]
    },
    {
     "name": "stderr",
     "output_type": "stream",
     "text": [
      "100%|██████████| 7/7 [00:02<00:00,  2.65it/s]\n",
      "100%|██████████| 7/7 [00:01<00:00,  5.81it/s]\n"
     ]
    },
    {
     "name": "stdout",
     "output_type": "stream",
     "text": [
      "epoch=289: train_ppl=tensor(4.2055, device='cuda:0') train_epoch_loss=tensor(1.4364, device='cuda:0') eval_ppl=tensor(4.2192, device='cuda:0') eval_epoch_loss=tensor(1.4396, device='cuda:0')\n"
     ]
    },
    {
     "name": "stderr",
     "output_type": "stream",
     "text": [
      "100%|██████████| 7/7 [00:02<00:00,  2.67it/s]\n",
      "100%|██████████| 7/7 [00:01<00:00,  5.85it/s]\n"
     ]
    },
    {
     "name": "stdout",
     "output_type": "stream",
     "text": [
      "epoch=290: train_ppl=tensor(4.4973, device='cuda:0') train_epoch_loss=tensor(1.5035, device='cuda:0') eval_ppl=tensor(4.3013, device='cuda:0') eval_epoch_loss=tensor(1.4589, device='cuda:0')\n"
     ]
    },
    {
     "name": "stderr",
     "output_type": "stream",
     "text": [
      "100%|██████████| 7/7 [00:02<00:00,  2.67it/s]\n",
      "100%|██████████| 7/7 [00:01<00:00,  5.89it/s]\n"
     ]
    },
    {
     "name": "stdout",
     "output_type": "stream",
     "text": [
      "epoch=291: train_ppl=tensor(4.3682, device='cuda:0') train_epoch_loss=tensor(1.4743, device='cuda:0') eval_ppl=tensor(4.4019, device='cuda:0') eval_epoch_loss=tensor(1.4820, device='cuda:0')\n"
     ]
    },
    {
     "name": "stderr",
     "output_type": "stream",
     "text": [
      "100%|██████████| 7/7 [00:02<00:00,  2.67it/s]\n",
      "100%|██████████| 7/7 [00:01<00:00,  5.86it/s]\n"
     ]
    },
    {
     "name": "stdout",
     "output_type": "stream",
     "text": [
      "epoch=292: train_ppl=tensor(4.3392, device='cuda:0') train_epoch_loss=tensor(1.4677, device='cuda:0') eval_ppl=tensor(4.3312, device='cuda:0') eval_epoch_loss=tensor(1.4658, device='cuda:0')\n"
     ]
    },
    {
     "name": "stderr",
     "output_type": "stream",
     "text": [
      "100%|██████████| 7/7 [00:02<00:00,  2.66it/s]\n",
      "100%|██████████| 7/7 [00:01<00:00,  5.84it/s]\n"
     ]
    },
    {
     "name": "stdout",
     "output_type": "stream",
     "text": [
      "epoch=293: train_ppl=tensor(4.3518, device='cuda:0') train_epoch_loss=tensor(1.4706, device='cuda:0') eval_ppl=tensor(4.2246, device='cuda:0') eval_epoch_loss=tensor(1.4409, device='cuda:0')\n"
     ]
    },
    {
     "name": "stderr",
     "output_type": "stream",
     "text": [
      "100%|██████████| 7/7 [00:02<00:00,  2.67it/s]\n",
      "100%|██████████| 7/7 [00:01<00:00,  5.94it/s]\n"
     ]
    },
    {
     "name": "stdout",
     "output_type": "stream",
     "text": [
      "epoch=294: train_ppl=tensor(4.4009, device='cuda:0') train_epoch_loss=tensor(1.4818, device='cuda:0') eval_ppl=tensor(4.2463, device='cuda:0') eval_epoch_loss=tensor(1.4460, device='cuda:0')\n"
     ]
    },
    {
     "name": "stderr",
     "output_type": "stream",
     "text": [
      "100%|██████████| 7/7 [00:02<00:00,  2.68it/s]\n",
      "100%|██████████| 7/7 [00:01<00:00,  5.91it/s]\n"
     ]
    },
    {
     "name": "stdout",
     "output_type": "stream",
     "text": [
      "epoch=295: train_ppl=tensor(4.4954, device='cuda:0') train_epoch_loss=tensor(1.5031, device='cuda:0') eval_ppl=tensor(4.6500, device='cuda:0') eval_epoch_loss=tensor(1.5369, device='cuda:0')\n"
     ]
    },
    {
     "name": "stderr",
     "output_type": "stream",
     "text": [
      "100%|██████████| 7/7 [00:02<00:00,  2.66it/s]\n",
      "100%|██████████| 7/7 [00:01<00:00,  5.92it/s]\n"
     ]
    },
    {
     "name": "stdout",
     "output_type": "stream",
     "text": [
      "epoch=296: train_ppl=tensor(4.2684, device='cuda:0') train_epoch_loss=tensor(1.4512, device='cuda:0') eval_ppl=tensor(4.6351, device='cuda:0') eval_epoch_loss=tensor(1.5336, device='cuda:0')\n"
     ]
    },
    {
     "name": "stderr",
     "output_type": "stream",
     "text": [
      "100%|██████████| 7/7 [00:02<00:00,  2.68it/s]\n",
      "100%|██████████| 7/7 [00:01<00:00,  5.90it/s]\n"
     ]
    },
    {
     "name": "stdout",
     "output_type": "stream",
     "text": [
      "epoch=297: train_ppl=tensor(5.2544, device='cuda:0') train_epoch_loss=tensor(1.6591, device='cuda:0') eval_ppl=tensor(5.3665, device='cuda:0') eval_epoch_loss=tensor(1.6802, device='cuda:0')\n"
     ]
    },
    {
     "name": "stderr",
     "output_type": "stream",
     "text": [
      "100%|██████████| 7/7 [00:02<00:00,  2.70it/s]\n",
      "100%|██████████| 7/7 [00:01<00:00,  5.90it/s]\n"
     ]
    },
    {
     "name": "stdout",
     "output_type": "stream",
     "text": [
      "epoch=298: train_ppl=tensor(4.9401, device='cuda:0') train_epoch_loss=tensor(1.5974, device='cuda:0') eval_ppl=tensor(4.6928, device='cuda:0') eval_epoch_loss=tensor(1.5460, device='cuda:0')\n"
     ]
    },
    {
     "name": "stderr",
     "output_type": "stream",
     "text": [
      "100%|██████████| 7/7 [00:02<00:00,  2.69it/s]\n",
      "100%|██████████| 7/7 [00:01<00:00,  5.85it/s]\n"
     ]
    },
    {
     "name": "stdout",
     "output_type": "stream",
     "text": [
      "epoch=299: train_ppl=tensor(4.4342, device='cuda:0') train_epoch_loss=tensor(1.4894, device='cuda:0') eval_ppl=tensor(4.2238, device='cuda:0') eval_epoch_loss=tensor(1.4407, device='cuda:0')\n"
     ]
    },
    {
     "name": "stderr",
     "output_type": "stream",
     "text": [
      "100%|██████████| 7/7 [00:02<00:00,  2.69it/s]\n",
      "100%|██████████| 7/7 [00:01<00:00,  5.87it/s]\n"
     ]
    },
    {
     "name": "stdout",
     "output_type": "stream",
     "text": [
      "epoch=300: train_ppl=tensor(4.3955, device='cuda:0') train_epoch_loss=tensor(1.4806, device='cuda:0') eval_ppl=tensor(4.3003, device='cuda:0') eval_epoch_loss=tensor(1.4587, device='cuda:0')\n"
     ]
    },
    {
     "name": "stderr",
     "output_type": "stream",
     "text": [
      "100%|██████████| 7/7 [00:02<00:00,  2.67it/s]\n",
      "100%|██████████| 7/7 [00:01<00:00,  5.81it/s]\n"
     ]
    },
    {
     "name": "stdout",
     "output_type": "stream",
     "text": [
      "epoch=301: train_ppl=tensor(4.1767, device='cuda:0') train_epoch_loss=tensor(1.4295, device='cuda:0') eval_ppl=tensor(4.2501, device='cuda:0') eval_epoch_loss=tensor(1.4470, device='cuda:0')\n"
     ]
    },
    {
     "name": "stderr",
     "output_type": "stream",
     "text": [
      "100%|██████████| 7/7 [00:02<00:00,  2.67it/s]\n",
      "100%|██████████| 7/7 [00:01<00:00,  5.91it/s]\n"
     ]
    },
    {
     "name": "stdout",
     "output_type": "stream",
     "text": [
      "epoch=302: train_ppl=tensor(4.3841, device='cuda:0') train_epoch_loss=tensor(1.4780, device='cuda:0') eval_ppl=tensor(4.4486, device='cuda:0') eval_epoch_loss=tensor(1.4926, device='cuda:0')\n"
     ]
    },
    {
     "name": "stderr",
     "output_type": "stream",
     "text": [
      "100%|██████████| 7/7 [00:02<00:00,  2.66it/s]\n",
      "100%|██████████| 7/7 [00:01<00:00,  5.91it/s]\n"
     ]
    },
    {
     "name": "stdout",
     "output_type": "stream",
     "text": [
      "epoch=303: train_ppl=tensor(4.3241, device='cuda:0') train_epoch_loss=tensor(1.4642, device='cuda:0') eval_ppl=tensor(4.3305, device='cuda:0') eval_epoch_loss=tensor(1.4657, device='cuda:0')\n"
     ]
    },
    {
     "name": "stderr",
     "output_type": "stream",
     "text": [
      "100%|██████████| 7/7 [00:02<00:00,  2.69it/s]\n",
      "100%|██████████| 7/7 [00:01<00:00,  5.89it/s]\n"
     ]
    },
    {
     "name": "stdout",
     "output_type": "stream",
     "text": [
      "epoch=304: train_ppl=tensor(4.3716, device='cuda:0') train_epoch_loss=tensor(1.4751, device='cuda:0') eval_ppl=tensor(4.2801, device='cuda:0') eval_epoch_loss=tensor(1.4540, device='cuda:0')\n"
     ]
    },
    {
     "name": "stderr",
     "output_type": "stream",
     "text": [
      "100%|██████████| 7/7 [00:02<00:00,  2.69it/s]\n",
      "100%|██████████| 7/7 [00:01<00:00,  5.92it/s]\n"
     ]
    },
    {
     "name": "stdout",
     "output_type": "stream",
     "text": [
      "epoch=305: train_ppl=tensor(4.2885, device='cuda:0') train_epoch_loss=tensor(1.4559, device='cuda:0') eval_ppl=tensor(4.5334, device='cuda:0') eval_epoch_loss=tensor(1.5115, device='cuda:0')\n"
     ]
    },
    {
     "name": "stderr",
     "output_type": "stream",
     "text": [
      "100%|██████████| 7/7 [00:02<00:00,  2.69it/s]\n",
      "100%|██████████| 7/7 [00:01<00:00,  5.88it/s]\n"
     ]
    },
    {
     "name": "stdout",
     "output_type": "stream",
     "text": [
      "epoch=306: train_ppl=tensor(4.4508, device='cuda:0') train_epoch_loss=tensor(1.4931, device='cuda:0') eval_ppl=tensor(4.5012, device='cuda:0') eval_epoch_loss=tensor(1.5043, device='cuda:0')\n"
     ]
    },
    {
     "name": "stderr",
     "output_type": "stream",
     "text": [
      "100%|██████████| 7/7 [00:02<00:00,  2.68it/s]\n",
      "100%|██████████| 7/7 [00:01<00:00,  5.92it/s]\n"
     ]
    },
    {
     "name": "stdout",
     "output_type": "stream",
     "text": [
      "epoch=307: train_ppl=tensor(4.3476, device='cuda:0') train_epoch_loss=tensor(1.4696, device='cuda:0') eval_ppl=tensor(4.2859, device='cuda:0') eval_epoch_loss=tensor(1.4553, device='cuda:0')\n"
     ]
    },
    {
     "name": "stderr",
     "output_type": "stream",
     "text": [
      "100%|██████████| 7/7 [00:02<00:00,  2.69it/s]\n",
      "100%|██████████| 7/7 [00:01<00:00,  5.92it/s]\n"
     ]
    },
    {
     "name": "stdout",
     "output_type": "stream",
     "text": [
      "epoch=308: train_ppl=tensor(4.7140, device='cuda:0') train_epoch_loss=tensor(1.5505, device='cuda:0') eval_ppl=tensor(4.3404, device='cuda:0') eval_epoch_loss=tensor(1.4680, device='cuda:0')\n"
     ]
    },
    {
     "name": "stderr",
     "output_type": "stream",
     "text": [
      "100%|██████████| 7/7 [00:02<00:00,  2.70it/s]\n",
      "100%|██████████| 7/7 [00:01<00:00,  5.84it/s]\n"
     ]
    },
    {
     "name": "stdout",
     "output_type": "stream",
     "text": [
      "epoch=309: train_ppl=tensor(4.5628, device='cuda:0') train_epoch_loss=tensor(1.5179, device='cuda:0') eval_ppl=tensor(4.3723, device='cuda:0') eval_epoch_loss=tensor(1.4753, device='cuda:0')\n"
     ]
    },
    {
     "name": "stderr",
     "output_type": "stream",
     "text": [
      "100%|██████████| 7/7 [00:02<00:00,  2.69it/s]\n",
      "100%|██████████| 7/7 [00:01<00:00,  5.84it/s]\n"
     ]
    },
    {
     "name": "stdout",
     "output_type": "stream",
     "text": [
      "epoch=310: train_ppl=tensor(4.2638, device='cuda:0') train_epoch_loss=tensor(1.4502, device='cuda:0') eval_ppl=tensor(4.1153, device='cuda:0') eval_epoch_loss=tensor(1.4147, device='cuda:0')\n"
     ]
    },
    {
     "name": "stderr",
     "output_type": "stream",
     "text": [
      "100%|██████████| 7/7 [00:02<00:00,  2.67it/s]\n",
      "100%|██████████| 7/7 [00:01<00:00,  5.86it/s]\n"
     ]
    },
    {
     "name": "stdout",
     "output_type": "stream",
     "text": [
      "epoch=311: train_ppl=tensor(4.1798, device='cuda:0') train_epoch_loss=tensor(1.4303, device='cuda:0') eval_ppl=tensor(4.0864, device='cuda:0') eval_epoch_loss=tensor(1.4077, device='cuda:0')\n"
     ]
    },
    {
     "name": "stderr",
     "output_type": "stream",
     "text": [
      "100%|██████████| 7/7 [00:02<00:00,  2.69it/s]\n",
      "100%|██████████| 7/7 [00:01<00:00,  5.91it/s]\n"
     ]
    },
    {
     "name": "stdout",
     "output_type": "stream",
     "text": [
      "epoch=312: train_ppl=tensor(4.2534, device='cuda:0') train_epoch_loss=tensor(1.4477, device='cuda:0') eval_ppl=tensor(4.1080, device='cuda:0') eval_epoch_loss=tensor(1.4129, device='cuda:0')\n"
     ]
    },
    {
     "name": "stderr",
     "output_type": "stream",
     "text": [
      "100%|██████████| 7/7 [00:02<00:00,  2.68it/s]\n",
      "100%|██████████| 7/7 [00:01<00:00,  5.91it/s]\n"
     ]
    },
    {
     "name": "stdout",
     "output_type": "stream",
     "text": [
      "epoch=313: train_ppl=tensor(4.2907, device='cuda:0') train_epoch_loss=tensor(1.4565, device='cuda:0') eval_ppl=tensor(3.9402, device='cuda:0') eval_epoch_loss=tensor(1.3712, device='cuda:0')\n"
     ]
    },
    {
     "name": "stderr",
     "output_type": "stream",
     "text": [
      "100%|██████████| 7/7 [00:02<00:00,  2.69it/s]\n",
      "100%|██████████| 7/7 [00:01<00:00,  5.85it/s]\n"
     ]
    },
    {
     "name": "stdout",
     "output_type": "stream",
     "text": [
      "epoch=314: train_ppl=tensor(4.3360, device='cuda:0') train_epoch_loss=tensor(1.4670, device='cuda:0') eval_ppl=tensor(4.0697, device='cuda:0') eval_epoch_loss=tensor(1.4036, device='cuda:0')\n"
     ]
    },
    {
     "name": "stderr",
     "output_type": "stream",
     "text": [
      "100%|██████████| 7/7 [00:02<00:00,  2.70it/s]\n",
      "100%|██████████| 7/7 [00:01<00:00,  5.93it/s]\n"
     ]
    },
    {
     "name": "stdout",
     "output_type": "stream",
     "text": [
      "epoch=315: train_ppl=tensor(4.2116, device='cuda:0') train_epoch_loss=tensor(1.4378, device='cuda:0') eval_ppl=tensor(4.0339, device='cuda:0') eval_epoch_loss=tensor(1.3947, device='cuda:0')\n"
     ]
    },
    {
     "name": "stderr",
     "output_type": "stream",
     "text": [
      "100%|██████████| 7/7 [00:02<00:00,  2.69it/s]\n",
      "100%|██████████| 7/7 [00:01<00:00,  5.91it/s]\n"
     ]
    },
    {
     "name": "stdout",
     "output_type": "stream",
     "text": [
      "epoch=316: train_ppl=tensor(4.2387, device='cuda:0') train_epoch_loss=tensor(1.4443, device='cuda:0') eval_ppl=tensor(4.1327, device='cuda:0') eval_epoch_loss=tensor(1.4189, device='cuda:0')\n"
     ]
    },
    {
     "name": "stderr",
     "output_type": "stream",
     "text": [
      "100%|██████████| 7/7 [00:02<00:00,  2.67it/s]\n",
      "100%|██████████| 7/7 [00:01<00:00,  5.90it/s]\n"
     ]
    },
    {
     "name": "stdout",
     "output_type": "stream",
     "text": [
      "epoch=317: train_ppl=tensor(4.2138, device='cuda:0') train_epoch_loss=tensor(1.4384, device='cuda:0') eval_ppl=tensor(4.0569, device='cuda:0') eval_epoch_loss=tensor(1.4004, device='cuda:0')\n"
     ]
    },
    {
     "name": "stderr",
     "output_type": "stream",
     "text": [
      "100%|██████████| 7/7 [00:02<00:00,  2.68it/s]\n",
      "100%|██████████| 7/7 [00:01<00:00,  5.89it/s]\n"
     ]
    },
    {
     "name": "stdout",
     "output_type": "stream",
     "text": [
      "epoch=318: train_ppl=tensor(4.0033, device='cuda:0') train_epoch_loss=tensor(1.3871, device='cuda:0') eval_ppl=tensor(4.0373, device='cuda:0') eval_epoch_loss=tensor(1.3956, device='cuda:0')\n"
     ]
    },
    {
     "name": "stderr",
     "output_type": "stream",
     "text": [
      "100%|██████████| 7/7 [00:02<00:00,  2.69it/s]\n",
      "100%|██████████| 7/7 [00:01<00:00,  5.87it/s]\n"
     ]
    },
    {
     "name": "stdout",
     "output_type": "stream",
     "text": [
      "epoch=319: train_ppl=tensor(4.0936, device='cuda:0') train_epoch_loss=tensor(1.4094, device='cuda:0') eval_ppl=tensor(3.9499, device='cuda:0') eval_epoch_loss=tensor(1.3737, device='cuda:0')\n"
     ]
    },
    {
     "name": "stderr",
     "output_type": "stream",
     "text": [
      "100%|██████████| 7/7 [00:02<00:00,  2.70it/s]\n",
      "100%|██████████| 7/7 [00:01<00:00,  5.81it/s]\n"
     ]
    },
    {
     "name": "stdout",
     "output_type": "stream",
     "text": [
      "epoch=320: train_ppl=tensor(4.0112, device='cuda:0') train_epoch_loss=tensor(1.3891, device='cuda:0') eval_ppl=tensor(3.9182, device='cuda:0') eval_epoch_loss=tensor(1.3656, device='cuda:0')\n"
     ]
    },
    {
     "name": "stderr",
     "output_type": "stream",
     "text": [
      "100%|██████████| 7/7 [00:02<00:00,  2.68it/s]\n",
      "100%|██████████| 7/7 [00:01<00:00,  5.90it/s]\n"
     ]
    },
    {
     "name": "stdout",
     "output_type": "stream",
     "text": [
      "epoch=321: train_ppl=tensor(4.0750, device='cuda:0') train_epoch_loss=tensor(1.4049, device='cuda:0') eval_ppl=tensor(6.3028, device='cuda:0') eval_epoch_loss=tensor(1.8410, device='cuda:0')\n"
     ]
    },
    {
     "name": "stderr",
     "output_type": "stream",
     "text": [
      "100%|██████████| 7/7 [00:02<00:00,  2.67it/s]\n",
      "100%|██████████| 7/7 [00:01<00:00,  5.89it/s]\n"
     ]
    },
    {
     "name": "stdout",
     "output_type": "stream",
     "text": [
      "epoch=322: train_ppl=tensor(18.9873, device='cuda:0') train_epoch_loss=tensor(2.9438, device='cuda:0') eval_ppl=tensor(4.6472, device='cuda:0') eval_epoch_loss=tensor(1.5363, device='cuda:0')\n"
     ]
    },
    {
     "name": "stderr",
     "output_type": "stream",
     "text": [
      "100%|██████████| 7/7 [00:02<00:00,  2.69it/s]\n",
      "100%|██████████| 7/7 [00:01<00:00,  5.90it/s]\n"
     ]
    },
    {
     "name": "stdout",
     "output_type": "stream",
     "text": [
      "epoch=323: train_ppl=tensor(4.3955, device='cuda:0') train_epoch_loss=tensor(1.4806, device='cuda:0') eval_ppl=tensor(4.2160, device='cuda:0') eval_epoch_loss=tensor(1.4389, device='cuda:0')\n"
     ]
    },
    {
     "name": "stderr",
     "output_type": "stream",
     "text": [
      "100%|██████████| 7/7 [00:02<00:00,  2.67it/s]\n",
      "100%|██████████| 7/7 [00:01<00:00,  5.85it/s]\n"
     ]
    },
    {
     "name": "stdout",
     "output_type": "stream",
     "text": [
      "epoch=324: train_ppl=tensor(4.3592, device='cuda:0') train_epoch_loss=tensor(1.4723, device='cuda:0') eval_ppl=tensor(4.0481, device='cuda:0') eval_epoch_loss=tensor(1.3982, device='cuda:0')\n"
     ]
    },
    {
     "name": "stderr",
     "output_type": "stream",
     "text": [
      "100%|██████████| 7/7 [00:02<00:00,  2.69it/s]\n",
      "100%|██████████| 7/7 [00:01<00:00,  5.94it/s]\n"
     ]
    },
    {
     "name": "stdout",
     "output_type": "stream",
     "text": [
      "epoch=325: train_ppl=tensor(4.0304, device='cuda:0') train_epoch_loss=tensor(1.3939, device='cuda:0') eval_ppl=tensor(4.1472, device='cuda:0') eval_epoch_loss=tensor(1.4224, device='cuda:0')\n"
     ]
    },
    {
     "name": "stderr",
     "output_type": "stream",
     "text": [
      "100%|██████████| 7/7 [00:02<00:00,  2.70it/s]\n",
      "100%|██████████| 7/7 [00:01<00:00,  5.89it/s]\n"
     ]
    },
    {
     "name": "stdout",
     "output_type": "stream",
     "text": [
      "epoch=326: train_ppl=tensor(4.0646, device='cuda:0') train_epoch_loss=tensor(1.4023, device='cuda:0') eval_ppl=tensor(3.9169, device='cuda:0') eval_epoch_loss=tensor(1.3653, device='cuda:0')\n"
     ]
    },
    {
     "name": "stderr",
     "output_type": "stream",
     "text": [
      "100%|██████████| 7/7 [00:02<00:00,  2.65it/s]\n",
      "100%|██████████| 7/7 [00:01<00:00,  5.86it/s]\n"
     ]
    },
    {
     "name": "stdout",
     "output_type": "stream",
     "text": [
      "epoch=327: train_ppl=tensor(4.3146, device='cuda:0') train_epoch_loss=tensor(1.4620, device='cuda:0') eval_ppl=tensor(4.1895, device='cuda:0') eval_epoch_loss=tensor(1.4326, device='cuda:0')\n"
     ]
    },
    {
     "name": "stderr",
     "output_type": "stream",
     "text": [
      "100%|██████████| 7/7 [00:02<00:00,  2.68it/s]\n",
      "100%|██████████| 7/7 [00:01<00:00,  5.92it/s]\n"
     ]
    },
    {
     "name": "stdout",
     "output_type": "stream",
     "text": [
      "epoch=328: train_ppl=tensor(4.0440, device='cuda:0') train_epoch_loss=tensor(1.3972, device='cuda:0') eval_ppl=tensor(3.9775, device='cuda:0') eval_epoch_loss=tensor(1.3806, device='cuda:0')\n"
     ]
    },
    {
     "name": "stderr",
     "output_type": "stream",
     "text": [
      "100%|██████████| 7/7 [00:02<00:00,  2.68it/s]\n",
      "100%|██████████| 7/7 [00:01<00:00,  5.92it/s]\n"
     ]
    },
    {
     "name": "stdout",
     "output_type": "stream",
     "text": [
      "epoch=329: train_ppl=tensor(4.1344, device='cuda:0') train_epoch_loss=tensor(1.4193, device='cuda:0') eval_ppl=tensor(3.9449, device='cuda:0') eval_epoch_loss=tensor(1.3724, device='cuda:0')\n"
     ]
    },
    {
     "name": "stderr",
     "output_type": "stream",
     "text": [
      "100%|██████████| 7/7 [00:02<00:00,  2.70it/s]\n",
      "100%|██████████| 7/7 [00:01<00:00,  5.88it/s]\n"
     ]
    },
    {
     "name": "stdout",
     "output_type": "stream",
     "text": [
      "epoch=330: train_ppl=tensor(4.0507, device='cuda:0') train_epoch_loss=tensor(1.3989, device='cuda:0') eval_ppl=tensor(4.3031, device='cuda:0') eval_epoch_loss=tensor(1.4593, device='cuda:0')\n"
     ]
    },
    {
     "name": "stderr",
     "output_type": "stream",
     "text": [
      "100%|██████████| 7/7 [00:02<00:00,  2.68it/s]\n",
      "100%|██████████| 7/7 [00:01<00:00,  5.88it/s]\n"
     ]
    },
    {
     "name": "stdout",
     "output_type": "stream",
     "text": [
      "epoch=331: train_ppl=tensor(4.0651, device='cuda:0') train_epoch_loss=tensor(1.4024, device='cuda:0') eval_ppl=tensor(3.8897, device='cuda:0') eval_epoch_loss=tensor(1.3583, device='cuda:0')\n"
     ]
    },
    {
     "name": "stderr",
     "output_type": "stream",
     "text": [
      "100%|██████████| 7/7 [00:02<00:00,  2.70it/s]\n",
      "100%|██████████| 7/7 [00:01<00:00,  5.94it/s]\n"
     ]
    },
    {
     "name": "stdout",
     "output_type": "stream",
     "text": [
      "epoch=332: train_ppl=tensor(3.9659, device='cuda:0') train_epoch_loss=tensor(1.3777, device='cuda:0') eval_ppl=tensor(3.8987, device='cuda:0') eval_epoch_loss=tensor(1.3606, device='cuda:0')\n"
     ]
    },
    {
     "name": "stderr",
     "output_type": "stream",
     "text": [
      "100%|██████████| 7/7 [00:02<00:00,  2.68it/s]\n",
      "100%|██████████| 7/7 [00:01<00:00,  5.88it/s]\n"
     ]
    },
    {
     "name": "stdout",
     "output_type": "stream",
     "text": [
      "epoch=333: train_ppl=tensor(3.8730, device='cuda:0') train_epoch_loss=tensor(1.3540, device='cuda:0') eval_ppl=tensor(3.8613, device='cuda:0') eval_epoch_loss=tensor(1.3510, device='cuda:0')\n"
     ]
    },
    {
     "name": "stderr",
     "output_type": "stream",
     "text": [
      "100%|██████████| 7/7 [00:02<00:00,  2.69it/s]\n",
      "100%|██████████| 7/7 [00:01<00:00,  5.88it/s]\n"
     ]
    },
    {
     "name": "stdout",
     "output_type": "stream",
     "text": [
      "epoch=334: train_ppl=tensor(4.1270, device='cuda:0') train_epoch_loss=tensor(1.4176, device='cuda:0') eval_ppl=tensor(3.9561, device='cuda:0') eval_epoch_loss=tensor(1.3752, device='cuda:0')\n"
     ]
    },
    {
     "name": "stderr",
     "output_type": "stream",
     "text": [
      "100%|██████████| 7/7 [00:02<00:00,  2.69it/s]\n",
      "100%|██████████| 7/7 [00:01<00:00,  5.91it/s]\n"
     ]
    },
    {
     "name": "stdout",
     "output_type": "stream",
     "text": [
      "epoch=335: train_ppl=tensor(3.9909, device='cuda:0') train_epoch_loss=tensor(1.3840, device='cuda:0') eval_ppl=tensor(3.8308, device='cuda:0') eval_epoch_loss=tensor(1.3431, device='cuda:0')\n"
     ]
    },
    {
     "name": "stderr",
     "output_type": "stream",
     "text": [
      "100%|██████████| 7/7 [00:02<00:00,  2.70it/s]\n",
      "100%|██████████| 7/7 [00:01<00:00,  5.86it/s]\n"
     ]
    },
    {
     "name": "stdout",
     "output_type": "stream",
     "text": [
      "epoch=336: train_ppl=tensor(3.8588, device='cuda:0') train_epoch_loss=tensor(1.3503, device='cuda:0') eval_ppl=tensor(4.0786, device='cuda:0') eval_epoch_loss=tensor(1.4058, device='cuda:0')\n"
     ]
    },
    {
     "name": "stderr",
     "output_type": "stream",
     "text": [
      "100%|██████████| 7/7 [00:02<00:00,  2.59it/s]\n",
      "100%|██████████| 7/7 [00:01<00:00,  5.89it/s]\n"
     ]
    },
    {
     "name": "stdout",
     "output_type": "stream",
     "text": [
      "epoch=337: train_ppl=tensor(3.9442, device='cuda:0') train_epoch_loss=tensor(1.3722, device='cuda:0') eval_ppl=tensor(3.8482, device='cuda:0') eval_epoch_loss=tensor(1.3476, device='cuda:0')\n"
     ]
    },
    {
     "name": "stderr",
     "output_type": "stream",
     "text": [
      "100%|██████████| 7/7 [00:02<00:00,  2.61it/s]\n",
      "100%|██████████| 7/7 [00:01<00:00,  5.60it/s]\n"
     ]
    },
    {
     "name": "stdout",
     "output_type": "stream",
     "text": [
      "epoch=338: train_ppl=tensor(3.9919, device='cuda:0') train_epoch_loss=tensor(1.3843, device='cuda:0') eval_ppl=tensor(3.7856, device='cuda:0') eval_epoch_loss=tensor(1.3312, device='cuda:0')\n"
     ]
    },
    {
     "name": "stderr",
     "output_type": "stream",
     "text": [
      "100%|██████████| 7/7 [00:02<00:00,  2.43it/s]\n",
      "100%|██████████| 7/7 [00:01<00:00,  5.88it/s]\n"
     ]
    },
    {
     "name": "stdout",
     "output_type": "stream",
     "text": [
      "epoch=339: train_ppl=tensor(3.9431, device='cuda:0') train_epoch_loss=tensor(1.3720, device='cuda:0') eval_ppl=tensor(4.0312, device='cuda:0') eval_epoch_loss=tensor(1.3941, device='cuda:0')\n"
     ]
    },
    {
     "name": "stderr",
     "output_type": "stream",
     "text": [
      "100%|██████████| 7/7 [00:02<00:00,  2.63it/s]\n",
      "100%|██████████| 7/7 [00:01<00:00,  5.87it/s]\n"
     ]
    },
    {
     "name": "stdout",
     "output_type": "stream",
     "text": [
      "epoch=340: train_ppl=tensor(3.7987, device='cuda:0') train_epoch_loss=tensor(1.3347, device='cuda:0') eval_ppl=tensor(3.6965, device='cuda:0') eval_epoch_loss=tensor(1.3074, device='cuda:0')\n"
     ]
    },
    {
     "name": "stderr",
     "output_type": "stream",
     "text": [
      "100%|██████████| 7/7 [00:02<00:00,  2.67it/s]\n",
      "100%|██████████| 7/7 [00:01<00:00,  5.20it/s]\n"
     ]
    },
    {
     "name": "stdout",
     "output_type": "stream",
     "text": [
      "epoch=341: train_ppl=tensor(3.8176, device='cuda:0') train_epoch_loss=tensor(1.3396, device='cuda:0') eval_ppl=tensor(3.7233, device='cuda:0') eval_epoch_loss=tensor(1.3146, device='cuda:0')\n"
     ]
    },
    {
     "name": "stderr",
     "output_type": "stream",
     "text": [
      "100%|██████████| 7/7 [00:03<00:00,  1.97it/s]\n",
      "100%|██████████| 7/7 [00:02<00:00,  3.31it/s]\n"
     ]
    },
    {
     "name": "stdout",
     "output_type": "stream",
     "text": [
      "epoch=342: train_ppl=tensor(3.6917, device='cuda:0') train_epoch_loss=tensor(1.3061, device='cuda:0') eval_ppl=tensor(3.7829, device='cuda:0') eval_epoch_loss=tensor(1.3305, device='cuda:0')\n"
     ]
    },
    {
     "name": "stderr",
     "output_type": "stream",
     "text": [
      "100%|██████████| 7/7 [00:02<00:00,  2.70it/s]\n",
      "100%|██████████| 7/7 [00:01<00:00,  5.86it/s]\n"
     ]
    },
    {
     "name": "stdout",
     "output_type": "stream",
     "text": [
      "epoch=343: train_ppl=tensor(3.9441, device='cuda:0') train_epoch_loss=tensor(1.3722, device='cuda:0') eval_ppl=tensor(3.8452, device='cuda:0') eval_epoch_loss=tensor(1.3468, device='cuda:0')\n"
     ]
    },
    {
     "name": "stderr",
     "output_type": "stream",
     "text": [
      "100%|██████████| 7/7 [00:05<00:00,  1.36it/s]\n",
      "100%|██████████| 7/7 [00:02<00:00,  3.49it/s]\n"
     ]
    },
    {
     "name": "stdout",
     "output_type": "stream",
     "text": [
      "epoch=344: train_ppl=tensor(3.8283, device='cuda:0') train_epoch_loss=tensor(1.3424, device='cuda:0') eval_ppl=tensor(3.7098, device='cuda:0') eval_epoch_loss=tensor(1.3110, device='cuda:0')\n"
     ]
    },
    {
     "name": "stderr",
     "output_type": "stream",
     "text": [
      "100%|██████████| 7/7 [00:05<00:00,  1.29it/s]\n",
      "100%|██████████| 7/7 [00:02<00:00,  3.49it/s]\n"
     ]
    },
    {
     "name": "stdout",
     "output_type": "stream",
     "text": [
      "epoch=345: train_ppl=tensor(3.7372, device='cuda:0') train_epoch_loss=tensor(1.3183, device='cuda:0') eval_ppl=tensor(3.8067, device='cuda:0') eval_epoch_loss=tensor(1.3368, device='cuda:0')\n"
     ]
    },
    {
     "name": "stderr",
     "output_type": "stream",
     "text": [
      "100%|██████████| 7/7 [00:03<00:00,  1.79it/s]\n",
      "100%|██████████| 7/7 [00:01<00:00,  3.89it/s]\n"
     ]
    },
    {
     "name": "stdout",
     "output_type": "stream",
     "text": [
      "epoch=346: train_ppl=tensor(3.8106, device='cuda:0') train_epoch_loss=tensor(1.3378, device='cuda:0') eval_ppl=tensor(3.7741, device='cuda:0') eval_epoch_loss=tensor(1.3282, device='cuda:0')\n"
     ]
    },
    {
     "name": "stderr",
     "output_type": "stream",
     "text": [
      "100%|██████████| 7/7 [00:05<00:00,  1.39it/s]\n",
      "100%|██████████| 7/7 [00:01<00:00,  3.99it/s]\n"
     ]
    },
    {
     "name": "stdout",
     "output_type": "stream",
     "text": [
      "epoch=347: train_ppl=tensor(3.7944, device='cuda:0') train_epoch_loss=tensor(1.3335, device='cuda:0') eval_ppl=tensor(3.6485, device='cuda:0') eval_epoch_loss=tensor(1.2943, device='cuda:0')\n"
     ]
    },
    {
     "name": "stderr",
     "output_type": "stream",
     "text": [
      "100%|██████████| 7/7 [00:04<00:00,  1.64it/s]\n",
      "100%|██████████| 7/7 [00:01<00:00,  3.82it/s]\n"
     ]
    },
    {
     "name": "stdout",
     "output_type": "stream",
     "text": [
      "epoch=348: train_ppl=tensor(3.9097, device='cuda:0') train_epoch_loss=tensor(1.3634, device='cuda:0') eval_ppl=tensor(3.6590, device='cuda:0') eval_epoch_loss=tensor(1.2972, device='cuda:0')\n"
     ]
    },
    {
     "name": "stderr",
     "output_type": "stream",
     "text": [
      "100%|██████████| 7/7 [00:04<00:00,  1.45it/s]\n",
      "100%|██████████| 7/7 [00:02<00:00,  3.37it/s]\n"
     ]
    },
    {
     "name": "stdout",
     "output_type": "stream",
     "text": [
      "epoch=349: train_ppl=tensor(3.6795, device='cuda:0') train_epoch_loss=tensor(1.3028, device='cuda:0') eval_ppl=tensor(4.0028, device='cuda:0') eval_epoch_loss=tensor(1.3870, device='cuda:0')\n"
     ]
    },
    {
     "name": "stderr",
     "output_type": "stream",
     "text": [
      "100%|██████████| 7/7 [00:03<00:00,  1.81it/s]\n",
      "100%|██████████| 7/7 [00:01<00:00,  4.87it/s]\n"
     ]
    },
    {
     "name": "stdout",
     "output_type": "stream",
     "text": [
      "epoch=350: train_ppl=tensor(3.6226, device='cuda:0') train_epoch_loss=tensor(1.2872, device='cuda:0') eval_ppl=tensor(3.6816, device='cuda:0') eval_epoch_loss=tensor(1.3034, device='cuda:0')\n"
     ]
    },
    {
     "name": "stderr",
     "output_type": "stream",
     "text": [
      "100%|██████████| 7/7 [00:02<00:00,  2.52it/s]\n",
      "100%|██████████| 7/7 [00:01<00:00,  5.57it/s]\n"
     ]
    },
    {
     "name": "stdout",
     "output_type": "stream",
     "text": [
      "epoch=351: train_ppl=tensor(3.8322, device='cuda:0') train_epoch_loss=tensor(1.3434, device='cuda:0') eval_ppl=tensor(3.6693, device='cuda:0') eval_epoch_loss=tensor(1.3000, device='cuda:0')\n"
     ]
    },
    {
     "name": "stderr",
     "output_type": "stream",
     "text": [
      "100%|██████████| 7/7 [00:02<00:00,  2.36it/s]\n",
      "100%|██████████| 7/7 [00:01<00:00,  5.79it/s]\n"
     ]
    },
    {
     "name": "stdout",
     "output_type": "stream",
     "text": [
      "epoch=352: train_ppl=tensor(3.7696, device='cuda:0') train_epoch_loss=tensor(1.3270, device='cuda:0') eval_ppl=tensor(3.9425, device='cuda:0') eval_epoch_loss=tensor(1.3718, device='cuda:0')\n"
     ]
    },
    {
     "name": "stderr",
     "output_type": "stream",
     "text": [
      "100%|██████████| 7/7 [00:02<00:00,  2.52it/s]\n",
      "100%|██████████| 7/7 [00:01<00:00,  5.87it/s]\n"
     ]
    },
    {
     "name": "stdout",
     "output_type": "stream",
     "text": [
      "epoch=353: train_ppl=tensor(3.6958, device='cuda:0') train_epoch_loss=tensor(1.3072, device='cuda:0') eval_ppl=tensor(3.7408, device='cuda:0') eval_epoch_loss=tensor(1.3193, device='cuda:0')\n"
     ]
    },
    {
     "name": "stderr",
     "output_type": "stream",
     "text": [
      "100%|██████████| 7/7 [00:02<00:00,  2.68it/s]\n",
      "100%|██████████| 7/7 [00:01<00:00,  5.88it/s]\n"
     ]
    },
    {
     "name": "stdout",
     "output_type": "stream",
     "text": [
      "epoch=354: train_ppl=tensor(3.6711, device='cuda:0') train_epoch_loss=tensor(1.3005, device='cuda:0') eval_ppl=tensor(3.8862, device='cuda:0') eval_epoch_loss=tensor(1.3574, device='cuda:0')\n"
     ]
    },
    {
     "name": "stderr",
     "output_type": "stream",
     "text": [
      "100%|██████████| 7/7 [00:02<00:00,  2.67it/s]\n",
      "100%|██████████| 7/7 [00:01<00:00,  5.88it/s]\n"
     ]
    },
    {
     "name": "stdout",
     "output_type": "stream",
     "text": [
      "epoch=355: train_ppl=tensor(3.8362, device='cuda:0') train_epoch_loss=tensor(1.3445, device='cuda:0') eval_ppl=tensor(3.8441, device='cuda:0') eval_epoch_loss=tensor(1.3465, device='cuda:0')\n"
     ]
    },
    {
     "name": "stderr",
     "output_type": "stream",
     "text": [
      "100%|██████████| 7/7 [00:02<00:00,  2.70it/s]\n",
      "100%|██████████| 7/7 [00:01<00:00,  5.88it/s]\n"
     ]
    },
    {
     "name": "stdout",
     "output_type": "stream",
     "text": [
      "epoch=356: train_ppl=tensor(3.7541, device='cuda:0') train_epoch_loss=tensor(1.3228, device='cuda:0') eval_ppl=tensor(3.7612, device='cuda:0') eval_epoch_loss=tensor(1.3247, device='cuda:0')\n"
     ]
    },
    {
     "name": "stderr",
     "output_type": "stream",
     "text": [
      "100%|██████████| 7/7 [00:02<00:00,  2.69it/s]\n",
      "100%|██████████| 7/7 [00:01<00:00,  5.88it/s]\n"
     ]
    },
    {
     "name": "stdout",
     "output_type": "stream",
     "text": [
      "epoch=357: train_ppl=tensor(3.6144, device='cuda:0') train_epoch_loss=tensor(1.2849, device='cuda:0') eval_ppl=tensor(3.8194, device='cuda:0') eval_epoch_loss=tensor(1.3401, device='cuda:0')\n"
     ]
    },
    {
     "name": "stderr",
     "output_type": "stream",
     "text": [
      "100%|██████████| 7/7 [00:02<00:00,  2.69it/s]\n",
      "100%|██████████| 7/7 [00:01<00:00,  5.93it/s]\n"
     ]
    },
    {
     "name": "stdout",
     "output_type": "stream",
     "text": [
      "epoch=358: train_ppl=tensor(3.7721, device='cuda:0') train_epoch_loss=tensor(1.3276, device='cuda:0') eval_ppl=tensor(3.7449, device='cuda:0') eval_epoch_loss=tensor(1.3204, device='cuda:0')\n"
     ]
    },
    {
     "name": "stderr",
     "output_type": "stream",
     "text": [
      "100%|██████████| 7/7 [00:04<00:00,  1.70it/s]\n",
      "100%|██████████| 7/7 [00:02<00:00,  2.69it/s]\n"
     ]
    },
    {
     "name": "stdout",
     "output_type": "stream",
     "text": [
      "epoch=359: train_ppl=tensor(3.6901, device='cuda:0') train_epoch_loss=tensor(1.3057, device='cuda:0') eval_ppl=tensor(3.6654, device='cuda:0') eval_epoch_loss=tensor(1.2989, device='cuda:0')\n"
     ]
    },
    {
     "name": "stderr",
     "output_type": "stream",
     "text": [
      "100%|██████████| 7/7 [00:03<00:00,  2.09it/s]\n",
      "100%|██████████| 7/7 [00:01<00:00,  4.85it/s]\n"
     ]
    },
    {
     "name": "stdout",
     "output_type": "stream",
     "text": [
      "epoch=360: train_ppl=tensor(3.7465, device='cuda:0') train_epoch_loss=tensor(1.3208, device='cuda:0') eval_ppl=tensor(3.6990, device='cuda:0') eval_epoch_loss=tensor(1.3081, device='cuda:0')\n"
     ]
    },
    {
     "name": "stderr",
     "output_type": "stream",
     "text": [
      "100%|██████████| 7/7 [00:03<00:00,  2.06it/s]\n",
      "100%|██████████| 7/7 [00:01<00:00,  5.84it/s]\n"
     ]
    },
    {
     "name": "stdout",
     "output_type": "stream",
     "text": [
      "epoch=361: train_ppl=tensor(3.6192, device='cuda:0') train_epoch_loss=tensor(1.2862, device='cuda:0') eval_ppl=tensor(3.5664, device='cuda:0') eval_epoch_loss=tensor(1.2715, device='cuda:0')\n"
     ]
    },
    {
     "name": "stderr",
     "output_type": "stream",
     "text": [
      "100%|██████████| 7/7 [00:02<00:00,  2.68it/s]\n",
      "100%|██████████| 7/7 [00:01<00:00,  5.91it/s]\n"
     ]
    },
    {
     "name": "stdout",
     "output_type": "stream",
     "text": [
      "epoch=362: train_ppl=tensor(3.5012, device='cuda:0') train_epoch_loss=tensor(1.2531, device='cuda:0') eval_ppl=tensor(3.5859, device='cuda:0') eval_epoch_loss=tensor(1.2770, device='cuda:0')\n"
     ]
    },
    {
     "name": "stderr",
     "output_type": "stream",
     "text": [
      "100%|██████████| 7/7 [00:02<00:00,  2.68it/s]\n",
      "100%|██████████| 7/7 [00:01<00:00,  5.91it/s]\n"
     ]
    },
    {
     "name": "stdout",
     "output_type": "stream",
     "text": [
      "epoch=363: train_ppl=tensor(3.6116, device='cuda:0') train_epoch_loss=tensor(1.2841, device='cuda:0') eval_ppl=tensor(3.5728, device='cuda:0') eval_epoch_loss=tensor(1.2734, device='cuda:0')\n"
     ]
    },
    {
     "name": "stderr",
     "output_type": "stream",
     "text": [
      "100%|██████████| 7/7 [00:02<00:00,  2.67it/s]\n",
      "100%|██████████| 7/7 [00:01<00:00,  5.93it/s]\n"
     ]
    },
    {
     "name": "stdout",
     "output_type": "stream",
     "text": [
      "epoch=364: train_ppl=tensor(3.5115, device='cuda:0') train_epoch_loss=tensor(1.2560, device='cuda:0') eval_ppl=tensor(3.4934, device='cuda:0') eval_epoch_loss=tensor(1.2509, device='cuda:0')\n"
     ]
    },
    {
     "name": "stderr",
     "output_type": "stream",
     "text": [
      "100%|██████████| 7/7 [00:03<00:00,  2.23it/s]\n",
      "100%|██████████| 7/7 [00:01<00:00,  5.53it/s]\n"
     ]
    },
    {
     "name": "stdout",
     "output_type": "stream",
     "text": [
      "epoch=365: train_ppl=tensor(3.5912, device='cuda:0') train_epoch_loss=tensor(1.2785, device='cuda:0') eval_ppl=tensor(3.5553, device='cuda:0') eval_epoch_loss=tensor(1.2684, device='cuda:0')\n"
     ]
    },
    {
     "name": "stderr",
     "output_type": "stream",
     "text": [
      "100%|██████████| 7/7 [00:02<00:00,  2.54it/s]\n",
      "100%|██████████| 7/7 [00:01<00:00,  5.59it/s]\n"
     ]
    },
    {
     "name": "stdout",
     "output_type": "stream",
     "text": [
      "epoch=366: train_ppl=tensor(3.5035, device='cuda:0') train_epoch_loss=tensor(1.2538, device='cuda:0') eval_ppl=tensor(3.5910, device='cuda:0') eval_epoch_loss=tensor(1.2784, device='cuda:0')\n"
     ]
    },
    {
     "name": "stderr",
     "output_type": "stream",
     "text": [
      "100%|██████████| 7/7 [00:04<00:00,  1.55it/s]\n",
      "100%|██████████| 7/7 [00:01<00:00,  5.86it/s]\n"
     ]
    },
    {
     "name": "stdout",
     "output_type": "stream",
     "text": [
      "epoch=367: train_ppl=tensor(3.5115, device='cuda:0') train_epoch_loss=tensor(1.2560, device='cuda:0') eval_ppl=tensor(3.4561, device='cuda:0') eval_epoch_loss=tensor(1.2401, device='cuda:0')\n"
     ]
    },
    {
     "name": "stderr",
     "output_type": "stream",
     "text": [
      "100%|██████████| 7/7 [00:02<00:00,  2.67it/s]\n",
      "100%|██████████| 7/7 [00:01<00:00,  5.81it/s]\n"
     ]
    },
    {
     "name": "stdout",
     "output_type": "stream",
     "text": [
      "epoch=368: train_ppl=tensor(3.4655, device='cuda:0') train_epoch_loss=tensor(1.2428, device='cuda:0') eval_ppl=tensor(3.4871, device='cuda:0') eval_epoch_loss=tensor(1.2491, device='cuda:0')\n"
     ]
    },
    {
     "name": "stderr",
     "output_type": "stream",
     "text": [
      "100%|██████████| 7/7 [00:02<00:00,  2.60it/s]\n",
      "100%|██████████| 7/7 [00:01<00:00,  5.61it/s]\n"
     ]
    },
    {
     "name": "stdout",
     "output_type": "stream",
     "text": [
      "epoch=369: train_ppl=tensor(3.6106, device='cuda:0') train_epoch_loss=tensor(1.2839, device='cuda:0') eval_ppl=tensor(3.5278, device='cuda:0') eval_epoch_loss=tensor(1.2607, device='cuda:0')\n"
     ]
    },
    {
     "name": "stderr",
     "output_type": "stream",
     "text": [
      "100%|██████████| 7/7 [00:02<00:00,  2.58it/s]\n",
      "100%|██████████| 7/7 [00:01<00:00,  4.79it/s]\n"
     ]
    },
    {
     "name": "stdout",
     "output_type": "stream",
     "text": [
      "epoch=370: train_ppl=tensor(3.4821, device='cuda:0') train_epoch_loss=tensor(1.2476, device='cuda:0') eval_ppl=tensor(3.4715, device='cuda:0') eval_epoch_loss=tensor(1.2446, device='cuda:0')\n"
     ]
    },
    {
     "name": "stderr",
     "output_type": "stream",
     "text": [
      "100%|██████████| 7/7 [00:02<00:00,  2.64it/s]\n",
      "100%|██████████| 7/7 [00:01<00:00,  5.05it/s]\n"
     ]
    },
    {
     "name": "stdout",
     "output_type": "stream",
     "text": [
      "epoch=371: train_ppl=tensor(3.5225, device='cuda:0') train_epoch_loss=tensor(1.2592, device='cuda:0') eval_ppl=tensor(3.4770, device='cuda:0') eval_epoch_loss=tensor(1.2462, device='cuda:0')\n"
     ]
    },
    {
     "name": "stderr",
     "output_type": "stream",
     "text": [
      "100%|██████████| 7/7 [00:03<00:00,  1.88it/s]\n",
      "100%|██████████| 7/7 [00:01<00:00,  5.88it/s]\n"
     ]
    },
    {
     "name": "stdout",
     "output_type": "stream",
     "text": [
      "epoch=372: train_ppl=tensor(3.4593, device='cuda:0') train_epoch_loss=tensor(1.2411, device='cuda:0') eval_ppl=tensor(3.4114, device='cuda:0') eval_epoch_loss=tensor(1.2271, device='cuda:0')\n"
     ]
    },
    {
     "name": "stderr",
     "output_type": "stream",
     "text": [
      "100%|██████████| 7/7 [00:02<00:00,  2.61it/s]\n",
      "100%|██████████| 7/7 [00:01<00:00,  5.35it/s]\n"
     ]
    },
    {
     "name": "stdout",
     "output_type": "stream",
     "text": [
      "epoch=373: train_ppl=tensor(3.5516, device='cuda:0') train_epoch_loss=tensor(1.2674, device='cuda:0') eval_ppl=tensor(3.8275, device='cuda:0') eval_epoch_loss=tensor(1.3422, device='cuda:0')\n"
     ]
    },
    {
     "name": "stderr",
     "output_type": "stream",
     "text": [
      "100%|██████████| 7/7 [00:02<00:00,  2.45it/s]\n",
      "100%|██████████| 7/7 [00:01<00:00,  5.68it/s]\n"
     ]
    },
    {
     "name": "stdout",
     "output_type": "stream",
     "text": [
      "epoch=374: train_ppl=tensor(3.7501, device='cuda:0') train_epoch_loss=tensor(1.3218, device='cuda:0') eval_ppl=tensor(3.7354, device='cuda:0') eval_epoch_loss=tensor(1.3179, device='cuda:0')\n"
     ]
    },
    {
     "name": "stderr",
     "output_type": "stream",
     "text": [
      "100%|██████████| 7/7 [00:02<00:00,  2.63it/s]\n",
      "100%|██████████| 7/7 [00:01<00:00,  5.58it/s]\n"
     ]
    },
    {
     "name": "stdout",
     "output_type": "stream",
     "text": [
      "epoch=375: train_ppl=tensor(3.6231, device='cuda:0') train_epoch_loss=tensor(1.2873, device='cuda:0') eval_ppl=tensor(3.5689, device='cuda:0') eval_epoch_loss=tensor(1.2723, device='cuda:0')\n"
     ]
    },
    {
     "name": "stderr",
     "output_type": "stream",
     "text": [
      "100%|██████████| 7/7 [00:02<00:00,  2.51it/s]\n",
      "100%|██████████| 7/7 [00:01<00:00,  5.61it/s]\n"
     ]
    },
    {
     "name": "stdout",
     "output_type": "stream",
     "text": [
      "epoch=376: train_ppl=tensor(3.5892, device='cuda:0') train_epoch_loss=tensor(1.2779, device='cuda:0') eval_ppl=tensor(3.6536, device='cuda:0') eval_epoch_loss=tensor(1.2957, device='cuda:0')\n"
     ]
    },
    {
     "name": "stderr",
     "output_type": "stream",
     "text": [
      "100%|██████████| 7/7 [00:02<00:00,  2.58it/s]\n",
      "100%|██████████| 7/7 [00:01<00:00,  5.00it/s]\n"
     ]
    },
    {
     "name": "stdout",
     "output_type": "stream",
     "text": [
      "epoch=377: train_ppl=tensor(3.5950, device='cuda:0') train_epoch_loss=tensor(1.2795, device='cuda:0') eval_ppl=tensor(3.4161, device='cuda:0') eval_epoch_loss=tensor(1.2285, device='cuda:0')\n"
     ]
    },
    {
     "name": "stderr",
     "output_type": "stream",
     "text": [
      "100%|██████████| 7/7 [00:02<00:00,  2.55it/s]\n",
      "100%|██████████| 7/7 [00:01<00:00,  5.72it/s]\n"
     ]
    },
    {
     "name": "stdout",
     "output_type": "stream",
     "text": [
      "epoch=378: train_ppl=tensor(3.4426, device='cuda:0') train_epoch_loss=tensor(1.2362, device='cuda:0') eval_ppl=tensor(3.4090, device='cuda:0') eval_epoch_loss=tensor(1.2264, device='cuda:0')\n"
     ]
    },
    {
     "name": "stderr",
     "output_type": "stream",
     "text": [
      "100%|██████████| 7/7 [00:02<00:00,  2.50it/s]\n",
      "100%|██████████| 7/7 [00:01<00:00,  5.50it/s]\n"
     ]
    },
    {
     "name": "stdout",
     "output_type": "stream",
     "text": [
      "epoch=379: train_ppl=tensor(3.4944, device='cuda:0') train_epoch_loss=tensor(1.2512, device='cuda:0') eval_ppl=tensor(3.5061, device='cuda:0') eval_epoch_loss=tensor(1.2545, device='cuda:0')\n"
     ]
    },
    {
     "name": "stderr",
     "output_type": "stream",
     "text": [
      "100%|██████████| 7/7 [00:02<00:00,  2.53it/s]\n",
      "100%|██████████| 7/7 [00:01<00:00,  5.75it/s]\n"
     ]
    },
    {
     "name": "stdout",
     "output_type": "stream",
     "text": [
      "epoch=380: train_ppl=tensor(3.6101, device='cuda:0') train_epoch_loss=tensor(1.2837, device='cuda:0') eval_ppl=tensor(3.3756, device='cuda:0') eval_epoch_loss=tensor(1.2166, device='cuda:0')\n"
     ]
    },
    {
     "name": "stderr",
     "output_type": "stream",
     "text": [
      "100%|██████████| 7/7 [00:02<00:00,  2.50it/s]\n",
      "100%|██████████| 7/7 [00:01<00:00,  5.89it/s]\n"
     ]
    },
    {
     "name": "stdout",
     "output_type": "stream",
     "text": [
      "epoch=381: train_ppl=tensor(3.8466, device='cuda:0') train_epoch_loss=tensor(1.3472, device='cuda:0') eval_ppl=tensor(3.3772, device='cuda:0') eval_epoch_loss=tensor(1.2171, device='cuda:0')\n"
     ]
    },
    {
     "name": "stderr",
     "output_type": "stream",
     "text": [
      "100%|██████████| 7/7 [00:02<00:00,  2.54it/s]\n",
      "100%|██████████| 7/7 [00:01<00:00,  5.89it/s]\n"
     ]
    },
    {
     "name": "stdout",
     "output_type": "stream",
     "text": [
      "epoch=382: train_ppl=tensor(3.7088, device='cuda:0') train_epoch_loss=tensor(1.3107, device='cuda:0') eval_ppl=tensor(3.8742, device='cuda:0') eval_epoch_loss=tensor(1.3543, device='cuda:0')\n"
     ]
    },
    {
     "name": "stderr",
     "output_type": "stream",
     "text": [
      "100%|██████████| 7/7 [00:02<00:00,  2.65it/s]\n",
      "100%|██████████| 7/7 [00:01<00:00,  5.86it/s]\n"
     ]
    },
    {
     "name": "stdout",
     "output_type": "stream",
     "text": [
      "epoch=383: train_ppl=tensor(3.8095, device='cuda:0') train_epoch_loss=tensor(1.3375, device='cuda:0') eval_ppl=tensor(3.2778, device='cuda:0') eval_epoch_loss=tensor(1.1872, device='cuda:0')\n"
     ]
    },
    {
     "name": "stderr",
     "output_type": "stream",
     "text": [
      "100%|██████████| 7/7 [00:02<00:00,  2.35it/s]\n",
      "100%|██████████| 7/7 [00:01<00:00,  5.32it/s]\n"
     ]
    },
    {
     "name": "stdout",
     "output_type": "stream",
     "text": [
      "epoch=384: train_ppl=tensor(3.3619, device='cuda:0') train_epoch_loss=tensor(1.2125, device='cuda:0') eval_ppl=tensor(3.7890, device='cuda:0') eval_epoch_loss=tensor(1.3321, device='cuda:0')\n"
     ]
    },
    {
     "name": "stderr",
     "output_type": "stream",
     "text": [
      "100%|██████████| 7/7 [00:02<00:00,  2.49it/s]\n",
      "100%|██████████| 7/7 [00:01<00:00,  5.37it/s]\n"
     ]
    },
    {
     "name": "stdout",
     "output_type": "stream",
     "text": [
      "epoch=385: train_ppl=tensor(3.4495, device='cuda:0') train_epoch_loss=tensor(1.2382, device='cuda:0') eval_ppl=tensor(3.2471, device='cuda:0') eval_epoch_loss=tensor(1.1778, device='cuda:0')\n"
     ]
    },
    {
     "name": "stderr",
     "output_type": "stream",
     "text": [
      "100%|██████████| 7/7 [00:02<00:00,  2.55it/s]\n",
      "100%|██████████| 7/7 [00:01<00:00,  5.77it/s]\n"
     ]
    },
    {
     "name": "stdout",
     "output_type": "stream",
     "text": [
      "epoch=386: train_ppl=tensor(3.3169, device='cuda:0') train_epoch_loss=tensor(1.1990, device='cuda:0') eval_ppl=tensor(3.3651, device='cuda:0') eval_epoch_loss=tensor(1.2135, device='cuda:0')\n"
     ]
    },
    {
     "name": "stderr",
     "output_type": "stream",
     "text": [
      "100%|██████████| 7/7 [00:02<00:00,  2.61it/s]\n",
      "100%|██████████| 7/7 [00:01<00:00,  4.87it/s]\n"
     ]
    },
    {
     "name": "stdout",
     "output_type": "stream",
     "text": [
      "epoch=387: train_ppl=tensor(3.5014, device='cuda:0') train_epoch_loss=tensor(1.2531, device='cuda:0') eval_ppl=tensor(3.2207, device='cuda:0') eval_epoch_loss=tensor(1.1696, device='cuda:0')\n"
     ]
    },
    {
     "name": "stderr",
     "output_type": "stream",
     "text": [
      "100%|██████████| 7/7 [00:03<00:00,  1.84it/s]\n",
      "100%|██████████| 7/7 [00:01<00:00,  4.22it/s]\n"
     ]
    },
    {
     "name": "stdout",
     "output_type": "stream",
     "text": [
      "epoch=388: train_ppl=tensor(3.4642, device='cuda:0') train_epoch_loss=tensor(1.2425, device='cuda:0') eval_ppl=tensor(3.2356, device='cuda:0') eval_epoch_loss=tensor(1.1742, device='cuda:0')\n"
     ]
    },
    {
     "name": "stderr",
     "output_type": "stream",
     "text": [
      "100%|██████████| 7/7 [00:03<00:00,  2.10it/s]\n",
      "100%|██████████| 7/7 [00:01<00:00,  5.15it/s]\n"
     ]
    },
    {
     "name": "stdout",
     "output_type": "stream",
     "text": [
      "epoch=389: train_ppl=tensor(3.5934, device='cuda:0') train_epoch_loss=tensor(1.2791, device='cuda:0') eval_ppl=tensor(3.4729, device='cuda:0') eval_epoch_loss=tensor(1.2450, device='cuda:0')\n"
     ]
    },
    {
     "name": "stderr",
     "output_type": "stream",
     "text": [
      "100%|██████████| 7/7 [00:02<00:00,  2.63it/s]\n",
      "100%|██████████| 7/7 [00:01<00:00,  5.83it/s]\n"
     ]
    },
    {
     "name": "stdout",
     "output_type": "stream",
     "text": [
      "epoch=390: train_ppl=tensor(3.8310, device='cuda:0') train_epoch_loss=tensor(1.3431, device='cuda:0') eval_ppl=tensor(3.3575, device='cuda:0') eval_epoch_loss=tensor(1.2112, device='cuda:0')\n"
     ]
    },
    {
     "name": "stderr",
     "output_type": "stream",
     "text": [
      "100%|██████████| 7/7 [00:02<00:00,  2.64it/s]\n",
      "100%|██████████| 7/7 [00:01<00:00,  5.91it/s]\n"
     ]
    },
    {
     "name": "stdout",
     "output_type": "stream",
     "text": [
      "epoch=391: train_ppl=tensor(3.4855, device='cuda:0') train_epoch_loss=tensor(1.2486, device='cuda:0') eval_ppl=tensor(3.3604, device='cuda:0') eval_epoch_loss=tensor(1.2121, device='cuda:0')\n"
     ]
    },
    {
     "name": "stderr",
     "output_type": "stream",
     "text": [
      "100%|██████████| 7/7 [00:02<00:00,  2.64it/s]\n",
      "100%|██████████| 7/7 [00:01<00:00,  5.91it/s]\n"
     ]
    },
    {
     "name": "stdout",
     "output_type": "stream",
     "text": [
      "epoch=392: train_ppl=tensor(3.7299, device='cuda:0') train_epoch_loss=tensor(1.3164, device='cuda:0') eval_ppl=tensor(3.3376, device='cuda:0') eval_epoch_loss=tensor(1.2053, device='cuda:0')\n"
     ]
    },
    {
     "name": "stderr",
     "output_type": "stream",
     "text": [
      "100%|██████████| 7/7 [00:02<00:00,  2.68it/s]\n",
      "100%|██████████| 7/7 [00:01<00:00,  5.84it/s]\n"
     ]
    },
    {
     "name": "stdout",
     "output_type": "stream",
     "text": [
      "epoch=393: train_ppl=tensor(3.4670, device='cuda:0') train_epoch_loss=tensor(1.2433, device='cuda:0') eval_ppl=tensor(3.3359, device='cuda:0') eval_epoch_loss=tensor(1.2048, device='cuda:0')\n"
     ]
    },
    {
     "name": "stderr",
     "output_type": "stream",
     "text": [
      "100%|██████████| 7/7 [00:02<00:00,  2.69it/s]\n",
      "100%|██████████| 7/7 [00:01<00:00,  5.86it/s]\n"
     ]
    },
    {
     "name": "stdout",
     "output_type": "stream",
     "text": [
      "epoch=394: train_ppl=tensor(3.9022, device='cuda:0') train_epoch_loss=tensor(1.3615, device='cuda:0') eval_ppl=tensor(3.4133, device='cuda:0') eval_epoch_loss=tensor(1.2277, device='cuda:0')\n"
     ]
    },
    {
     "name": "stderr",
     "output_type": "stream",
     "text": [
      "100%|██████████| 7/7 [00:02<00:00,  2.67it/s]\n",
      "100%|██████████| 7/7 [00:01<00:00,  5.78it/s]\n"
     ]
    },
    {
     "name": "stdout",
     "output_type": "stream",
     "text": [
      "epoch=395: train_ppl=tensor(3.9153, device='cuda:0') train_epoch_loss=tensor(1.3649, device='cuda:0') eval_ppl=tensor(3.5578, device='cuda:0') eval_epoch_loss=tensor(1.2692, device='cuda:0')\n"
     ]
    },
    {
     "name": "stderr",
     "output_type": "stream",
     "text": [
      "100%|██████████| 7/7 [00:02<00:00,  2.67it/s]\n",
      "100%|██████████| 7/7 [00:01<00:00,  5.82it/s]\n"
     ]
    },
    {
     "name": "stdout",
     "output_type": "stream",
     "text": [
      "epoch=396: train_ppl=tensor(3.4937, device='cuda:0') train_epoch_loss=tensor(1.2510, device='cuda:0') eval_ppl=tensor(3.3252, device='cuda:0') eval_epoch_loss=tensor(1.2015, device='cuda:0')\n"
     ]
    },
    {
     "name": "stderr",
     "output_type": "stream",
     "text": [
      "100%|██████████| 7/7 [00:02<00:00,  2.69it/s]\n",
      "100%|██████████| 7/7 [00:01<00:00,  5.77it/s]\n"
     ]
    },
    {
     "name": "stdout",
     "output_type": "stream",
     "text": [
      "epoch=397: train_ppl=tensor(3.6602, device='cuda:0') train_epoch_loss=tensor(1.2975, device='cuda:0') eval_ppl=tensor(3.4509, device='cuda:0') eval_epoch_loss=tensor(1.2386, device='cuda:0')\n"
     ]
    },
    {
     "name": "stderr",
     "output_type": "stream",
     "text": [
      "100%|██████████| 7/7 [00:02<00:00,  2.68it/s]\n",
      "100%|██████████| 7/7 [00:01<00:00,  5.92it/s]\n"
     ]
    },
    {
     "name": "stdout",
     "output_type": "stream",
     "text": [
      "epoch=398: train_ppl=tensor(13.5551, device='cuda:0') train_epoch_loss=tensor(2.6068, device='cuda:0') eval_ppl=tensor(284.9440, device='cuda:0') eval_epoch_loss=tensor(5.6523, device='cuda:0')\n"
     ]
    },
    {
     "name": "stderr",
     "output_type": "stream",
     "text": [
      "100%|██████████| 7/7 [00:02<00:00,  2.39it/s]\n",
      "100%|██████████| 7/7 [00:01<00:00,  5.48it/s]\n"
     ]
    },
    {
     "name": "stdout",
     "output_type": "stream",
     "text": [
      "epoch=399: train_ppl=tensor(36.0038, device='cuda:0') train_epoch_loss=tensor(3.5836, device='cuda:0') eval_ppl=tensor(12.5606, device='cuda:0') eval_epoch_loss=tensor(2.5306, device='cuda:0')\n"
     ]
    },
    {
     "name": "stderr",
     "output_type": "stream",
     "text": [
      "100%|██████████| 7/7 [00:02<00:00,  2.47it/s]\n",
      "100%|██████████| 7/7 [00:01<00:00,  5.10it/s]\n"
     ]
    },
    {
     "name": "stdout",
     "output_type": "stream",
     "text": [
      "epoch=400: train_ppl=tensor(8.2576, device='cuda:0') train_epoch_loss=tensor(2.1111, device='cuda:0') eval_ppl=tensor(7.4948, device='cuda:0') eval_epoch_loss=tensor(2.0142, device='cuda:0')\n"
     ]
    },
    {
     "name": "stderr",
     "output_type": "stream",
     "text": [
      "100%|██████████| 7/7 [00:02<00:00,  2.55it/s]\n",
      "100%|██████████| 7/7 [00:01<00:00,  4.47it/s]\n"
     ]
    },
    {
     "name": "stdout",
     "output_type": "stream",
     "text": [
      "epoch=401: train_ppl=tensor(6.3010, device='cuda:0') train_epoch_loss=tensor(1.8407, device='cuda:0') eval_ppl=tensor(5.2916, device='cuda:0') eval_epoch_loss=tensor(1.6661, device='cuda:0')\n"
     ]
    },
    {
     "name": "stderr",
     "output_type": "stream",
     "text": [
      "100%|██████████| 7/7 [00:06<00:00,  1.06it/s]\n",
      "100%|██████████| 7/7 [00:02<00:00,  3.49it/s]\n"
     ]
    },
    {
     "name": "stdout",
     "output_type": "stream",
     "text": [
      "epoch=402: train_ppl=tensor(4.7689, device='cuda:0') train_epoch_loss=tensor(1.5621, device='cuda:0') eval_ppl=tensor(4.5893, device='cuda:0') eval_epoch_loss=tensor(1.5237, device='cuda:0')\n"
     ]
    },
    {
     "name": "stderr",
     "output_type": "stream",
     "text": [
      "100%|██████████| 7/7 [00:03<00:00,  1.98it/s]\n",
      "100%|██████████| 7/7 [00:01<00:00,  5.81it/s]\n"
     ]
    },
    {
     "name": "stdout",
     "output_type": "stream",
     "text": [
      "epoch=403: train_ppl=tensor(4.3795, device='cuda:0') train_epoch_loss=tensor(1.4769, device='cuda:0') eval_ppl=tensor(4.2043, device='cuda:0') eval_epoch_loss=tensor(1.4361, device='cuda:0')\n"
     ]
    },
    {
     "name": "stderr",
     "output_type": "stream",
     "text": [
      "100%|██████████| 7/7 [00:02<00:00,  2.67it/s]\n",
      "100%|██████████| 7/7 [00:01<00:00,  5.78it/s]\n"
     ]
    },
    {
     "name": "stdout",
     "output_type": "stream",
     "text": [
      "epoch=404: train_ppl=tensor(4.4240, device='cuda:0') train_epoch_loss=tensor(1.4870, device='cuda:0') eval_ppl=tensor(4.2392, device='cuda:0') eval_epoch_loss=tensor(1.4444, device='cuda:0')\n"
     ]
    },
    {
     "name": "stderr",
     "output_type": "stream",
     "text": [
      "100%|██████████| 7/7 [00:02<00:00,  2.51it/s]\n",
      "100%|██████████| 7/7 [00:01<00:00,  5.93it/s]\n"
     ]
    },
    {
     "name": "stdout",
     "output_type": "stream",
     "text": [
      "epoch=405: train_ppl=tensor(4.1170, device='cuda:0') train_epoch_loss=tensor(1.4151, device='cuda:0') eval_ppl=tensor(4.0911, device='cuda:0') eval_epoch_loss=tensor(1.4088, device='cuda:0')\n"
     ]
    },
    {
     "name": "stderr",
     "output_type": "stream",
     "text": [
      "100%|██████████| 7/7 [00:03<00:00,  1.96it/s]\n",
      "100%|██████████| 7/7 [00:01<00:00,  5.65it/s]\n"
     ]
    },
    {
     "name": "stdout",
     "output_type": "stream",
     "text": [
      "epoch=406: train_ppl=tensor(4.2520, device='cuda:0') train_epoch_loss=tensor(1.4474, device='cuda:0') eval_ppl=tensor(4.2296, device='cuda:0') eval_epoch_loss=tensor(1.4421, device='cuda:0')\n"
     ]
    },
    {
     "name": "stderr",
     "output_type": "stream",
     "text": [
      "100%|██████████| 7/7 [00:03<00:00,  2.09it/s]\n",
      "100%|██████████| 7/7 [00:01<00:00,  5.81it/s]\n"
     ]
    },
    {
     "name": "stdout",
     "output_type": "stream",
     "text": [
      "epoch=407: train_ppl=tensor(4.1580, device='cuda:0') train_epoch_loss=tensor(1.4250, device='cuda:0') eval_ppl=tensor(4.2492, device='cuda:0') eval_epoch_loss=tensor(1.4467, device='cuda:0')\n"
     ]
    },
    {
     "name": "stderr",
     "output_type": "stream",
     "text": [
      "100%|██████████| 7/7 [00:02<00:00,  2.70it/s]\n",
      "100%|██████████| 7/7 [00:01<00:00,  5.91it/s]\n"
     ]
    },
    {
     "name": "stdout",
     "output_type": "stream",
     "text": [
      "epoch=408: train_ppl=tensor(4.0478, device='cuda:0') train_epoch_loss=tensor(1.3982, device='cuda:0') eval_ppl=tensor(4.2340, device='cuda:0') eval_epoch_loss=tensor(1.4432, device='cuda:0')\n"
     ]
    },
    {
     "name": "stderr",
     "output_type": "stream",
     "text": [
      "100%|██████████| 7/7 [00:02<00:00,  2.69it/s]\n",
      "100%|██████████| 7/7 [00:01<00:00,  5.92it/s]\n"
     ]
    },
    {
     "name": "stdout",
     "output_type": "stream",
     "text": [
      "epoch=409: train_ppl=tensor(4.0415, device='cuda:0') train_epoch_loss=tensor(1.3966, device='cuda:0') eval_ppl=tensor(4.1791, device='cuda:0') eval_epoch_loss=tensor(1.4301, device='cuda:0')\n"
     ]
    },
    {
     "name": "stderr",
     "output_type": "stream",
     "text": [
      "100%|██████████| 7/7 [00:02<00:00,  2.70it/s]\n",
      "100%|██████████| 7/7 [00:01<00:00,  5.89it/s]\n"
     ]
    },
    {
     "name": "stdout",
     "output_type": "stream",
     "text": [
      "epoch=410: train_ppl=tensor(4.0993, device='cuda:0') train_epoch_loss=tensor(1.4108, device='cuda:0') eval_ppl=tensor(4.1655, device='cuda:0') eval_epoch_loss=tensor(1.4268, device='cuda:0')\n"
     ]
    },
    {
     "name": "stderr",
     "output_type": "stream",
     "text": [
      "100%|██████████| 7/7 [00:02<00:00,  2.69it/s]\n",
      "100%|██████████| 7/7 [00:01<00:00,  5.86it/s]\n"
     ]
    },
    {
     "name": "stdout",
     "output_type": "stream",
     "text": [
      "epoch=411: train_ppl=tensor(4.0974, device='cuda:0') train_epoch_loss=tensor(1.4103, device='cuda:0') eval_ppl=tensor(4.1371, device='cuda:0') eval_epoch_loss=tensor(1.4200, device='cuda:0')\n"
     ]
    },
    {
     "name": "stderr",
     "output_type": "stream",
     "text": [
      "100%|██████████| 7/7 [00:02<00:00,  2.71it/s]\n",
      "100%|██████████| 7/7 [00:01<00:00,  5.91it/s]\n"
     ]
    },
    {
     "name": "stdout",
     "output_type": "stream",
     "text": [
      "epoch=412: train_ppl=tensor(4.0282, device='cuda:0') train_epoch_loss=tensor(1.3933, device='cuda:0') eval_ppl=tensor(4.0180, device='cuda:0') eval_epoch_loss=tensor(1.3908, device='cuda:0')\n"
     ]
    },
    {
     "name": "stderr",
     "output_type": "stream",
     "text": [
      "100%|██████████| 7/7 [00:02<00:00,  2.62it/s]\n",
      "100%|██████████| 7/7 [00:01<00:00,  5.44it/s]\n"
     ]
    },
    {
     "name": "stdout",
     "output_type": "stream",
     "text": [
      "epoch=413: train_ppl=tensor(4.1967, device='cuda:0') train_epoch_loss=tensor(1.4343, device='cuda:0') eval_ppl=tensor(4.0398, device='cuda:0') eval_epoch_loss=tensor(1.3962, device='cuda:0')\n"
     ]
    },
    {
     "name": "stderr",
     "output_type": "stream",
     "text": [
      "100%|██████████| 7/7 [00:03<00:00,  2.20it/s]\n",
      "100%|██████████| 7/7 [00:01<00:00,  4.92it/s]\n"
     ]
    },
    {
     "name": "stdout",
     "output_type": "stream",
     "text": [
      "epoch=414: train_ppl=tensor(3.9197, device='cuda:0') train_epoch_loss=tensor(1.3660, device='cuda:0') eval_ppl=tensor(4.0731, device='cuda:0') eval_epoch_loss=tensor(1.4044, device='cuda:0')\n"
     ]
    },
    {
     "name": "stderr",
     "output_type": "stream",
     "text": [
      "100%|██████████| 7/7 [00:02<00:00,  2.41it/s]\n",
      "100%|██████████| 7/7 [00:01<00:00,  5.73it/s]\n"
     ]
    },
    {
     "name": "stdout",
     "output_type": "stream",
     "text": [
      "epoch=415: train_ppl=tensor(3.9721, device='cuda:0') train_epoch_loss=tensor(1.3793, device='cuda:0') eval_ppl=tensor(3.9495, device='cuda:0') eval_epoch_loss=tensor(1.3736, device='cuda:0')\n"
     ]
    },
    {
     "name": "stderr",
     "output_type": "stream",
     "text": [
      "100%|██████████| 7/7 [00:04<00:00,  1.71it/s]\n",
      "100%|██████████| 7/7 [00:01<00:00,  5.92it/s]\n"
     ]
    },
    {
     "name": "stdout",
     "output_type": "stream",
     "text": [
      "epoch=416: train_ppl=tensor(4.0425, device='cuda:0') train_epoch_loss=tensor(1.3969, device='cuda:0') eval_ppl=tensor(4.0330, device='cuda:0') eval_epoch_loss=tensor(1.3945, device='cuda:0')\n"
     ]
    },
    {
     "name": "stderr",
     "output_type": "stream",
     "text": [
      "100%|██████████| 7/7 [00:03<00:00,  2.16it/s]\n",
      "100%|██████████| 7/7 [00:01<00:00,  5.52it/s]\n"
     ]
    },
    {
     "name": "stdout",
     "output_type": "stream",
     "text": [
      "epoch=417: train_ppl=tensor(4.0559, device='cuda:0') train_epoch_loss=tensor(1.4002, device='cuda:0') eval_ppl=tensor(4.1206, device='cuda:0') eval_epoch_loss=tensor(1.4160, device='cuda:0')\n"
     ]
    },
    {
     "name": "stderr",
     "output_type": "stream",
     "text": [
      "100%|██████████| 7/7 [00:02<00:00,  2.58it/s]\n",
      "100%|██████████| 7/7 [00:01<00:00,  5.85it/s]\n"
     ]
    },
    {
     "name": "stdout",
     "output_type": "stream",
     "text": [
      "epoch=418: train_ppl=tensor(3.9544, device='cuda:0') train_epoch_loss=tensor(1.3748, device='cuda:0') eval_ppl=tensor(4.0196, device='cuda:0') eval_epoch_loss=tensor(1.3912, device='cuda:0')\n"
     ]
    },
    {
     "name": "stderr",
     "output_type": "stream",
     "text": [
      "100%|██████████| 7/7 [00:02<00:00,  2.65it/s]\n",
      "100%|██████████| 7/7 [00:01<00:00,  5.08it/s]\n"
     ]
    },
    {
     "name": "stdout",
     "output_type": "stream",
     "text": [
      "epoch=419: train_ppl=tensor(3.9257, device='cuda:0') train_epoch_loss=tensor(1.3676, device='cuda:0') eval_ppl=tensor(4.1166, device='cuda:0') eval_epoch_loss=tensor(1.4150, device='cuda:0')\n"
     ]
    },
    {
     "name": "stderr",
     "output_type": "stream",
     "text": [
      "100%|██████████| 7/7 [00:02<00:00,  2.45it/s]\n",
      "100%|██████████| 7/7 [00:01<00:00,  3.93it/s]\n"
     ]
    },
    {
     "name": "stdout",
     "output_type": "stream",
     "text": [
      "epoch=420: train_ppl=tensor(3.9919, device='cuda:0') train_epoch_loss=tensor(1.3843, device='cuda:0') eval_ppl=tensor(4.2494, device='cuda:0') eval_epoch_loss=tensor(1.4468, device='cuda:0')\n"
     ]
    },
    {
     "name": "stderr",
     "output_type": "stream",
     "text": [
      "100%|██████████| 7/7 [00:04<00:00,  1.74it/s]\n",
      "100%|██████████| 7/7 [00:01<00:00,  5.72it/s]\n"
     ]
    },
    {
     "name": "stdout",
     "output_type": "stream",
     "text": [
      "epoch=421: train_ppl=tensor(3.8928, device='cuda:0') train_epoch_loss=tensor(1.3591, device='cuda:0') eval_ppl=tensor(4.0301, device='cuda:0') eval_epoch_loss=tensor(1.3938, device='cuda:0')\n"
     ]
    },
    {
     "name": "stderr",
     "output_type": "stream",
     "text": [
      "100%|██████████| 7/7 [00:02<00:00,  2.65it/s]\n",
      "100%|██████████| 7/7 [00:01<00:00,  5.37it/s]\n"
     ]
    },
    {
     "name": "stdout",
     "output_type": "stream",
     "text": [
      "epoch=422: train_ppl=tensor(3.8684, device='cuda:0') train_epoch_loss=tensor(1.3529, device='cuda:0') eval_ppl=tensor(3.9766, device='cuda:0') eval_epoch_loss=tensor(1.3804, device='cuda:0')\n"
     ]
    },
    {
     "name": "stderr",
     "output_type": "stream",
     "text": [
      "100%|██████████| 7/7 [00:02<00:00,  2.43it/s]\n",
      "100%|██████████| 7/7 [00:01<00:00,  5.42it/s]\n"
     ]
    },
    {
     "name": "stdout",
     "output_type": "stream",
     "text": [
      "epoch=423: train_ppl=tensor(3.8646, device='cuda:0') train_epoch_loss=tensor(1.3519, device='cuda:0') eval_ppl=tensor(4.0437, device='cuda:0') eval_epoch_loss=tensor(1.3972, device='cuda:0')\n"
     ]
    },
    {
     "name": "stderr",
     "output_type": "stream",
     "text": [
      "100%|██████████| 7/7 [00:02<00:00,  2.64it/s]\n",
      "100%|██████████| 7/7 [00:01<00:00,  5.81it/s]\n"
     ]
    },
    {
     "name": "stdout",
     "output_type": "stream",
     "text": [
      "epoch=424: train_ppl=tensor(3.8586, device='cuda:0') train_epoch_loss=tensor(1.3503, device='cuda:0') eval_ppl=tensor(3.9065, device='cuda:0') eval_epoch_loss=tensor(1.3626, device='cuda:0')\n"
     ]
    },
    {
     "name": "stderr",
     "output_type": "stream",
     "text": [
      "100%|██████████| 7/7 [00:02<00:00,  2.67it/s]\n",
      "100%|██████████| 7/7 [00:01<00:00,  4.70it/s]\n"
     ]
    },
    {
     "name": "stdout",
     "output_type": "stream",
     "text": [
      "epoch=425: train_ppl=tensor(3.8328, device='cuda:0') train_epoch_loss=tensor(1.3436, device='cuda:0') eval_ppl=tensor(3.9196, device='cuda:0') eval_epoch_loss=tensor(1.3660, device='cuda:0')\n"
     ]
    },
    {
     "name": "stderr",
     "output_type": "stream",
     "text": [
      "100%|██████████| 7/7 [00:03<00:00,  1.97it/s]\n",
      "100%|██████████| 7/7 [00:01<00:00,  5.91it/s]\n"
     ]
    },
    {
     "name": "stdout",
     "output_type": "stream",
     "text": [
      "epoch=426: train_ppl=tensor(3.8288, device='cuda:0') train_epoch_loss=tensor(1.3425, device='cuda:0') eval_ppl=tensor(3.9981, device='cuda:0') eval_epoch_loss=tensor(1.3858, device='cuda:0')\n"
     ]
    },
    {
     "name": "stderr",
     "output_type": "stream",
     "text": [
      "100%|██████████| 7/7 [00:03<00:00,  2.09it/s]\n",
      "100%|██████████| 7/7 [00:01<00:00,  5.83it/s]\n"
     ]
    },
    {
     "name": "stdout",
     "output_type": "stream",
     "text": [
      "epoch=427: train_ppl=tensor(3.8959, device='cuda:0') train_epoch_loss=tensor(1.3599, device='cuda:0') eval_ppl=tensor(3.8885, device='cuda:0') eval_epoch_loss=tensor(1.3580, device='cuda:0')\n"
     ]
    },
    {
     "name": "stderr",
     "output_type": "stream",
     "text": [
      "100%|██████████| 7/7 [00:02<00:00,  2.64it/s]\n",
      "100%|██████████| 7/7 [00:01<00:00,  4.80it/s]\n"
     ]
    },
    {
     "name": "stdout",
     "output_type": "stream",
     "text": [
      "epoch=428: train_ppl=tensor(3.8770, device='cuda:0') train_epoch_loss=tensor(1.3551, device='cuda:0') eval_ppl=tensor(3.8632, device='cuda:0') eval_epoch_loss=tensor(1.3515, device='cuda:0')\n"
     ]
    },
    {
     "name": "stderr",
     "output_type": "stream",
     "text": [
      "100%|██████████| 7/7 [00:02<00:00,  2.68it/s]\n",
      "100%|██████████| 7/7 [00:01<00:00,  5.91it/s]\n"
     ]
    },
    {
     "name": "stdout",
     "output_type": "stream",
     "text": [
      "epoch=429: train_ppl=tensor(3.8566, device='cuda:0') train_epoch_loss=tensor(1.3498, device='cuda:0') eval_ppl=tensor(3.8860, device='cuda:0') eval_epoch_loss=tensor(1.3574, device='cuda:0')\n"
     ]
    },
    {
     "name": "stderr",
     "output_type": "stream",
     "text": [
      "100%|██████████| 7/7 [00:02<00:00,  2.69it/s]\n",
      "100%|██████████| 7/7 [00:01<00:00,  5.94it/s]\n"
     ]
    },
    {
     "name": "stdout",
     "output_type": "stream",
     "text": [
      "epoch=430: train_ppl=tensor(3.8308, device='cuda:0') train_epoch_loss=tensor(1.3431, device='cuda:0') eval_ppl=tensor(3.8611, device='cuda:0') eval_epoch_loss=tensor(1.3509, device='cuda:0')\n"
     ]
    },
    {
     "name": "stderr",
     "output_type": "stream",
     "text": [
      "100%|██████████| 7/7 [00:02<00:00,  2.69it/s]\n",
      "100%|██████████| 7/7 [00:01<00:00,  5.96it/s]\n"
     ]
    },
    {
     "name": "stdout",
     "output_type": "stream",
     "text": [
      "epoch=431: train_ppl=tensor(3.7461, device='cuda:0') train_epoch_loss=tensor(1.3207, device='cuda:0') eval_ppl=tensor(3.7703, device='cuda:0') eval_epoch_loss=tensor(1.3272, device='cuda:0')\n"
     ]
    },
    {
     "name": "stderr",
     "output_type": "stream",
     "text": [
      "100%|██████████| 7/7 [00:04<00:00,  1.73it/s]\n",
      "100%|██████████| 7/7 [00:01<00:00,  3.60it/s]\n"
     ]
    },
    {
     "name": "stdout",
     "output_type": "stream",
     "text": [
      "epoch=432: train_ppl=tensor(3.6892, device='cuda:0') train_epoch_loss=tensor(1.3054, device='cuda:0') eval_ppl=tensor(3.7753, device='cuda:0') eval_epoch_loss=tensor(1.3285, device='cuda:0')\n"
     ]
    },
    {
     "name": "stderr",
     "output_type": "stream",
     "text": [
      "100%|██████████| 7/7 [00:03<00:00,  1.85it/s]\n",
      "100%|██████████| 7/7 [00:01<00:00,  5.89it/s]\n"
     ]
    },
    {
     "name": "stdout",
     "output_type": "stream",
     "text": [
      "epoch=433: train_ppl=tensor(3.7293, device='cuda:0') train_epoch_loss=tensor(1.3162, device='cuda:0') eval_ppl=tensor(3.8576, device='cuda:0') eval_epoch_loss=tensor(1.3500, device='cuda:0')\n"
     ]
    },
    {
     "name": "stderr",
     "output_type": "stream",
     "text": [
      "100%|██████████| 7/7 [00:03<00:00,  2.21it/s]\n",
      "100%|██████████| 7/7 [00:01<00:00,  4.77it/s]\n"
     ]
    },
    {
     "name": "stdout",
     "output_type": "stream",
     "text": [
      "epoch=434: train_ppl=tensor(3.7136, device='cuda:0') train_epoch_loss=tensor(1.3120, device='cuda:0') eval_ppl=tensor(3.6777, device='cuda:0') eval_epoch_loss=tensor(1.3023, device='cuda:0')\n"
     ]
    },
    {
     "name": "stderr",
     "output_type": "stream",
     "text": [
      "100%|██████████| 7/7 [00:02<00:00,  2.69it/s]\n",
      "100%|██████████| 7/7 [00:01<00:00,  5.91it/s]\n"
     ]
    },
    {
     "name": "stdout",
     "output_type": "stream",
     "text": [
      "epoch=435: train_ppl=tensor(3.6444, device='cuda:0') train_epoch_loss=tensor(1.2932, device='cuda:0') eval_ppl=tensor(3.7241, device='cuda:0') eval_epoch_loss=tensor(1.3148, device='cuda:0')\n"
     ]
    },
    {
     "name": "stderr",
     "output_type": "stream",
     "text": [
      "100%|██████████| 7/7 [00:03<00:00,  2.02it/s]\n",
      "100%|██████████| 7/7 [00:01<00:00,  4.72it/s]\n"
     ]
    },
    {
     "name": "stdout",
     "output_type": "stream",
     "text": [
      "epoch=436: train_ppl=tensor(3.7544, device='cuda:0') train_epoch_loss=tensor(1.3229, device='cuda:0') eval_ppl=tensor(3.8096, device='cuda:0') eval_epoch_loss=tensor(1.3375, device='cuda:0')\n"
     ]
    },
    {
     "name": "stderr",
     "output_type": "stream",
     "text": [
      "100%|██████████| 7/7 [00:03<00:00,  2.14it/s]\n",
      "100%|██████████| 7/7 [00:01<00:00,  5.28it/s]\n"
     ]
    },
    {
     "name": "stdout",
     "output_type": "stream",
     "text": [
      "epoch=437: train_ppl=tensor(3.5817, device='cuda:0') train_epoch_loss=tensor(1.2758, device='cuda:0') eval_ppl=tensor(3.6358, device='cuda:0') eval_epoch_loss=tensor(1.2908, device='cuda:0')\n"
     ]
    },
    {
     "name": "stderr",
     "output_type": "stream",
     "text": [
      "100%|██████████| 7/7 [00:02<00:00,  2.36it/s]\n",
      "100%|██████████| 7/7 [00:01<00:00,  4.87it/s]\n"
     ]
    },
    {
     "name": "stdout",
     "output_type": "stream",
     "text": [
      "epoch=438: train_ppl=tensor(3.7225, device='cuda:0') train_epoch_loss=tensor(1.3144, device='cuda:0') eval_ppl=tensor(3.7456, device='cuda:0') eval_epoch_loss=tensor(1.3206, device='cuda:0')\n"
     ]
    },
    {
     "name": "stderr",
     "output_type": "stream",
     "text": [
      "100%|██████████| 7/7 [00:04<00:00,  1.61it/s]\n",
      "100%|██████████| 7/7 [00:01<00:00,  4.86it/s]\n"
     ]
    },
    {
     "name": "stdout",
     "output_type": "stream",
     "text": [
      "epoch=439: train_ppl=tensor(3.5995, device='cuda:0') train_epoch_loss=tensor(1.2808, device='cuda:0') eval_ppl=tensor(3.6307, device='cuda:0') eval_epoch_loss=tensor(1.2894, device='cuda:0')\n"
     ]
    },
    {
     "name": "stderr",
     "output_type": "stream",
     "text": [
      "100%|██████████| 7/7 [00:03<00:00,  1.83it/s]\n",
      "100%|██████████| 7/7 [00:01<00:00,  3.96it/s]\n"
     ]
    },
    {
     "name": "stdout",
     "output_type": "stream",
     "text": [
      "epoch=440: train_ppl=tensor(3.7055, device='cuda:0') train_epoch_loss=tensor(1.3098, device='cuda:0') eval_ppl=tensor(3.6497, device='cuda:0') eval_epoch_loss=tensor(1.2946, device='cuda:0')\n"
     ]
    },
    {
     "name": "stderr",
     "output_type": "stream",
     "text": [
      "100%|██████████| 7/7 [00:02<00:00,  2.54it/s]\n",
      "100%|██████████| 7/7 [00:01<00:00,  5.66it/s]\n"
     ]
    },
    {
     "name": "stdout",
     "output_type": "stream",
     "text": [
      "epoch=441: train_ppl=tensor(3.6379, device='cuda:0') train_epoch_loss=tensor(1.2914, device='cuda:0') eval_ppl=tensor(3.6204, device='cuda:0') eval_epoch_loss=tensor(1.2866, device='cuda:0')\n"
     ]
    },
    {
     "name": "stderr",
     "output_type": "stream",
     "text": [
      "100%|██████████| 7/7 [00:02<00:00,  2.68it/s]\n",
      "100%|██████████| 7/7 [00:01<00:00,  5.88it/s]\n"
     ]
    },
    {
     "name": "stdout",
     "output_type": "stream",
     "text": [
      "epoch=442: train_ppl=tensor(3.6024, device='cuda:0') train_epoch_loss=tensor(1.2816, device='cuda:0') eval_ppl=tensor(3.6360, device='cuda:0') eval_epoch_loss=tensor(1.2909, device='cuda:0')\n"
     ]
    },
    {
     "name": "stderr",
     "output_type": "stream",
     "text": [
      "100%|██████████| 7/7 [00:02<00:00,  2.67it/s]\n",
      "100%|██████████| 7/7 [00:01<00:00,  5.90it/s]\n"
     ]
    },
    {
     "name": "stdout",
     "output_type": "stream",
     "text": [
      "epoch=443: train_ppl=tensor(3.6230, device='cuda:0') train_epoch_loss=tensor(1.2873, device='cuda:0') eval_ppl=tensor(3.6141, device='cuda:0') eval_epoch_loss=tensor(1.2848, device='cuda:0')\n"
     ]
    },
    {
     "name": "stderr",
     "output_type": "stream",
     "text": [
      "100%|██████████| 7/7 [00:02<00:00,  2.64it/s]\n",
      "100%|██████████| 7/7 [00:01<00:00,  5.90it/s]\n"
     ]
    },
    {
     "name": "stdout",
     "output_type": "stream",
     "text": [
      "epoch=444: train_ppl=tensor(3.5612, device='cuda:0') train_epoch_loss=tensor(1.2701, device='cuda:0') eval_ppl=tensor(3.5834, device='cuda:0') eval_epoch_loss=tensor(1.2763, device='cuda:0')\n"
     ]
    },
    {
     "name": "stderr",
     "output_type": "stream",
     "text": [
      "100%|██████████| 7/7 [00:02<00:00,  2.56it/s]\n",
      "100%|██████████| 7/7 [00:01<00:00,  5.87it/s]\n"
     ]
    },
    {
     "name": "stdout",
     "output_type": "stream",
     "text": [
      "epoch=445: train_ppl=tensor(3.5225, device='cuda:0') train_epoch_loss=tensor(1.2592, device='cuda:0') eval_ppl=tensor(3.5673, device='cuda:0') eval_epoch_loss=tensor(1.2718, device='cuda:0')\n"
     ]
    },
    {
     "name": "stderr",
     "output_type": "stream",
     "text": [
      "100%|██████████| 7/7 [00:02<00:00,  2.64it/s]\n",
      "100%|██████████| 7/7 [00:01<00:00,  5.89it/s]\n"
     ]
    },
    {
     "name": "stdout",
     "output_type": "stream",
     "text": [
      "epoch=446: train_ppl=tensor(3.7132, device='cuda:0') train_epoch_loss=tensor(1.3119, device='cuda:0') eval_ppl=tensor(3.5924, device='cuda:0') eval_epoch_loss=tensor(1.2788, device='cuda:0')\n"
     ]
    },
    {
     "name": "stderr",
     "output_type": "stream",
     "text": [
      "100%|██████████| 7/7 [00:02<00:00,  2.68it/s]\n",
      "100%|██████████| 7/7 [00:01<00:00,  3.87it/s]\n"
     ]
    },
    {
     "name": "stdout",
     "output_type": "stream",
     "text": [
      "epoch=447: train_ppl=tensor(3.5390, device='cuda:0') train_epoch_loss=tensor(1.2639, device='cuda:0') eval_ppl=tensor(3.5536, device='cuda:0') eval_epoch_loss=tensor(1.2680, device='cuda:0')\n"
     ]
    },
    {
     "name": "stderr",
     "output_type": "stream",
     "text": [
      "100%|██████████| 7/7 [00:03<00:00,  2.11it/s]\n",
      "100%|██████████| 7/7 [00:01<00:00,  5.72it/s]\n"
     ]
    },
    {
     "name": "stdout",
     "output_type": "stream",
     "text": [
      "epoch=448: train_ppl=tensor(3.4833, device='cuda:0') train_epoch_loss=tensor(1.2480, device='cuda:0') eval_ppl=tensor(3.5653, device='cuda:0') eval_epoch_loss=tensor(1.2713, device='cuda:0')\n"
     ]
    },
    {
     "name": "stderr",
     "output_type": "stream",
     "text": [
      "100%|██████████| 7/7 [00:02<00:00,  2.66it/s]\n",
      "100%|██████████| 7/7 [00:01<00:00,  5.85it/s]\n"
     ]
    },
    {
     "name": "stdout",
     "output_type": "stream",
     "text": [
      "epoch=449: train_ppl=tensor(3.4336, device='cuda:0') train_epoch_loss=tensor(1.2336, device='cuda:0') eval_ppl=tensor(3.4887, device='cuda:0') eval_epoch_loss=tensor(1.2495, device='cuda:0')\n"
     ]
    },
    {
     "name": "stderr",
     "output_type": "stream",
     "text": [
      "100%|██████████| 7/7 [00:02<00:00,  2.64it/s]\n",
      "100%|██████████| 7/7 [00:01<00:00,  5.78it/s]\n"
     ]
    },
    {
     "name": "stdout",
     "output_type": "stream",
     "text": [
      "epoch=450: train_ppl=tensor(3.5128, device='cuda:0') train_epoch_loss=tensor(1.2564, device='cuda:0') eval_ppl=tensor(3.5288, device='cuda:0') eval_epoch_loss=tensor(1.2609, device='cuda:0')\n"
     ]
    },
    {
     "name": "stderr",
     "output_type": "stream",
     "text": [
      "100%|██████████| 7/7 [00:02<00:00,  2.62it/s]\n",
      "100%|██████████| 7/7 [00:01<00:00,  5.91it/s]\n"
     ]
    },
    {
     "name": "stdout",
     "output_type": "stream",
     "text": [
      "epoch=451: train_ppl=tensor(3.4649, device='cuda:0') train_epoch_loss=tensor(1.2427, device='cuda:0') eval_ppl=tensor(3.4417, device='cuda:0') eval_epoch_loss=tensor(1.2360, device='cuda:0')\n"
     ]
    },
    {
     "name": "stderr",
     "output_type": "stream",
     "text": [
      "100%|██████████| 7/7 [00:02<00:00,  2.66it/s]\n",
      "100%|██████████| 7/7 [00:01<00:00,  5.75it/s]\n"
     ]
    },
    {
     "name": "stdout",
     "output_type": "stream",
     "text": [
      "epoch=452: train_ppl=tensor(3.4673, device='cuda:0') train_epoch_loss=tensor(1.2434, device='cuda:0') eval_ppl=tensor(3.5282, device='cuda:0') eval_epoch_loss=tensor(1.2608, device='cuda:0')\n"
     ]
    },
    {
     "name": "stderr",
     "output_type": "stream",
     "text": [
      "100%|██████████| 7/7 [00:02<00:00,  2.67it/s]\n",
      "100%|██████████| 7/7 [00:01<00:00,  5.90it/s]\n"
     ]
    },
    {
     "name": "stdout",
     "output_type": "stream",
     "text": [
      "epoch=453: train_ppl=tensor(3.3871, device='cuda:0') train_epoch_loss=tensor(1.2200, device='cuda:0') eval_ppl=tensor(3.4824, device='cuda:0') eval_epoch_loss=tensor(1.2477, device='cuda:0')\n"
     ]
    },
    {
     "name": "stderr",
     "output_type": "stream",
     "text": [
      "100%|██████████| 7/7 [00:02<00:00,  2.67it/s]\n",
      "100%|██████████| 7/7 [00:01<00:00,  5.91it/s]\n"
     ]
    },
    {
     "name": "stdout",
     "output_type": "stream",
     "text": [
      "epoch=454: train_ppl=tensor(3.3687, device='cuda:0') train_epoch_loss=tensor(1.2145, device='cuda:0') eval_ppl=tensor(3.3763, device='cuda:0') eval_epoch_loss=tensor(1.2168, device='cuda:0')\n"
     ]
    },
    {
     "name": "stderr",
     "output_type": "stream",
     "text": [
      "100%|██████████| 7/7 [00:02<00:00,  2.66it/s]\n",
      "100%|██████████| 7/7 [00:01<00:00,  5.88it/s]\n"
     ]
    },
    {
     "name": "stdout",
     "output_type": "stream",
     "text": [
      "epoch=455: train_ppl=tensor(3.2750, device='cuda:0') train_epoch_loss=tensor(1.1863, device='cuda:0') eval_ppl=tensor(3.4310, device='cuda:0') eval_epoch_loss=tensor(1.2328, device='cuda:0')\n"
     ]
    },
    {
     "name": "stderr",
     "output_type": "stream",
     "text": [
      "100%|██████████| 7/7 [00:02<00:00,  2.68it/s]\n",
      "100%|██████████| 7/7 [00:01<00:00,  5.84it/s]\n"
     ]
    },
    {
     "name": "stdout",
     "output_type": "stream",
     "text": [
      "epoch=456: train_ppl=tensor(3.4826, device='cuda:0') train_epoch_loss=tensor(1.2478, device='cuda:0') eval_ppl=tensor(3.2764, device='cuda:0') eval_epoch_loss=tensor(1.1867, device='cuda:0')\n"
     ]
    },
    {
     "name": "stderr",
     "output_type": "stream",
     "text": [
      "100%|██████████| 7/7 [00:02<00:00,  2.68it/s]\n",
      "100%|██████████| 7/7 [00:01<00:00,  5.31it/s]\n"
     ]
    },
    {
     "name": "stdout",
     "output_type": "stream",
     "text": [
      "epoch=457: train_ppl=tensor(3.5206, device='cuda:0') train_epoch_loss=tensor(1.2586, device='cuda:0') eval_ppl=tensor(3.2116, device='cuda:0') eval_epoch_loss=tensor(1.1668, device='cuda:0')\n"
     ]
    },
    {
     "name": "stderr",
     "output_type": "stream",
     "text": [
      "100%|██████████| 7/7 [00:02<00:00,  2.44it/s]\n",
      "100%|██████████| 7/7 [00:05<00:00,  1.21it/s]\n"
     ]
    },
    {
     "name": "stdout",
     "output_type": "stream",
     "text": [
      "epoch=458: train_ppl=tensor(3.7897, device='cuda:0') train_epoch_loss=tensor(1.3323, device='cuda:0') eval_ppl=tensor(4.1006, device='cuda:0') eval_epoch_loss=tensor(1.4111, device='cuda:0')\n"
     ]
    },
    {
     "name": "stderr",
     "output_type": "stream",
     "text": [
      "100%|██████████| 7/7 [00:07<00:00,  1.01s/it]\n",
      "100%|██████████| 7/7 [00:03<00:00,  1.96it/s]\n"
     ]
    },
    {
     "name": "stdout",
     "output_type": "stream",
     "text": [
      "epoch=459: train_ppl=tensor(4.4814, device='cuda:0') train_epoch_loss=tensor(1.4999, device='cuda:0') eval_ppl=tensor(4.9567, device='cuda:0') eval_epoch_loss=tensor(1.6007, device='cuda:0')\n"
     ]
    },
    {
     "name": "stderr",
     "output_type": "stream",
     "text": [
      "100%|██████████| 7/7 [00:08<00:00,  1.24s/it]\n",
      "100%|██████████| 7/7 [00:03<00:00,  2.11it/s]\n"
     ]
    },
    {
     "name": "stdout",
     "output_type": "stream",
     "text": [
      "epoch=460: train_ppl=tensor(4.6895, device='cuda:0') train_epoch_loss=tensor(1.5453, device='cuda:0') eval_ppl=tensor(3.5188, device='cuda:0') eval_epoch_loss=tensor(1.2581, device='cuda:0')\n"
     ]
    },
    {
     "name": "stderr",
     "output_type": "stream",
     "text": [
      "100%|██████████| 7/7 [00:04<00:00,  1.63it/s]\n",
      "100%|██████████| 7/7 [00:01<00:00,  3.75it/s]\n"
     ]
    },
    {
     "name": "stdout",
     "output_type": "stream",
     "text": [
      "epoch=461: train_ppl=tensor(3.5697, device='cuda:0') train_epoch_loss=tensor(1.2725, device='cuda:0') eval_ppl=tensor(3.3189, device='cuda:0') eval_epoch_loss=tensor(1.1996, device='cuda:0')\n"
     ]
    },
    {
     "name": "stderr",
     "output_type": "stream",
     "text": [
      "100%|██████████| 7/7 [00:03<00:00,  1.93it/s]\n",
      "100%|██████████| 7/7 [00:01<00:00,  5.03it/s]\n"
     ]
    },
    {
     "name": "stdout",
     "output_type": "stream",
     "text": [
      "epoch=462: train_ppl=tensor(3.2057, device='cuda:0') train_epoch_loss=tensor(1.1649, device='cuda:0') eval_ppl=tensor(3.3006, device='cuda:0') eval_epoch_loss=tensor(1.1941, device='cuda:0')\n"
     ]
    },
    {
     "name": "stderr",
     "output_type": "stream",
     "text": [
      "100%|██████████| 7/7 [00:03<00:00,  2.31it/s]\n",
      "100%|██████████| 7/7 [00:01<00:00,  4.66it/s]\n"
     ]
    },
    {
     "name": "stdout",
     "output_type": "stream",
     "text": [
      "epoch=463: train_ppl=tensor(3.4236, device='cuda:0') train_epoch_loss=tensor(1.2307, device='cuda:0') eval_ppl=tensor(3.3208, device='cuda:0') eval_epoch_loss=tensor(1.2002, device='cuda:0')\n"
     ]
    },
    {
     "name": "stderr",
     "output_type": "stream",
     "text": [
      "100%|██████████| 7/7 [00:08<00:00,  1.27s/it]\n",
      "100%|██████████| 7/7 [00:09<00:00,  1.32s/it]\n"
     ]
    },
    {
     "name": "stdout",
     "output_type": "stream",
     "text": [
      "epoch=464: train_ppl=tensor(3.5100, device='cuda:0') train_epoch_loss=tensor(1.2556, device='cuda:0') eval_ppl=tensor(3.2613, device='cuda:0') eval_epoch_loss=tensor(1.1821, device='cuda:0')\n"
     ]
    },
    {
     "name": "stderr",
     "output_type": "stream",
     "text": [
      "100%|██████████| 7/7 [00:15<00:00,  2.20s/it]\n",
      "100%|██████████| 7/7 [00:04<00:00,  1.73it/s]\n"
     ]
    },
    {
     "name": "stdout",
     "output_type": "stream",
     "text": [
      "epoch=465: train_ppl=tensor(3.0378, device='cuda:0') train_epoch_loss=tensor(1.1111, device='cuda:0') eval_ppl=tensor(3.7286, device='cuda:0') eval_epoch_loss=tensor(1.3160, device='cuda:0')\n"
     ]
    },
    {
     "name": "stderr",
     "output_type": "stream",
     "text": [
      "100%|██████████| 7/7 [00:14<00:00,  2.10s/it]\n",
      "  0%|          | 0/7 [00:01<?, ?it/s]\n"
     ]
    },
    {
     "ename": "KeyboardInterrupt",
     "evalue": "",
     "output_type": "error",
     "traceback": [
      "\u001b[1;31m---------------------------------------------------------------------------\u001b[0m",
      "\u001b[1;31mKeyboardInterrupt\u001b[0m                         Traceback (most recent call last)",
      "Cell \u001b[1;32mIn[10], line 29\u001b[0m\n\u001b[0;32m     26\u001b[0m     loss \u001b[39m=\u001b[39m outputs\u001b[39m.\u001b[39mloss\n\u001b[0;32m     27\u001b[0m     eval_loss \u001b[39m+\u001b[39m\u001b[39m=\u001b[39m loss\u001b[39m.\u001b[39mdetach()\u001b[39m.\u001b[39mfloat()\n\u001b[0;32m     28\u001b[0m     eval_preds\u001b[39m.\u001b[39mextend(\n\u001b[1;32m---> 29\u001b[0m         tokenizer\u001b[39m.\u001b[39mbatch_decode(torch\u001b[39m.\u001b[39;49margmax(outputs\u001b[39m.\u001b[39;49mlogits, \u001b[39m-\u001b[39;49m\u001b[39m1\u001b[39;49m)\u001b[39m.\u001b[39;49mdetach()\u001b[39m.\u001b[39;49mcpu()\u001b[39m.\u001b[39mnumpy(), skip_special_tokens\u001b[39m=\u001b[39m\u001b[39mTrue\u001b[39;00m)\n\u001b[0;32m     30\u001b[0m     )\n\u001b[0;32m     32\u001b[0m eval_epoch_loss \u001b[39m=\u001b[39m eval_loss \u001b[39m/\u001b[39m \u001b[39mlen\u001b[39m(eval_dataloader)\n\u001b[0;32m     33\u001b[0m eval_ppl \u001b[39m=\u001b[39m torch\u001b[39m.\u001b[39mexp(eval_epoch_loss)\n",
      "\u001b[1;31mKeyboardInterrupt\u001b[0m: "
     ]
    }
   ],
   "source": [
    "# training and evaluation\n",
    "model = model.to(device)\n",
    "\n",
    "for epoch in range(num_epochs):\n",
    "    model.train()\n",
    "    total_loss = 0\n",
    "    for step, batch in enumerate(tqdm(train_dataloader)):\n",
    "        batch = {k: v.to(device) for k, v in batch.items()}\n",
    "        #         print(batch)\n",
    "        #         print(batch[\"input_ids\"].shape)\n",
    "        outputs = model(**batch)\n",
    "        loss = outputs.loss\n",
    "        total_loss += loss.detach().float()\n",
    "        loss.backward()\n",
    "        optimizer.step()\n",
    "        lr_scheduler.step()\n",
    "        optimizer.zero_grad()\n",
    "\n",
    "    model.eval()\n",
    "    eval_loss = 0\n",
    "    eval_preds = []\n",
    "    for step, batch in enumerate(tqdm(eval_dataloader)):\n",
    "        batch = {k: v.to(device) for k, v in batch.items()}\n",
    "        with torch.no_grad():\n",
    "            outputs = model(**batch)\n",
    "        loss = outputs.loss\n",
    "        eval_loss += loss.detach().float()\n",
    "        eval_preds.extend(\n",
    "            tokenizer.batch_decode(torch.argmax(outputs.logits, -1).detach().cpu().numpy(), skip_special_tokens=True)\n",
    "        )\n",
    "\n",
    "    eval_epoch_loss = eval_loss / len(eval_dataloader)\n",
    "    eval_ppl = torch.exp(eval_epoch_loss)\n",
    "    train_epoch_loss = total_loss / len(train_dataloader)\n",
    "    train_ppl = torch.exp(train_epoch_loss)\n",
    "    print(f\"{epoch=}: {train_ppl=} {train_epoch_loss=} {eval_ppl=} {eval_epoch_loss=}\")"
   ]
  },
  {
   "cell_type": "code",
   "execution_count": 11,
   "metadata": {},
   "outputs": [
    {
     "data": {
      "text/plain": [
       "1"
      ]
     },
     "execution_count": 11,
     "metadata": {},
     "output_type": "execute_result"
    }
   ],
   "source": [
    "1"
   ]
  },
  {
   "cell_type": "code",
   "execution_count": 12,
   "metadata": {},
   "outputs": [
    {
     "ename": "ZeroDivisionError",
     "evalue": "division by zero",
     "output_type": "error",
     "traceback": [
      "\u001b[1;31m---------------------------------------------------------------------------\u001b[0m",
      "\u001b[1;31mZeroDivisionError\u001b[0m                         Traceback (most recent call last)",
      "Cell \u001b[1;32mIn[12], line 8\u001b[0m\n\u001b[0;32m      6\u001b[0m         correct \u001b[39m+\u001b[39m\u001b[39m=\u001b[39m \u001b[39m1\u001b[39m\n\u001b[0;32m      7\u001b[0m     total \u001b[39m+\u001b[39m\u001b[39m=\u001b[39m \u001b[39m1\u001b[39m\n\u001b[1;32m----> 8\u001b[0m accuracy \u001b[39m=\u001b[39m correct \u001b[39m/\u001b[39;49m total \u001b[39m*\u001b[39m \u001b[39m100\u001b[39m\n\u001b[0;32m      9\u001b[0m \u001b[39mprint\u001b[39m(\u001b[39mf\u001b[39m\u001b[39m\"\u001b[39m\u001b[39m{\u001b[39;00maccuracy\u001b[39m=}\u001b[39;00m\u001b[39m % on the evaluation dataset\u001b[39m\u001b[39m\"\u001b[39m)\n\u001b[0;32m     10\u001b[0m \u001b[39mprint\u001b[39m(\u001b[39mf\u001b[39m\u001b[39m\"\u001b[39m\u001b[39m{\u001b[39;00meval_preds[:\u001b[39m10\u001b[39m]\u001b[39m=}\u001b[39;00m\u001b[39m\"\u001b[39m)\n",
      "\u001b[1;31mZeroDivisionError\u001b[0m: division by zero"
     ]
    }
   ],
   "source": [
    "# print accuracy\n",
    "correct = 0\n",
    "total = 0\n",
    "for pred, true in zip(eval_preds, dataset[\"train\"][\"text_label\"]):\n",
    "    if pred.strip() == true.strip():\n",
    "        correct += 1\n",
    "    total += 1\n",
    "accuracy = correct / total * 100\n",
    "print(f\"{accuracy=} % on the evaluation dataset\")\n",
    "print(f\"{eval_preds[:10]=}\")\n",
    "print(f\"{dataset['train']['text_label'][:10]=}\")"
   ]
  },
  {
   "cell_type": "code",
   "execution_count": 13,
   "metadata": {},
   "outputs": [
    {
     "name": "stdout",
     "output_type": "stream",
     "text": [
      "@mombot @mcrartgallery This is the most fucking stupid thing I've ever heard of. Next step is make women wear burka… https://t.co/m8dfs0isUb\n",
      "{'input_ids': tensor([[227985,   5484,    915,   2566,     80,   2068,    479,   2566,     80,\n",
      "           1376,    878, 147587,   3904,    632,    368,   6084,  65673,  78851,\n",
      "          11736,  15527,  19082,  33151,    461,     17,  45575,  17887,    632,\n",
      "           5219,  14216,  68870,   5967,   1841,   4346,  87843,     17,   1594,\n",
      "          14512,     27,     71,   8184,     19,    290,  63748,  77658,    915,\n",
      "            210]]), 'attention_mask': tensor([[1, 1, 1, 1, 1, 1, 1, 1, 1, 1, 1, 1, 1, 1, 1, 1, 1, 1, 1, 1, 1, 1, 1, 1,\n",
      "         1, 1, 1, 1, 1, 1, 1, 1, 1, 1, 1, 1, 1, 1, 1, 1, 1, 1, 1, 1, 1, 1]])}\n",
      "tensor([[227985,   5484,    915,   2566,     80,   2068,    479,   2566,     80,\n",
      "           1376,    878, 147587,   3904,    632,    368,   6084,  65673,  78851,\n",
      "          11736,  15527,  19082,  33151,    461,     17,  45575,  17887,    632,\n",
      "           5219,  14216,  68870,   5967,   1841,   4346,  87843,     17,   1594,\n",
      "          14512,     27,     71,   8184,     19,    290,  63748,  77658,    915,\n",
      "            210,   1936,   1936,   1936,   1936,   1936,   1936,   1936,   1936,\n",
      "           1936,   1936]], device='cuda:0')\n",
      "[\"Tweet text : @mombot @mcrartgallery This is the most fucking stupid thing I've ever heard of. Next step is make women wear burka… https://t.co/m8dfs0isUb Label : nononononononononono\"]\n"
     ]
    }
   ],
   "source": [
    "model.eval()\n",
    "i = 7\n",
    "inputs = tokenizer(f'{text_column} : {dataset[\"test\"][i][\"Tweet text\"]} Label : ', return_tensors=\"pt\")\n",
    "print(dataset[\"test\"][i][\"Tweet text\"])\n",
    "print(inputs)\n",
    "\n",
    "with torch.no_grad():\n",
    "    inputs = {k: v.to(device) for k, v in inputs.items()}\n",
    "    outputs = model.generate(\n",
    "        input_ids=inputs[\"input_ids\"], attention_mask=inputs[\"attention_mask\"], max_new_tokens=10, eos_token_id=3\n",
    "    )\n",
    "    print(outputs)\n",
    "    print(tokenizer.batch_decode(outputs.detach().cpu().numpy(), skip_special_tokens=True))"
   ]
  },
  {
   "cell_type": "code",
   "execution_count": 14,
   "metadata": {},
   "outputs": [],
   "source": [
    "# saving model\n",
    "peft_model_id = f\"{model_name_or_path}_{peft_config.peft_type}_{peft_config.task_type}\"\n",
    "model.save_pretrained(peft_model_id)"
   ]
  },
  {
   "cell_type": "code",
   "execution_count": 15,
   "metadata": {},
   "outputs": [
    {
     "name": "stdout",
     "output_type": "stream",
     "text": [
      "bigscience/bloomz-1b7_LORA_CAUSAL_LM\n"
     ]
    }
   ],
   "source": [
    "print(peft_model_id)"
   ]
  },
  {
   "cell_type": "code",
   "execution_count": 16,
   "metadata": {},
   "outputs": [
    {
     "name": "stderr",
     "output_type": "stream",
     "text": [
      "'du' �����ڲ����ⲿ���Ҳ���ǿ����еĳ���\n",
      "���������ļ���\n"
     ]
    }
   ],
   "source": [
    "ckpt = f\"{peft_model_id}/adapter_model.bin\"\n",
    "!du -h $ckpt"
   ]
  },
  {
   "cell_type": "code",
   "execution_count": null,
   "metadata": {},
   "outputs": [],
   "source": []
  },
  {
   "cell_type": "code",
   "execution_count": 5,
   "metadata": {},
   "outputs": [
    {
     "name": "stderr",
     "output_type": "stream",
     "text": [
      "c:\\Users\\1\\miniconda3\\envs\\LLM_py310\\lib\\site-packages\\peft\\tuners\\lora.py:173: UserWarning: fan_in_fan_out is set to True but the target module is not a Conv1D. Setting fan_in_fan_out to False.\n",
      "  warnings.warn(\n"
     ]
    }
   ],
   "source": [
    "from peft import PeftModel, PeftConfig,LoraConfig\n",
    "\n",
    "peft_config = LoraConfig(task_type=TaskType.CAUSAL_LM, inference_mode=Trhe, r=8, lora_alpha=32, lora_dropout=0.1)\n",
    "\n",
    "\n",
    "peft_model_id = f\"{model_name_or_path}_{peft_config.peft_type}_{peft_config.task_type}\"\n",
    "\n",
    "config = PeftConfig.from_pretrained(peft_model_id)\n",
    "model_ft = AutoModelForCausalLM.from_pretrained(config.base_model_name_or_path)\n",
    "model_ft = PeftModel.from_pretrained(model_ft, peft_model_id)\n"
   ]
  },
  {
   "cell_type": "code",
   "execution_count": 7,
   "metadata": {},
   "outputs": [
    {
     "data": {
      "text/plain": [
       "PeftModelForCausalLM(\n",
       "  (base_model): LoraModel(\n",
       "    (model): BloomForCausalLM(\n",
       "      (transformer): BloomModel(\n",
       "        (word_embeddings): Embedding(250880, 2048)\n",
       "        (word_embeddings_layernorm): LayerNorm((2048,), eps=1e-05, elementwise_affine=True)\n",
       "        (h): ModuleList(\n",
       "          (0-23): 24 x BloomBlock(\n",
       "            (input_layernorm): LayerNorm((2048,), eps=1e-05, elementwise_affine=True)\n",
       "            (self_attention): BloomAttention(\n",
       "              (query_key_value): MergedLinear(\n",
       "                in_features=2048, out_features=6144, bias=True\n",
       "                (lora_dropout): Dropout(p=0.1, inplace=False)\n",
       "                (lora_A): Linear(in_features=2048, out_features=16, bias=False)\n",
       "                (lora_B): Conv1d(16, 4096, kernel_size=(1,), stride=(1,), groups=2, bias=False)\n",
       "              )\n",
       "              (dense): Linear(in_features=2048, out_features=2048, bias=True)\n",
       "              (attention_dropout): Dropout(p=0.0, inplace=False)\n",
       "            )\n",
       "            (post_attention_layernorm): LayerNorm((2048,), eps=1e-05, elementwise_affine=True)\n",
       "            (mlp): BloomMLP(\n",
       "              (dense_h_to_4h): Linear(in_features=2048, out_features=8192, bias=True)\n",
       "              (gelu_impl): BloomGelu()\n",
       "              (dense_4h_to_h): Linear(in_features=8192, out_features=2048, bias=True)\n",
       "            )\n",
       "          )\n",
       "        )\n",
       "        (ln_f): LayerNorm((2048,), eps=1e-05, elementwise_affine=True)\n",
       "      )\n",
       "      (lm_head): Linear(in_features=2048, out_features=250880, bias=False)\n",
       "    )\n",
       "  )\n",
       ")"
      ]
     },
     "execution_count": 7,
     "metadata": {},
     "output_type": "execute_result"
    }
   ],
   "source": [
    "model"
   ]
  },
  {
   "cell_type": "code",
   "execution_count": 8,
   "metadata": {},
   "outputs": [
    {
     "ename": "RuntimeError",
     "evalue": "Expected 4-dimensional input for 4-dimensional weight [4096, 8, 1, 1], but got 3-dimensional input of size [1, 16, 2048] instead",
     "output_type": "error",
     "traceback": [
      "\u001b[1;31m---------------------------------------------------------------------------\u001b[0m",
      "\u001b[1;31mRuntimeError\u001b[0m                              Traceback (most recent call last)",
      "Cell \u001b[1;32mIn[8], line 2\u001b[0m\n\u001b[0;32m      1\u001b[0m \u001b[39m# model.to(device)\u001b[39;00m\n\u001b[1;32m----> 2\u001b[0m model\u001b[39m.\u001b[39;49meval()\n\u001b[0;32m      3\u001b[0m tokenizer \u001b[39m=\u001b[39m AutoTokenizer\u001b[39m.\u001b[39mfrom_pretrained(model_name_or_path)\n\u001b[0;32m      5\u001b[0m i \u001b[39m=\u001b[39m \u001b[39m4\u001b[39m\n",
      "File \u001b[1;32mc:\\Users\\1\\miniconda3\\envs\\LLM_py310\\lib\\site-packages\\torch\\nn\\modules\\module.py:2307\u001b[0m, in \u001b[0;36mModule.eval\u001b[1;34m(self)\u001b[0m\n\u001b[0;32m   2291\u001b[0m \u001b[39mdef\u001b[39;00m \u001b[39meval\u001b[39m(\u001b[39mself\u001b[39m: T) \u001b[39m-\u001b[39m\u001b[39m>\u001b[39m T:\n\u001b[0;32m   2292\u001b[0m \u001b[39m    \u001b[39m\u001b[39mr\u001b[39m\u001b[39m\"\"\"Sets the module in evaluation mode.\u001b[39;00m\n\u001b[0;32m   2293\u001b[0m \n\u001b[0;32m   2294\u001b[0m \u001b[39m    This has any effect only on certain modules. See documentations of\u001b[39;00m\n\u001b[1;32m   (...)\u001b[0m\n\u001b[0;32m   2305\u001b[0m \u001b[39m        Module: self\u001b[39;00m\n\u001b[0;32m   2306\u001b[0m \u001b[39m    \"\"\"\u001b[39;00m\n\u001b[1;32m-> 2307\u001b[0m     \u001b[39mreturn\u001b[39;00m \u001b[39mself\u001b[39;49m\u001b[39m.\u001b[39;49mtrain(\u001b[39mFalse\u001b[39;49;00m)\n",
      "File \u001b[1;32mc:\\Users\\1\\miniconda3\\envs\\LLM_py310\\lib\\site-packages\\torch\\nn\\modules\\module.py:2288\u001b[0m, in \u001b[0;36mModule.train\u001b[1;34m(self, mode)\u001b[0m\n\u001b[0;32m   2286\u001b[0m \u001b[39mself\u001b[39m\u001b[39m.\u001b[39mtraining \u001b[39m=\u001b[39m mode\n\u001b[0;32m   2287\u001b[0m \u001b[39mfor\u001b[39;00m module \u001b[39min\u001b[39;00m \u001b[39mself\u001b[39m\u001b[39m.\u001b[39mchildren():\n\u001b[1;32m-> 2288\u001b[0m     module\u001b[39m.\u001b[39;49mtrain(mode)\n\u001b[0;32m   2289\u001b[0m \u001b[39mreturn\u001b[39;00m \u001b[39mself\u001b[39m\n",
      "File \u001b[1;32mc:\\Users\\1\\miniconda3\\envs\\LLM_py310\\lib\\site-packages\\torch\\nn\\modules\\module.py:2288\u001b[0m, in \u001b[0;36mModule.train\u001b[1;34m(self, mode)\u001b[0m\n\u001b[0;32m   2286\u001b[0m \u001b[39mself\u001b[39m\u001b[39m.\u001b[39mtraining \u001b[39m=\u001b[39m mode\n\u001b[0;32m   2287\u001b[0m \u001b[39mfor\u001b[39;00m module \u001b[39min\u001b[39;00m \u001b[39mself\u001b[39m\u001b[39m.\u001b[39mchildren():\n\u001b[1;32m-> 2288\u001b[0m     module\u001b[39m.\u001b[39;49mtrain(mode)\n\u001b[0;32m   2289\u001b[0m \u001b[39mreturn\u001b[39;00m \u001b[39mself\u001b[39m\n",
      "    \u001b[1;31m[... skipping similar frames: Module.train at line 2288 (4 times)]\u001b[0m\n",
      "File \u001b[1;32mc:\\Users\\1\\miniconda3\\envs\\LLM_py310\\lib\\site-packages\\torch\\nn\\modules\\module.py:2288\u001b[0m, in \u001b[0;36mModule.train\u001b[1;34m(self, mode)\u001b[0m\n\u001b[0;32m   2286\u001b[0m \u001b[39mself\u001b[39m\u001b[39m.\u001b[39mtraining \u001b[39m=\u001b[39m mode\n\u001b[0;32m   2287\u001b[0m \u001b[39mfor\u001b[39;00m module \u001b[39min\u001b[39;00m \u001b[39mself\u001b[39m\u001b[39m.\u001b[39mchildren():\n\u001b[1;32m-> 2288\u001b[0m     module\u001b[39m.\u001b[39;49mtrain(mode)\n\u001b[0;32m   2289\u001b[0m \u001b[39mreturn\u001b[39;00m \u001b[39mself\u001b[39m\n",
      "File \u001b[1;32mc:\\Users\\1\\miniconda3\\envs\\LLM_py310\\lib\\site-packages\\peft\\tuners\\lora.py:417\u001b[0m, in \u001b[0;36mMergedLinear.train\u001b[1;34m(self, mode)\u001b[0m\n\u001b[0;32m    414\u001b[0m \u001b[39mif\u001b[39;00m \u001b[39mnot\u001b[39;00m mode \u001b[39mand\u001b[39;00m \u001b[39mself\u001b[39m\u001b[39m.\u001b[39mmerge_weights \u001b[39mand\u001b[39;00m \u001b[39mnot\u001b[39;00m \u001b[39mself\u001b[39m\u001b[39m.\u001b[39mmerged:\n\u001b[0;32m    415\u001b[0m     \u001b[39m# Merge the weights and mark it\u001b[39;00m\n\u001b[0;32m    416\u001b[0m     \u001b[39mif\u001b[39;00m \u001b[39mself\u001b[39m\u001b[39m.\u001b[39mr \u001b[39m>\u001b[39m \u001b[39m0\u001b[39m \u001b[39mand\u001b[39;00m \u001b[39many\u001b[39m(\u001b[39mself\u001b[39m\u001b[39m.\u001b[39menable_lora):\n\u001b[1;32m--> 417\u001b[0m         delta_w \u001b[39m=\u001b[39m F\u001b[39m.\u001b[39;49mconv1d(\n\u001b[0;32m    418\u001b[0m             \u001b[39mself\u001b[39;49m\u001b[39m.\u001b[39;49mlora_A\u001b[39m.\u001b[39;49mweight\u001b[39m.\u001b[39;49mdata\u001b[39m.\u001b[39;49munsqueeze(\u001b[39m0\u001b[39;49m),\n\u001b[0;32m    419\u001b[0m             \u001b[39mself\u001b[39;49m\u001b[39m.\u001b[39;49mlora_B\u001b[39m.\u001b[39;49mweight\u001b[39m.\u001b[39;49mdata\u001b[39m.\u001b[39;49munsqueeze(\u001b[39m-\u001b[39;49m\u001b[39m1\u001b[39;49m),\n\u001b[0;32m    420\u001b[0m             groups\u001b[39m=\u001b[39;49m\u001b[39msum\u001b[39;49m(\u001b[39mself\u001b[39;49m\u001b[39m.\u001b[39;49menable_lora),\n\u001b[0;32m    421\u001b[0m         )\u001b[39m.\u001b[39msqueeze(\u001b[39m0\u001b[39m)\n\u001b[0;32m    422\u001b[0m         \u001b[39mself\u001b[39m\u001b[39m.\u001b[39mweight\u001b[39m.\u001b[39mdata \u001b[39m+\u001b[39m\u001b[39m=\u001b[39m \u001b[39mself\u001b[39m\u001b[39m.\u001b[39mzero_pad(transpose(delta_w \u001b[39m*\u001b[39m \u001b[39mself\u001b[39m\u001b[39m.\u001b[39mscaling, \u001b[39mself\u001b[39m\u001b[39m.\u001b[39mfan_in_fan_out))\n\u001b[0;32m    423\u001b[0m     \u001b[39mself\u001b[39m\u001b[39m.\u001b[39mmerged \u001b[39m=\u001b[39m \u001b[39mTrue\u001b[39;00m\n",
      "\u001b[1;31mRuntimeError\u001b[0m: Expected 4-dimensional input for 4-dimensional weight [4096, 8, 1, 1], but got 3-dimensional input of size [1, 16, 2048] instead"
     ]
    }
   ],
   "source": [
    "model_ft.to(device)\n",
    "model_ft.eval()\n",
    "tokenizer = AutoTokenizer.from_pretrained(model_name_or_path)\n",
    "\n",
    "i = 4\n",
    "inputs = tokenizer(f'{text_column} : {dataset[\"test\"][i][\"Tweet text\"]} Label : ', return_tensors=\"pt\")\n",
    "print(dataset[\"test\"][i][\"Tweet text\"])\n",
    "print(inputs)\n",
    "\n",
    "with torch.no_grad():\n",
    "    inputs = {k: v.to(device) for k, v in inputs.items()}\n",
    "    outputs = model_ft.generate(\n",
    "        input_ids=inputs[\"input_ids\"], attention_mask=inputs[\"attention_mask\"], max_new_tokens=10, eos_token_id=3\n",
    "    )\n",
    "    print(outputs)\n",
    "    print(tokenizer.batch_decode(outputs.detach().cpu().numpy(), skip_special_tokens=True))"
   ]
  },
  {
   "cell_type": "code",
   "execution_count": null,
   "metadata": {},
   "outputs": [],
   "source": []
  }
 ],
 "metadata": {
  "kernelspec": {
   "display_name": "LLM_py310",
   "language": "python",
   "name": "python3"
  },
  "language_info": {
   "codemirror_mode": {
    "name": "ipython",
    "version": 3
   },
   "file_extension": ".py",
   "mimetype": "text/x-python",
   "name": "python",
   "nbconvert_exporter": "python",
   "pygments_lexer": "ipython3",
   "version": "3.10.0"
  },
  "orig_nbformat": 4
 },
 "nbformat": 4,
 "nbformat_minor": 2
}
